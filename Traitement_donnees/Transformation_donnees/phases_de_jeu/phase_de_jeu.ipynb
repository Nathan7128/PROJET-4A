{
 "cells": [
  {
   "cell_type": "markdown",
   "metadata": {},
   "source": [
    "Le but de cette partie du projet est de distinguer des phases de jeu durant le match pour ensuite déterminer durant quelle phase de jeu chaque centre a été effectué. On va s'intéresser aux phases de jeu Attaque placée cas n1 et Transition cas n1"
   ]
  },
  {
   "cell_type": "markdown",
   "metadata": {},
   "source": [
    "Dans cette partie, on va étudier le type de phase de jeu numéro 1 : l'attaque placée numéro 1. Cette phase de jeu correspond à une séquence qui débute par une remise en jeu et se termine par une perte du ballon ou un arrêt du jeu."
   ]
  },
  {
   "cell_type": "markdown",
   "metadata": {},
   "source": [
    "## Attaque placée Numéro 1"
   ]
  },
  {
   "cell_type": "code",
   "execution_count": 1,
   "metadata": {},
   "outputs": [
    {
     "name": "stdout",
     "output_type": "stream",
     "text": [
      "Colonne 'phase_jeu' ajoutée.\n"
     ]
    }
   ],
   "source": [
    "import sqlite3\n",
    "\n",
    "# On se connecte à la base de données générée par la partie Importation\n",
    "connect = sqlite3.connect(\"../../Importation_donnees/raw-database.db\")\n",
    "cursor = connect.cursor()\n",
    "\n",
    "# On ajoute la colonne phase_jeu si elle n'existe pas encore, sinon on la réinitialise à 0\n",
    "try:\n",
    "    cursor.execute(\"ALTER TABLE events ADD COLUMN phase_jeu INTEGER DEFAULT 0\")\n",
    "    connect.commit()\n",
    "    print(\"Colonne 'phase_jeu' ajoutée.\")\n",
    "except sqlite3.OperationalError:\n",
    "    print(\"La colonne 'phase_jeu' existe déjà, réinitialisation des valeurs à 0.\")\n",
    "    cursor.execute(\"UPDATE events SET phase_jeu = 0\")\n",
    "    connect.commit()\n"
   ]
  },
  {
   "cell_type": "code",
   "execution_count": 202,
   "metadata": {},
   "outputs": [],
   "source": [
    "# Dans evenements_remise_en_jeu et evenement_arbitre on met tous les types d'événements qui sont considérés comme des remises en jeu.\n",
    "# On a séparé les deux car les evenements_remise_en_jeu sont des pass_type alors que \"Referee Ball-Drop\" présent dans evenement_arbitre est présent dans la colonne type uniquement\n",
    "# On a donc séparé en deux pour que ce soit plus simple de vérifier si un événement est d'un de ces types \n",
    "\n",
    "evenements_remise_en_jeu = {\"Throw-in\", \"Kick Off\", \"Free Kick\", \"Corner\", \"Goal Kick\"}\n",
    "evenement_arbitre = \"Referee Ball-Drop\"\n",
    "\n",
    "# On crée une table temporaire pour stocker les événements identifiés car on doit parcourir tous les événements d'une potentielle phase de jeu avant de les marquer comme faisant partie de cette phase de jeu\n",
    "cursor.execute(\"DROP TABLE IF EXISTS phase_jeu_temp\")\n",
    "cursor.execute(\"CREATE TEMP TABLE phase_jeu_temp (event_id TEXT PRIMARY KEY);\")\n",
    "connect.commit()\n",
    "\n",
    "# On récupère tous les événements dans la table events\n",
    "requete = \"\"\"\n",
    "    SELECT event_id, match_id_SB, index_event, type AS type_evenement, pass_type, possession\n",
    "    FROM events\n",
    "\"\"\"\n",
    "cursor.execute(requete)\n",
    "evenements = cursor.fetchall()"
   ]
  },
  {
   "cell_type": "code",
   "execution_count": 203,
   "metadata": {},
   "outputs": [],
   "source": [
    "# On va parcourir tous les événements (les lignes de events) pour détecter la présence de la phase de jeu numéro 1\n",
    "evenements_phase = []\n",
    "match_actuel = None\n",
    "possession_actuelle = None\n",
    "dans_une_phase = False\n",
    "\n",
    "for i, evenement in enumerate(evenements):\n",
    "    event_id, match_id, index_event, type_evenement, pass_type, possession = evenement\n",
    "\n",
    "    # Si on change de match, on réinitialise les variables\n",
    "    if match_id != match_actuel:\n",
    "        match_actuel = match_id\n",
    "        possession_actuelle = None\n",
    "        dans_une_phase = False\n",
    "\n",
    "    # Détection du début d'une phase de jeu (remise en jeu) dans type ou pass_type\n",
    "    # On a renommé type_evenement pour plus de clarté\n",
    "    if (pass_type in evenements_remise_en_jeu) or (type_evenement == evenement_arbitre):\n",
    "        dans_une_phase = True\n",
    "        possession_actuelle = possession\n",
    "\n",
    "    # Si une phase est en cours, on stocke l'event_id\n",
    "    if dans_une_phase and event_id is not None:\n",
    "        evenements_phase.append((event_id,))\n",
    "\n",
    "    # Un changement de possession indique une perte de ballon \n",
    "    # Fin de la phase si la possession change (on n'ajoute pas le dernier événement) ou si c'est le dernier événement du match\n",
    "    if dans_une_phase and (\n",
    "        (possession != possession_actuelle) or (i == len(evenements) - 1)\n",
    "    ):\n",
    "        # On enlève le dernier événement ajouté car il marque la fin de la phase\n",
    "        evenements_phase.pop()\n",
    "        dans_une_phase = False\n",
    "\n"
   ]
  },
  {
   "cell_type": "code",
   "execution_count": 204,
   "metadata": {},
   "outputs": [
    {
     "name": "stdout",
     "output_type": "stream",
     "text": [
      "576940 événements marqués avec phase_jeu = 1.\n"
     ]
    }
   ],
   "source": [
    "# On ajoute les événements détectés dans la table temporaire\n",
    "cursor.execute(\"DROP TABLE IF EXISTS phase_jeu_temp\")\n",
    "cursor.execute(\"CREATE TEMP TABLE phase_jeu_temp (event_id TEXT PRIMARY KEY);\")\n",
    "connect.commit()\n",
    "\n",
    "if evenements_phase:\n",
    "    cursor.executemany(\"INSERT INTO phase_jeu_temp (event_id) VALUES (?)\", evenements_phase)\n",
    "    connect.commit()\n",
    "\n",
    "# On met à jour la colonne phase_jeu en mettant des 1 pour les événements concernés par cette phase de jeu\n",
    "cursor.execute(\"\"\"\n",
    "    UPDATE events SET phase_jeu = 1 \n",
    "    WHERE event_id IN (SELECT event_id FROM phase_jeu_temp);\n",
    "\"\"\")\n",
    "connect.commit()\n",
    "\n",
    "cursor.execute(\"DROP TABLE IF EXISTS phase_jeu_temp\")\n",
    "connect.commit()\n",
    "\n",
    "# On voit le nombre d'événements présents dans la phase de jeu numéro 1\n",
    "print(f\"{len(evenements_phase)} événements marqués avec phase_jeu = 1.\")\n"
   ]
  },
  {
   "cell_type": "markdown",
   "metadata": {},
   "source": [
    "## Calcul du pourcentage d'événements étant dans la phase de jeu numéro 1"
   ]
  },
  {
   "cell_type": "code",
   "execution_count": 205,
   "metadata": {},
   "outputs": [
    {
     "name": "stdout",
     "output_type": "stream",
     "text": [
      "Le pourcentage d'événements présents dans la phase de jeu 1 est de :  51.59 %\n"
     ]
    }
   ],
   "source": [
    "print(\"Le pourcentage d'événements présents dans la phase de jeu 1 est de : \", round(len(evenements_phase)/len(events)*100,2),\"%\")"
   ]
  },
  {
   "cell_type": "markdown",
   "metadata": {},
   "source": [
    "## Calcul du pourcentage de centres étant dans la phase de jeu numéro 1"
   ]
  },
  {
   "cell_type": "code",
   "execution_count": 206,
   "metadata": {},
   "outputs": [
    {
     "name": "stdout",
     "output_type": "stream",
     "text": [
      "Nombre total de centres dans events : 6946\n",
      "Nombre de centres dans phase_jeu = 1 : 4140\n",
      "Le pourcentage de centres faisant partie de la phase 1 est de 59.6 %\n"
     ]
    }
   ],
   "source": [
    "# On récupère les événements utiles pour nos calculs\n",
    "requete = \"\"\"\n",
    "    SELECT pass_cross, pass_type, phase_jeu \n",
    "    FROM events\n",
    "    WHERE pass_cross = 1\n",
    "\"\"\"\n",
    "cursor.execute(requete)\n",
    "evenements = cursor.fetchall()\n",
    "\n",
    "nombre_total_centres = 0\n",
    "centres_phase_1 = 0\n",
    "\n",
    "# Parcours des événements pour compter les centres\n",
    "for pass_cross, pass_type, phase_jeu in evenements:\n",
    "    if pass_type != 'Corner' :\n",
    "        nombre_total_centres += 1\n",
    "        if phase_jeu == 1:  # On vérifie si le centre appartient à la phase de jeu 1\n",
    "            centres_phase_1 += 1\n",
    "\n",
    "# Affichage des résultats\n",
    "print(f\"Nombre total de centres dans events : {nombre_total_centres}\")\n",
    "print(f\"Nombre de centres dans phase_jeu = 1 : {centres_phase_1}\")\n",
    "\n",
    "print(\"Le pourcentage de centres faisant partie de la phase 1 est de\",round((centres_phase_1 / nombre_total_centres)*100, 2),\"%\")"
   ]
  },
  {
   "cell_type": "markdown",
   "metadata": {},
   "source": [
    "On voit que les centres sont plus représentés (59.6%) dans la phase 1 que la moyenne des événements (51.6%). On peut donc en déduire que les centres ont une forte chance de se produire durant une attaque placée (version 1)"
   ]
  },
  {
   "cell_type": "markdown",
   "metadata": {},
   "source": [
    "Précision : Deux phases d'attaque placée n1 peuvent être consécutives dans le cas où la première séquence se termine par un arrêt de jeu et que la deuxième séquence aussi"
   ]
  },
  {
   "cell_type": "markdown",
   "metadata": {},
   "source": [
    "---"
   ]
  },
  {
   "cell_type": "markdown",
   "metadata": {},
   "source": [
    "On va à présent s'intéresser à la phase de jeu numéro 2 : la Transition cas n1. C'est une phase qui débute par une récupération du ballon et qui se termine si l’équipe reperd le ballon dans les 4 évènements suivants (hors équipe adverse). "
   ]
  },
  {
   "cell_type": "markdown",
   "metadata": {},
   "source": [
    "## Transition Numéro 1"
   ]
  },
  {
   "cell_type": "code",
   "execution_count": 207,
   "metadata": {},
   "outputs": [
    {
     "name": "stdout",
     "output_type": "stream",
     "text": [
      "La colonne 'phase_jeu' existe déjà\n"
     ]
    }
   ],
   "source": [
    "import sqlite3\n",
    "\n",
    "# On se connecte à la base de données générée par la partie Importation\n",
    "connect = sqlite3.connect(\"../Databases/raw-database.db\")\n",
    "cursor = connect.cursor()\n",
    "\n",
    "# On ajoute la colonne phase_jeu si elle n'existe pas encore, sinon on la réinitialise à 0\n",
    "try:\n",
    "    cursor.execute(\"ALTER TABLE events ADD COLUMN phase_jeu INTEGER DEFAULT 0\")\n",
    "    connect.commit()\n",
    "    print(\"Colonne 'phase_jeu' ajoutée.\")\n",
    "except sqlite3.OperationalError:\n",
    "    print(\"La colonne 'phase_jeu' existe déjà\")\n",
    "    connect.commit()"
   ]
  },
  {
   "cell_type": "code",
   "execution_count": 208,
   "metadata": {},
   "outputs": [],
   "source": [
    "# Définition des types d'événements pertinents pour la phase de jeu\n",
    "\n",
    "# On choisit uniquement les événements qui concerne directement le jeu, on enlève notammenent les informations concernant les blessures, les modifications tactiques\n",
    "# On ne prend également pas en compte les événements de type \"Pressure\", étant défensifs\n",
    "types_evenements_pertinents = {\n",
    "    \"Pass\", \"Ball Receipt*\", \"Carry\", \"Dribble\", \"Ball Recovery\",\n",
    "    \"Duel\", \"Miscontrol\", \"Dispossessed\", \"Interception\", \"Dribbled Past\"\n",
    "}\n",
    "\n",
    "# Définition des événements considérés comme des remises en jeu\n",
    "# (Même définition que pour la phase de jeu numéro 1)\n",
    "evenements_remise_en_jeu = {\"Throw-in\", \"Kick Off\", \"Free Kick\", \"Corner\", \"Goal Kick\"}\n",
    "\n",
    "# On récupère tous les événements de la table events\n",
    "requete = \"\"\"\n",
    "    SELECT event_id, match_id_SB, index_event, type, pass_type, possession\n",
    "    FROM events\n",
    "\"\"\"\n",
    "cursor.execute(requete)\n",
    "evenements = cursor.fetchall()"
   ]
  },
  {
   "cell_type": "markdown",
   "metadata": {},
   "source": [
    "On considère ici qu'une récupération de ballon est un changement de possession sans qu'il n'y ait remise en jeu\n",
    "Une phase de Transition n1 débute donc à ce moment-là"
   ]
  },
  {
   "cell_type": "code",
   "execution_count": 209,
   "metadata": {},
   "outputs": [],
   "source": [
    "# On détecte les phases de jeu correspondant à la Transition numéro 1\n",
    "evenements_phase_2 = []  # Liste des identifiants d'événements à marquer avec phase_jeu = 2\n",
    "\n",
    "i = 1\n",
    "while i < len(evenements):\n",
    "    evenement_actuel = evenements[i]\n",
    "    id_evenement, id_match, index_evenement, type_evenement, type_passe, possession = evenement_actuel\n",
    "    evenement_precedent = evenements[i - 1]\n",
    "    \n",
    "    # On extrait la possession de l'événement précédent pour plus de clarté\n",
    "    possession_precedente = evenement_precedent[5]\n",
    "    \n",
    "    # On traite uniquement si les deux événements appartiennent au même match\n",
    "    if id_match != evenement_precedent[1]:\n",
    "        i += 1\n",
    "        continue\n",
    "\n",
    "    # On déclenche la phase dès qu'un changement de possession est détecté et que l'événement déclencheur n'est pas une remise en jeu.\n",
    "    if (possession != possession_precedente) and not ((type_passe in evenements_remise_en_jeu) or (type_evenement == \"Referee Ball-Drop\")):\n",
    "        possession_debut = possession  # Nouvelle possession\n",
    "        debut_phase = i  # Cet événement marque le début de la phase\n",
    "        compteur_evenements_pertinents = 0\n",
    "        fin_phase = None\n",
    "        \n",
    "        j = i + 1\n",
    "        # Parcourir les événements suivants du même match en ne comptant que ceux dont le type est dans types_evenements_pertinents\n",
    "        # On ne prend donc pas en compte les événements ne figurant pas dans types_evenements_pertinents\n",
    "        # C'est a dire qu'il peut y avoir plus de quatre événements durant lesquels une équipe peut se situer dans cette phase de jeu même et durant laquelle elle ne perd pas le ballon \n",
    "        # Effectivement, c'est seulement les événements pertinents qui comptent parmi les 4 événements considérés\n",
    "        while j < len(evenements) and evenements[j][1] == id_match and compteur_evenements_pertinents < 4:\n",
    "            evenement_suivant = evenements[j]\n",
    "            id_evenement_suivant, id_match_suivant, index_evenement_suivant, type_evenement_suivant, type_passe_suivant, possession_suivante = evenement_suivant\n",
    "            \n",
    "            if type_evenement_suivant not in types_evenements_pertinents:\n",
    "                j += 1\n",
    "                continue\n",
    "            \n",
    "            compteur_evenements_pertinents += 1\n",
    "            \n",
    "            # Si la possession change par rapport à possession_debut, la phase se termine juste avant cet événement\n",
    "            # On ne prend pas en compte l'événement qui fait terminer la phase car c'est le 1er événement qui ne doit pas faire partir de la phase\n",
    "            if possession_suivante != possession_debut:\n",
    "                fin_phase = j\n",
    "                break\n",
    "            \n",
    "            j += 1\n",
    "        \n",
    "        # Valider la phase uniquement si un changement de possession a été détecté \n",
    "        if fin_phase is not None and compteur_evenements_pertinents > 0 and compteur_evenements_pertinents <= 4:\n",
    "            # Marquer tous les événements de la phase, du déclencheur (debut_phase) jusqu'à fin_phase - 1\n",
    "            for k in range(debut_phase, fin_phase):\n",
    "                if evenements[k][1] == id_match:\n",
    "                    evenements_phase_2.append(evenements[k][0])\n",
    "            i = fin_phase  # Aller à l'événement déclencheur de fin de phase\n",
    "            continue\n",
    "    i += 1"
   ]
  },
  {
   "cell_type": "code",
   "execution_count": 210,
   "metadata": {},
   "outputs": [
    {
     "name": "stdout",
     "output_type": "stream",
     "text": [
      "14340 événements marqués avec phase_jeu = 2\n"
     ]
    }
   ],
   "source": [
    "# On utilise set pour éviter les doublons\n",
    "evenements_phase_2 = list(set(evenements_phase_2))\n",
    "\n",
    "# Mise à jour en base via une table temporaire\n",
    "cursor.execute(\"DROP TABLE IF EXISTS phase1_temp\")\n",
    "cursor.execute(\"CREATE TEMP TABLE phase1_temp (event_id TEXT PRIMARY KEY);\")\n",
    "connect.commit()\n",
    "\n",
    "if evenements_phase_2:\n",
    "    parametres_mise_a_jour = [(id_evenement,) for id_evenement in evenements_phase_2]\n",
    "    cursor.executemany(\"INSERT INTO phase1_temp (event_id) VALUES (?)\", parametres_mise_a_jour)\n",
    "    connect.commit()\n",
    "\n",
    "cursor.execute(\"\"\"\n",
    "    UPDATE events SET phase_jeu = 2 \n",
    "    WHERE event_id IN (SELECT event_id FROM phase1_temp);\n",
    "\"\"\")\n",
    "connect.commit()\n",
    "\n",
    "cursor.execute(\"DROP TABLE IF EXISTS phase1_temp\")\n",
    "connect.commit()\n",
    "\n",
    "print(f\"{len(evenements_phase_2)} événements marqués avec phase_jeu = 2\")"
   ]
  },
  {
   "cell_type": "markdown",
   "metadata": {},
   "source": [
    "## Calcul du pourcentage d'événements étant dans la phase de jeu numéro 2"
   ]
  },
  {
   "cell_type": "code",
   "execution_count": 211,
   "metadata": {},
   "outputs": [
    {
     "name": "stdout",
     "output_type": "stream",
     "text": [
      "Le pourcentage d'événements présents dans la phase de jeu 2 est de :  1.28 %\n"
     ]
    }
   ],
   "source": [
    "print(\"Le pourcentage d'événements présents dans la phase de jeu 2 est de : \", round(len(evenements_phase_2)/len(events)*100,2),\"%\")"
   ]
  },
  {
   "cell_type": "markdown",
   "metadata": {},
   "source": [
    "## Calcul du pourcentage de centres étant dans la phase de jeu numéro 2"
   ]
  },
  {
   "cell_type": "code",
   "execution_count": 212,
   "metadata": {},
   "outputs": [
    {
     "name": "stdout",
     "output_type": "stream",
     "text": [
      "Nombre total de centres dans events : 6946\n",
      "Nombre de centres dans phase_jeu = 2 : 23\n",
      "Le pourcentage de centres faisant partie de la phase 2 est de 0.33 %\n"
     ]
    }
   ],
   "source": [
    "# On récupère les événements utiles pour nos calculs\n",
    "requete = \"\"\"\n",
    "    SELECT pass_cross, pass_type, phase_jeu \n",
    "    FROM events\n",
    "    WHERE pass_cross = 1\n",
    "\"\"\"\n",
    "cursor.execute(requete)\n",
    "evenements = cursor.fetchall()\n",
    "\n",
    "nombre_total_centres = 0\n",
    "centres_phase_2 = 0\n",
    "\n",
    "# Parcours des événements pour compter les centres\n",
    "for pass_cross, pass_type, phase_jeu in evenements:\n",
    "    if pass_type != 'Corner':  # On exclut les corners\n",
    "        nombre_total_centres += 1\n",
    "        if phase_jeu == 2:  # On vérifie si le centre appartient à la phase de jeu 2\n",
    "            centres_phase_2 += 1\n",
    "\n",
    "# Affichage des résultats\n",
    "print(f\"Nombre total de centres dans events : {nombre_total_centres}\")\n",
    "print(f\"Nombre de centres dans phase_jeu = 2 : {centres_phase_2}\")\n",
    "\n",
    "# Calcul du pourcentage de centres faisant partie de la phase 2\n",
    "pourcentage_phase_2 = round((centres_phase_2 / nombre_total_centres) * 100, 2)\n",
    "print(f\"Le pourcentage de centres faisant partie de la phase 2 est de {pourcentage_phase_2} %\")"
   ]
  },
  {
   "cell_type": "markdown",
   "metadata": {},
   "source": [
    "On s'aperçoit que la phase 2 est rare (représente seulement 1.28% des événements). On observe que la répartition des centres dans cette phase de jeu est encore plus faible (0.33%). On peut donc conclure que les centres sont bien moins représentés dans cette phase de jeu (Transiton n1) que dans la moyenne des événements."
   ]
  },
  {
   "cell_type": "markdown",
   "metadata": {},
   "source": [
    "---"
   ]
  },
  {
   "cell_type": "markdown",
   "metadata": {},
   "source": [
    "On s'aperçoit après vérification dans la base de données qu'aucun événement n'est à la fois dans la phase de jeu 1 et 2, ce qui est cohérent avec ce que l'on souhaite."
   ]
  }
 ],
 "metadata": {
  "kernelspec": {
   "display_name": "Python (env_traitement)",
   "language": "python",
   "name": "env_traitement"
  },
  "language_info": {
   "codemirror_mode": {
    "name": "ipython",
    "version": 3
   },
   "file_extension": ".py",
   "mimetype": "text/x-python",
   "name": "python",
   "nbconvert_exporter": "python",
   "pygments_lexer": "ipython3",
   "version": "3.12.6"
  }
 },
 "nbformat": 4,
 "nbformat_minor": 2
}
