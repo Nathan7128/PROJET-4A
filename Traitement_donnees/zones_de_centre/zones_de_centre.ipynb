{
 "cells": [
  {
   "cell_type": "markdown",
   "metadata": {
    "vscode": {
     "languageId": "plaintext"
    }
   },
   "source": [
    "---\n",
    "Ce programme nous permet de traiter les données Events de Stats Bomb pour en extraire :\n",
    "1) Les centres ainsi qu'un certain nombre d'events les suivant (ce ne nombre est défini à l'aide de la variable nb_events_suivant)\n",
    "2) Les positions de ces centres et de leur zone de réception\n",
    "3) Pour ces events suivant les centres, on repère les tirs et les buts inscrits par l'équipe qui a centré\n",
    "4) Les positions de ces tirs ainsi que des endroits ou ils se sont terminés\n",
    "5) Des informations liées à ces events telles que la date du match, la journée, les équipes à domicile et à l'extérieur, la saison, la compétition ainsi que le \"match_id\" Stats Bomb\n",
    "\n",
    "Grâce à ces données, nous pourrons afficher sur un terrain, via l'application Web Streamlit :\n",
    "- Des cartes de chaleurs \"heatmaps\" des zones de centre et de réception de centre\n",
    "- Des flèches représentant la trajectoire des tirs survenus dans les \"nb_events_suivant\" events suivant les centres\n",
    "- Les zones ou se terminent les tirs dans la cage du gardien\n",
    "---"
   ]
  },
  {
   "cell_type": "markdown",
   "metadata": {
    "vscode": {
     "languageId": "plaintext"
    }
   },
   "source": [
    "## 1) Importation des bibliothèques"
   ]
  },
  {
   "cell_type": "code",
   "execution_count": 1,
   "metadata": {},
   "outputs": [],
   "source": [
    "import pandas as pd\n",
    "import sqlite3"
   ]
  },
  {
   "cell_type": "markdown",
   "metadata": {},
   "source": [
    "---"
   ]
  },
  {
   "cell_type": "markdown",
   "metadata": {},
   "source": [
    "## 2) Connexion à la BDD"
   ]
  },
  {
   "cell_type": "code",
   "execution_count": 2,
   "metadata": {},
   "outputs": [],
   "source": [
    "connect = sqlite3.connect(\"../../Databases/raw-database.db\")\n",
    "cursor = connect.cursor()"
   ]
  },
  {
   "cell_type": "markdown",
   "metadata": {
    "vscode": {
     "languageId": "plaintext"
    }
   },
   "source": [
    "---"
   ]
  },
  {
   "cell_type": "markdown",
   "metadata": {
    "vscode": {
     "languageId": "plaintext"
    }
   },
   "source": [
    "## 3) Importation des données events"
   ]
  },
  {
   "cell_type": "code",
   "execution_count": 3,
   "metadata": {},
   "outputs": [],
   "source": [
    "colonnes = [\"x_loc\", \"y_loc\", \"match_id_SB\", \"type\", \"team_id_SB\", \"minute\", \"shot_outcome\", \"pass_type\", \"period\",\n",
    "            \"pass_cross\", \"index_event\", \"x_shot\", \"y_shot\", \"z_shot\", \"x_pass\", \"y_pass\", \"pass_body_part\", \"player_id_SB\"]\n",
    "colonnes = \", \".join(colonnes)\n",
    "req = cursor.execute(f\"SELECT {colonnes} FROM events\")\n",
    "res = req.fetchall()\n",
    "desc = req.description\n",
    "events = pd.DataFrame(res)\n",
    "events.columns = [i[0] for i in desc]"
   ]
  },
  {
   "cell_type": "code",
   "execution_count": 4,
   "metadata": {},
   "outputs": [
    {
     "data": {
      "text/html": [
       "<div>\n",
       "<style scoped>\n",
       "    .dataframe tbody tr th:only-of-type {\n",
       "        vertical-align: middle;\n",
       "    }\n",
       "\n",
       "    .dataframe tbody tr th {\n",
       "        vertical-align: top;\n",
       "    }\n",
       "\n",
       "    .dataframe thead th {\n",
       "        text-align: right;\n",
       "    }\n",
       "</style>\n",
       "<table border=\"1\" class=\"dataframe\">\n",
       "  <thead>\n",
       "    <tr style=\"text-align: right;\">\n",
       "      <th></th>\n",
       "      <th>x_loc</th>\n",
       "      <th>y_loc</th>\n",
       "      <th>match_id_SB</th>\n",
       "      <th>type</th>\n",
       "      <th>team_id_SB</th>\n",
       "      <th>minute</th>\n",
       "      <th>shot_outcome</th>\n",
       "      <th>pass_type</th>\n",
       "      <th>period</th>\n",
       "      <th>pass_cross</th>\n",
       "      <th>index_event</th>\n",
       "      <th>x_shot</th>\n",
       "      <th>y_shot</th>\n",
       "      <th>z_shot</th>\n",
       "      <th>x_pass</th>\n",
       "      <th>y_pass</th>\n",
       "      <th>pass_body_part</th>\n",
       "      <th>player_id_SB</th>\n",
       "    </tr>\n",
       "  </thead>\n",
       "  <tbody>\n",
       "    <tr>\n",
       "      <th>0</th>\n",
       "      <td>NaN</td>\n",
       "      <td>NaN</td>\n",
       "      <td>3894037</td>\n",
       "      <td>Starting XI</td>\n",
       "      <td>147</td>\n",
       "      <td>0</td>\n",
       "      <td>None</td>\n",
       "      <td>None</td>\n",
       "      <td>1</td>\n",
       "      <td>NaN</td>\n",
       "      <td>1</td>\n",
       "      <td>NaN</td>\n",
       "      <td>NaN</td>\n",
       "      <td>NaN</td>\n",
       "      <td>NaN</td>\n",
       "      <td>NaN</td>\n",
       "      <td>None</td>\n",
       "      <td>NaN</td>\n",
       "    </tr>\n",
       "    <tr>\n",
       "      <th>1</th>\n",
       "      <td>NaN</td>\n",
       "      <td>NaN</td>\n",
       "      <td>3894037</td>\n",
       "      <td>Starting XI</td>\n",
       "      <td>156</td>\n",
       "      <td>0</td>\n",
       "      <td>None</td>\n",
       "      <td>None</td>\n",
       "      <td>1</td>\n",
       "      <td>NaN</td>\n",
       "      <td>2</td>\n",
       "      <td>NaN</td>\n",
       "      <td>NaN</td>\n",
       "      <td>NaN</td>\n",
       "      <td>NaN</td>\n",
       "      <td>NaN</td>\n",
       "      <td>None</td>\n",
       "      <td>NaN</td>\n",
       "    </tr>\n",
       "  </tbody>\n",
       "</table>\n",
       "</div>"
      ],
      "text/plain": [
       "   x_loc  y_loc  match_id_SB         type  team_id_SB  minute shot_outcome  \\\n",
       "0    NaN    NaN      3894037  Starting XI         147       0         None   \n",
       "1    NaN    NaN      3894037  Starting XI         156       0         None   \n",
       "\n",
       "  pass_type  period  pass_cross  index_event  x_shot  y_shot  z_shot  x_pass  \\\n",
       "0      None       1         NaN            1     NaN     NaN     NaN     NaN   \n",
       "1      None       1         NaN            2     NaN     NaN     NaN     NaN   \n",
       "\n",
       "   y_pass pass_body_part  player_id_SB  \n",
       "0     NaN           None           NaN  \n",
       "1     NaN           None           NaN  "
      ]
     },
     "execution_count": 4,
     "metadata": {},
     "output_type": "execute_result"
    }
   ],
   "source": [
    "# Aperçu des données\n",
    "events.head(2)"
   ]
  },
  {
   "cell_type": "markdown",
   "metadata": {},
   "source": [
    "Avant de se lancer dans la suite du traitement, nous allons modifier l'index \"index_event\", qui n'identifie plus les events de manière unique.  \n",
    "En effet, de base, cet index permet d'identifier de manière unique l'ensemble des events d'un match, de manière chronologique : l'event d'un match ayant pour \"index_event\" 1 correspond au premier event référencé de ce match.  \n",
    "Cependant, étant donné que la table \"events\" contient les events de plusieurs matchs, cet index \"index_event\" n'est plus unique.  \n",
    "Nous pouvons le constater grâce à la cellulle suivante :"
   ]
  },
  {
   "cell_type": "code",
   "execution_count": 5,
   "metadata": {},
   "outputs": [
    {
     "data": {
      "text/plain": [
       "False"
      ]
     },
     "execution_count": 5,
     "metadata": {},
     "output_type": "execute_result"
    }
   ],
   "source": [
    "events.index_event.is_unique"
   ]
  },
  {
   "cell_type": "markdown",
   "metadata": {},
   "source": [
    "Nous allons donc re-créer cette variable \"index_event\", afin qu'elle identifie de nouveau les events de manière unique, et par ordre chronologique.  \n",
    "L'ordre chronologique est assuré par le fait que dans le programme d'importation, nous avons trié les events par \"match_id_SB\" et en fonction de leur \"index_event\""
   ]
  },
  {
   "cell_type": "code",
   "execution_count": 6,
   "metadata": {},
   "outputs": [],
   "source": [
    "# Réindexation des events\n",
    "events[\"index_event\"] = range(len(events))"
   ]
  },
  {
   "cell_type": "markdown",
   "metadata": {},
   "source": [
    "---\n",
    "Maintenant que nous avons importé les données Events, nous allons extraire les events correspondant à des centres.  \n",
    "Nb : nous avons préféré ne pas analyser les centres qui sont des corners"
   ]
  },
  {
   "cell_type": "markdown",
   "metadata": {},
   "source": [
    "## 4) Récupération des events liés à des centres"
   ]
  },
  {
   "cell_type": "code",
   "execution_count": 7,
   "metadata": {},
   "outputs": [],
   "source": [
    "# Création d'un dataframe ne comprenant que les events liés à des centres (hormis les corners)\n",
    "centres = events[(events.pass_cross == 1) & (events.pass_type != \"Corner\")]"
   ]
  },
  {
   "cell_type": "markdown",
   "metadata": {},
   "source": [
    "---\n",
    "Dans la prochaine section, nous allons récupérer les events suivant ces centres"
   ]
  },
  {
   "cell_type": "markdown",
   "metadata": {},
   "source": [
    "## 5) Extraction des events suivant les centres"
   ]
  },
  {
   "cell_type": "code",
   "execution_count": 8,
   "metadata": {},
   "outputs": [],
   "source": [
    "# Nous décidons de fixer à 5 le nombre d'events suivant les centres à garder\n",
    "nb_events_suivant = 5"
   ]
  },
  {
   "cell_type": "markdown",
   "metadata": {},
   "source": [
    "Nous souhaitons donc récupérer les 5 events suivant chaque centre.  \n",
    "Pour ce faire, nous allons donc utiliser la colonne \"index_event\".  \n",
    "Exemple : si nous souhaitons récupérer les 5 events suivant un centre ayant pour \"index_event\" 3, alors nous devrons extraire les events ayant pour \"index_event\" 4, 5, 6, 7 et 8.  "
   ]
  },
  {
   "cell_type": "markdown",
   "metadata": {},
   "source": [
    "Cependant, il faut faire attention, car plusieurs cas peuvent se présenter et poser problème.  \n",
    "Par exemple, s'il y a un autre centre dans les 5 events, ou si le centre correspond au dernier event d'une mi-temps, et donc les 5 events suivant ce centre se sont déroulés lors d'une autre période/match et il est donc incohérent des les analyser."
   ]
  },
  {
   "cell_type": "markdown",
   "metadata": {},
   "source": [
    "### a) Création du dataframe"
   ]
  },
  {
   "cell_type": "markdown",
   "metadata": {},
   "source": [
    "Dans un premier temps, nous allons créer un \"patron\" du dataframe qui contiendra les events liés aux centres et les 5 events les suivant (même s'ils se sont déroulés lors d'une autre mi-temps ou lors d'un autre match).  \n",
    "Ce dataframe aura donc une taille de 6 fois le nombre de centres.  \n"
   ]
  },
  {
   "cell_type": "markdown",
   "metadata": {},
   "source": [
    "Ce dataframe contiendra 5 colonnes/informations :\n",
    "- L'équipe ayant effectué le centre \"team_centre\", qui sera la même pour le centre et les events suivant ce centre. Cette information nous permettra de savoir si l'équipe liée à un des events suivant le centre est la même que l'équipe qui a effectué le centre associé à cet event\n",
    "- Le \"centre_id\", qui sera la même pour le centre et les events suivant ce centre. Il permettra d'associé le centre et les events le suivant\n",
    "- Les \"match_id_SB\" et les \"period\" liés au centre, qui seront eux aussi attribués aux events suivant. Il est donc possible que le \"match_id_SB\" ou la \"period\" attribué à un event ne soit pas la même que le réel \"match_id_SB\"/\"period\" de cet event. Par exemple, dans le cas ou le centre est le dernier event de la 1ère mi-temps et donc la \"period\" des 5 events le suivant ne correspondent pas\n",
    "- La colonne \"index_event\", qui contiendra les \"index_event\" de l'ensemble des centres et des events les suivant. Elle permettra d'effectuer la jointure avec les events du dataframe \"events\", et donc d'extraire les events suivant les centres"
   ]
  },
  {
   "cell_type": "code",
   "execution_count": 9,
   "metadata": {},
   "outputs": [],
   "source": [
    "centres = pd.DataFrame({\"team_centre\" : [i for i in centres.team_id_SB for _ in range (nb_events_suivant + 1)],\n",
    "                    \"centre_id\" : [i for i in range (1, len(centres) + 1) for _ in range (nb_events_suivant + 1)],\n",
    "                    \"match_id_SB\" : [i for i in centres.match_id_SB for _ in range (nb_events_suivant + 1)],\n",
    "                    \"period\" : [i for i in centres.period for _ in range (nb_events_suivant + 1)],\n",
    "                    \"index_event\" : [j + i for j in centres.index_event for i in range (nb_events_suivant + 1)]})"
   ]
  },
  {
   "cell_type": "markdown",
   "metadata": {},
   "source": [
    "La méthode \"for _ in range (nb_events_suivant + 1)\" permet de répéter (nb_events_suivant + 1) fois la valeur itérée par i.  \n",
    "Par exemple, si nb_events_suivant vaut 5 et i prend les valeurs 1, 2, 3, etc., alors cela donnera :\n",
    "[1, 1, 1, 1, 1, 1, 2, 2, 2, 2, 2, 2, 3, 3, 3, 3, 3, 3, etc.].  \n",
    "C'est cette méthode qui nous permet d'attribuer aux events suivant les centres les informations liées au centre, telles que l'équipe qui l'a effectué, la période ou il a été effectué etc."
   ]
  },
  {
   "cell_type": "code",
   "execution_count": 10,
   "metadata": {},
   "outputs": [
    {
     "data": {
      "text/html": [
       "<div>\n",
       "<style scoped>\n",
       "    .dataframe tbody tr th:only-of-type {\n",
       "        vertical-align: middle;\n",
       "    }\n",
       "\n",
       "    .dataframe tbody tr th {\n",
       "        vertical-align: top;\n",
       "    }\n",
       "\n",
       "    .dataframe thead th {\n",
       "        text-align: right;\n",
       "    }\n",
       "</style>\n",
       "<table border=\"1\" class=\"dataframe\">\n",
       "  <thead>\n",
       "    <tr style=\"text-align: right;\">\n",
       "      <th></th>\n",
       "      <th>team_centre</th>\n",
       "      <th>centre_id</th>\n",
       "      <th>match_id_SB</th>\n",
       "      <th>period</th>\n",
       "      <th>index_event</th>\n",
       "    </tr>\n",
       "  </thead>\n",
       "  <tbody>\n",
       "    <tr>\n",
       "      <th>0</th>\n",
       "      <td>147</td>\n",
       "      <td>1</td>\n",
       "      <td>3894037</td>\n",
       "      <td>1</td>\n",
       "      <td>153</td>\n",
       "    </tr>\n",
       "    <tr>\n",
       "      <th>1</th>\n",
       "      <td>147</td>\n",
       "      <td>1</td>\n",
       "      <td>3894037</td>\n",
       "      <td>1</td>\n",
       "      <td>154</td>\n",
       "    </tr>\n",
       "    <tr>\n",
       "      <th>2</th>\n",
       "      <td>147</td>\n",
       "      <td>1</td>\n",
       "      <td>3894037</td>\n",
       "      <td>1</td>\n",
       "      <td>155</td>\n",
       "    </tr>\n",
       "    <tr>\n",
       "      <th>3</th>\n",
       "      <td>147</td>\n",
       "      <td>1</td>\n",
       "      <td>3894037</td>\n",
       "      <td>1</td>\n",
       "      <td>156</td>\n",
       "    </tr>\n",
       "    <tr>\n",
       "      <th>4</th>\n",
       "      <td>147</td>\n",
       "      <td>1</td>\n",
       "      <td>3894037</td>\n",
       "      <td>1</td>\n",
       "      <td>157</td>\n",
       "    </tr>\n",
       "    <tr>\n",
       "      <th>5</th>\n",
       "      <td>147</td>\n",
       "      <td>1</td>\n",
       "      <td>3894037</td>\n",
       "      <td>1</td>\n",
       "      <td>158</td>\n",
       "    </tr>\n",
       "    <tr>\n",
       "      <th>6</th>\n",
       "      <td>147</td>\n",
       "      <td>2</td>\n",
       "      <td>3894037</td>\n",
       "      <td>1</td>\n",
       "      <td>259</td>\n",
       "    </tr>\n",
       "    <tr>\n",
       "      <th>7</th>\n",
       "      <td>147</td>\n",
       "      <td>2</td>\n",
       "      <td>3894037</td>\n",
       "      <td>1</td>\n",
       "      <td>260</td>\n",
       "    </tr>\n",
       "    <tr>\n",
       "      <th>8</th>\n",
       "      <td>147</td>\n",
       "      <td>2</td>\n",
       "      <td>3894037</td>\n",
       "      <td>1</td>\n",
       "      <td>261</td>\n",
       "    </tr>\n",
       "    <tr>\n",
       "      <th>9</th>\n",
       "      <td>147</td>\n",
       "      <td>2</td>\n",
       "      <td>3894037</td>\n",
       "      <td>1</td>\n",
       "      <td>262</td>\n",
       "    </tr>\n",
       "  </tbody>\n",
       "</table>\n",
       "</div>"
      ],
      "text/plain": [
       "   team_centre  centre_id  match_id_SB  period  index_event\n",
       "0          147          1      3894037       1          153\n",
       "1          147          1      3894037       1          154\n",
       "2          147          1      3894037       1          155\n",
       "3          147          1      3894037       1          156\n",
       "4          147          1      3894037       1          157\n",
       "5          147          1      3894037       1          158\n",
       "6          147          2      3894037       1          259\n",
       "7          147          2      3894037       1          260\n",
       "8          147          2      3894037       1          261\n",
       "9          147          2      3894037       1          262"
      ]
     },
     "execution_count": 10,
     "metadata": {},
     "output_type": "execute_result"
    }
   ],
   "source": [
    "# Aperçu des données\n",
    "centres.head(10)"
   ]
  },
  {
   "cell_type": "markdown",
   "metadata": {},
   "source": [
    "### b) Jointure avec les events du dataframe \"events\""
   ]
  },
  {
   "cell_type": "markdown",
   "metadata": {},
   "source": [
    "Nous pouvons donc effectuer la jointure de ce dataframe avec le dataframe \"events\", par rapport aux \"event_id\", \"match_id_SB\" et \"period\".  \n",
    "Ces colonnes utilisées pour la jointure nous permettent de supprimer les cas ou un centre se serait déroulé dans les \"nb_events_suivant\" derniers events d'une période, et donc de supprimer les events les suivant qui se sont déroulés dans une autre mi-temps."
   ]
  },
  {
   "cell_type": "code",
   "execution_count": 11,
   "metadata": {},
   "outputs": [],
   "source": [
    "events_centres = pd.merge(centres, events, on = [\"index_event\", \"match_id_SB\", \"period\"])"
   ]
  },
  {
   "cell_type": "markdown",
   "metadata": {},
   "source": [
    "### c) Cas ou il y'a un autre centre dans les \"nb_events_suivant\" events suivant un centre"
   ]
  },
  {
   "cell_type": "markdown",
   "metadata": {},
   "source": [
    "Nous allons maintenant traiter les cas ou il y'a un centre dans les events suivant un centre.  \n",
    "Dans ces cas, nous allons uniquement garder le 2ème centre et les events suivant ce dernier.  \n",
    "Dans le cas ou il y aurait 3 centres qui se suivraient, alors on garderait le 3ème centre et les events suivant ce dernier, et de même pour + de centres se suivant...  "
   ]
  },
  {
   "cell_type": "markdown",
   "metadata": {},
   "source": [
    "Exemple d'un cas qui pourrait poser problème : on a un centre qui a pour \"index_event\" 5 et \"centre_id\" 2, et 3 events après il y a eu un autre centre (qui a donc pour \"index_event\" 8 et \"centre_id\" 3).  \n",
    "Les valeurs actuelles de la colonne \"index_event\" du dataframe \"events_centres\" sont donc :  \n",
    "[5, 6, 7, 8, 9, 10, 8, 9, 10, 11, 12, 13].  \n",
    "Tandis que les valeurs de la colonne \"centre_id\" sont :  \n",
    "[2, 2, 2, 2, 2, 2, 3, 3, 3, 3, 3, 3].  \n",
    "Donc souhaitons donc supprimer les lignes ayant pour \"centre_id\" 2"
   ]
  },
  {
   "cell_type": "markdown",
   "metadata": {},
   "source": [
    "Pour repérer ces cas, il suffit donc de repérer les \"index_event\" dupliqués.  \n",
    "Pour garder le centre et les events le suivant, nous allons utiliser la commandes \"duplicated\" de Pandas.  "
   ]
  },
  {
   "cell_type": "markdown",
   "metadata": {},
   "source": [
    "La fonction \"duplicated\" permet d'indiqué si une valeur est dupliquée. Elle n'indique pas comme dupliquée la première occurence d'une valeur dupliquée.  \n",
    "Par exemple, s'il y'a 2 lignes qui contiennent la valeur \"ok\", alors seulement la deuxième ligne sera marquée comme dupliquée.  \n",
    "Elle va nous permettre de repérer les \"centre_id\" dupliqués."
   ]
  },
  {
   "cell_type": "code",
   "execution_count": 12,
   "metadata": {},
   "outputs": [],
   "source": [
    "# Récupérations les \"centre_id\" dupliqués\n",
    "# Nous regardons les valeurs dupliquées pour les colonnes \"team_id_SB\" et \"index_event\".\n",
    "# En effet, si c'est une autre équipe qui a effectué le centre se déroulant dans les \"nb_events_suivant\" events suivant le 1er centre,\n",
    "# alors c'est incohérent de ne pas garder le 1er centre\n",
    "centre_id_dupl = events_centres.loc[events_centres[[\"team_id_SB\", \"index_event\"]].duplicated(), \"centre_id\"].unique() - 1\n",
    "# Nous ajoutons la commande \"unique()\" car nous souhaitons seulement connaitre la liste des \"centre_id\" dupliqués, de manière unique.\n",
    "# Nous ajoutons \"- 1\" car nous souhaitons garder les centres suivant d'autres centres, ou plutot supprimer les centres pour lesquels il y'a un autre centre dans les events suivant ces centres."
   ]
  },
  {
   "cell_type": "markdown",
   "metadata": {},
   "source": [
    "Cependant, nous n'allons pas supprimer maintenant ces centres.  \n",
    "En effet, dans le cas ou l'équipe ayant effectué un de ces centres marquerait lors d'un event se déroulant entre ce centre et le centre effectué dans les \"nb_events_suivant\" events suivant ce centre, alors on souhaiterait garderer les informations liés à ce centre.  \n",
    "Pour expliquer d'une autre manière ce cas, prenons nb_events_suivant = 10 :  \n",
    "Si une équipe effectue un centre (qu'on nomme centre 1), qu'elle effectue un autre centre (centre 2) correspondant au 9ème event suivant \"centre 1\", mais qu'elle marque lors du deuxième event suivant \"centre 1\", alors nous souhaitons garder \"centre 1\" ainsi que les events le suivant, même si cette équipe a effectué un autre centre dans les \"nb_events_suivant\" events suivant \"centre 1\".  \n",
    "Nous supprimerons donc ces centres après avoir detécté les centres qui ont amenés un but dans les \"nb_events_suivant\" events suivant ces centres"
   ]
  },
  {
   "cell_type": "code",
   "execution_count": 18,
   "metadata": {},
   "outputs": [],
   "source": [
    "events_centres.drop_duplicates(\"index_event\", keep = \"last\", inplace = True)"
   ]
  },
  {
   "cell_type": "code",
   "execution_count": null,
   "metadata": {},
   "outputs": [],
   "source": [
    "events_centres[\"Tireur\"] = \"\""
   ]
  },
  {
   "cell_type": "code",
   "execution_count": null,
   "metadata": {},
   "outputs": [],
   "source": [
    "filtre_shot = (events_centres.type == \"Shot\") & (events_centres.attacking_team == events_centres.team)\n",
    "events_centres.loc[filtre_shot, \"Tireur\"] = events_centres.loc[filtre_shot, \"player\"]"
   ]
  },
  {
   "cell_type": "code",
   "execution_count": null,
   "metadata": {},
   "outputs": [],
   "source": [
    "events_centres[\"But\"] = \"Non\""
   ]
  },
  {
   "cell_type": "code",
   "execution_count": null,
   "metadata": {},
   "outputs": [],
   "source": [
    "filtre_goal = ((events_centres.shot_outcome == \"Goal\") | (events_centres.type == \"Own Goal For\")) & (events_centres.attacking_team == events_centres.team)\n",
    "events_centres.loc[(events_centres.centre_id.isin(events_centres.loc[filtre_goal, \"centre_id\"])) & (events_centres.pass_cross == 1), \"But\"] = \"Oui\""
   ]
  },
  {
   "cell_type": "code",
   "execution_count": null,
   "metadata": {},
   "outputs": [],
   "source": [
    "events_centres.loc[filtre_goal, \"But\"] = \"Oui\""
   ]
  }
 ],
 "metadata": {
  "kernelspec": {
   "display_name": "env_PROJET",
   "language": "python",
   "name": "python3"
  },
  "language_info": {
   "codemirror_mode": {
    "name": "ipython",
    "version": 3
   },
   "file_extension": ".py",
   "mimetype": "text/x-python",
   "name": "python",
   "nbconvert_exporter": "python",
   "pygments_lexer": "ipython3",
   "version": "3.12.6"
  }
 },
 "nbformat": 4,
 "nbformat_minor": 2
}
