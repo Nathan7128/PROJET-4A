{
 "cells": [
  {
   "cell_type": "markdown",
   "metadata": {},
   "source": [
    "## Importation des bliblothèques"
   ]
  },
  {
   "cell_type": "code",
   "execution_count": 115,
   "metadata": {},
   "outputs": [],
   "source": [
    "import sqlite3\n",
    "import pandas as pd"
   ]
  },
  {
   "cell_type": "markdown",
   "metadata": {},
   "source": [
    "## Connection à la base de données"
   ]
  },
  {
   "cell_type": "code",
   "execution_count": 116,
   "metadata": {},
   "outputs": [],
   "source": [
    "connect = sqlite3.connect(\"../../Databases/raw-database.db\")\n",
    "cursor = connect.cursor()"
   ]
  },
  {
   "cell_type": "markdown",
   "metadata": {},
   "source": [
    "## Importation des données freeze frames"
   ]
  },
  {
   "cell_type": "code",
   "execution_count": 117,
   "metadata": {},
   "outputs": [],
   "source": [
    "req = cursor.execute(f\"SELECT * FROM freeze_frames\")\n",
    "res = req.fetchall()\n",
    "desc = req.description\n",
    "freeze_frames = pd.DataFrame(res)\n",
    "freeze_frames.columns = [i[0] for i in desc]"
   ]
  },
  {
   "cell_type": "code",
   "execution_count": 118,
   "metadata": {},
   "outputs": [
    {
     "data": {
      "text/html": [
       "<div>\n",
       "<style scoped>\n",
       "    .dataframe tbody tr th:only-of-type {\n",
       "        vertical-align: middle;\n",
       "    }\n",
       "\n",
       "    .dataframe tbody tr th {\n",
       "        vertical-align: top;\n",
       "    }\n",
       "\n",
       "    .dataframe thead th {\n",
       "        text-align: right;\n",
       "    }\n",
       "</style>\n",
       "<table border=\"1\" class=\"dataframe\">\n",
       "  <thead>\n",
       "    <tr style=\"text-align: right;\">\n",
       "      <th></th>\n",
       "      <th>frame</th>\n",
       "      <th>timestamp</th>\n",
       "      <th>period</th>\n",
       "      <th>event_id</th>\n",
       "      <th>event_x</th>\n",
       "      <th>event_y</th>\n",
       "      <th>is_matched</th>\n",
       "      <th>match_id_SKC</th>\n",
       "      <th>group</th>\n",
       "      <th>tackable_object</th>\n",
       "    </tr>\n",
       "  </thead>\n",
       "  <tbody>\n",
       "    <tr>\n",
       "      <th>0</th>\n",
       "      <td>4820</td>\n",
       "      <td>2025-01-10 00:04:29</td>\n",
       "      <td>1.0</td>\n",
       "      <td>54cbad0c-1f05-4708-9b7f-2cadeae0636b</td>\n",
       "      <td>35.35</td>\n",
       "      <td>-27.71</td>\n",
       "      <td>1</td>\n",
       "      <td>1020089</td>\n",
       "      <td>away team</td>\n",
       "      <td>NaN</td>\n",
       "    </tr>\n",
       "    <tr>\n",
       "      <th>1</th>\n",
       "      <td>4834</td>\n",
       "      <td>2025-01-10 00:04:30.400000</td>\n",
       "      <td>1.0</td>\n",
       "      <td>28239a7e-4d65-4618-99f3-2763088e5e92</td>\n",
       "      <td>42.6125</td>\n",
       "      <td>-26.86</td>\n",
       "      <td>1</td>\n",
       "      <td>1020089</td>\n",
       "      <td>away team</td>\n",
       "      <td>159756.0</td>\n",
       "    </tr>\n",
       "    <tr>\n",
       "      <th>2</th>\n",
       "      <td>4854</td>\n",
       "      <td>2025-01-10 00:04:32.400000</td>\n",
       "      <td>1.0</td>\n",
       "      <td>3ea6ecd9-bc39-4ce5-9b47-1eda239f2705</td>\n",
       "      <td>44.1</td>\n",
       "      <td>1.615</td>\n",
       "      <td>1</td>\n",
       "      <td>1020089</td>\n",
       "      <td>away team</td>\n",
       "      <td>NaN</td>\n",
       "    </tr>\n",
       "  </tbody>\n",
       "</table>\n",
       "</div>"
      ],
      "text/plain": [
       "   frame                   timestamp  period  \\\n",
       "0   4820         2025-01-10 00:04:29     1.0   \n",
       "1   4834  2025-01-10 00:04:30.400000     1.0   \n",
       "2   4854  2025-01-10 00:04:32.400000     1.0   \n",
       "\n",
       "                               event_id  event_x event_y  is_matched  \\\n",
       "0  54cbad0c-1f05-4708-9b7f-2cadeae0636b    35.35  -27.71           1   \n",
       "1  28239a7e-4d65-4618-99f3-2763088e5e92  42.6125  -26.86           1   \n",
       "2  3ea6ecd9-bc39-4ce5-9b47-1eda239f2705     44.1   1.615           1   \n",
       "\n",
       "   match_id_SKC      group  tackable_object  \n",
       "0       1020089  away team              NaN  \n",
       "1       1020089  away team         159756.0  \n",
       "2       1020089  away team              NaN  "
      ]
     },
     "execution_count": 118,
     "metadata": {},
     "output_type": "execute_result"
    }
   ],
   "source": [
    "# Aperçu des données\n",
    "freeze_frames.head(3)"
   ]
  },
  {
   "cell_type": "markdown",
   "metadata": {},
   "source": [
    "## Importation des données events"
   ]
  },
  {
   "cell_type": "code",
   "execution_count": 119,
   "metadata": {},
   "outputs": [],
   "source": [
    "# On récupère les event_id SB pour pouvoir importer uniquement ceux qui nous intéressent depuis la table events\n",
    "event_id_freeze_frames = freeze_frames.event_id.unique().tolist()"
   ]
  },
  {
   "cell_type": "code",
   "execution_count": 120,
   "metadata": {},
   "outputs": [],
   "source": [
    "req = cursor.execute(f\"SELECT event_id, pass_cross, pass_type FROM events WHERE event_id IN ({', '.join('?' * len(event_id_freeze_frames))})\",\n",
    "                     event_id_freeze_frames)\n",
    "res = req.fetchall()\n",
    "desc = req.description\n",
    "events = pd.DataFrame(res)\n",
    "events.columns = [i[0] for i in desc]"
   ]
  },
  {
   "cell_type": "code",
   "execution_count": 121,
   "metadata": {},
   "outputs": [
    {
     "data": {
      "text/html": [
       "<div>\n",
       "<style scoped>\n",
       "    .dataframe tbody tr th:only-of-type {\n",
       "        vertical-align: middle;\n",
       "    }\n",
       "\n",
       "    .dataframe tbody tr th {\n",
       "        vertical-align: top;\n",
       "    }\n",
       "\n",
       "    .dataframe thead th {\n",
       "        text-align: right;\n",
       "    }\n",
       "</style>\n",
       "<table border=\"1\" class=\"dataframe\">\n",
       "  <thead>\n",
       "    <tr style=\"text-align: right;\">\n",
       "      <th></th>\n",
       "      <th>event_id</th>\n",
       "      <th>pass_cross</th>\n",
       "      <th>pass_type</th>\n",
       "    </tr>\n",
       "  </thead>\n",
       "  <tbody>\n",
       "    <tr>\n",
       "      <th>0</th>\n",
       "      <td>2e85ad3e-59c4-479a-a478-4c98174f686b</td>\n",
       "      <td>NaN</td>\n",
       "      <td>None</td>\n",
       "    </tr>\n",
       "    <tr>\n",
       "      <th>1</th>\n",
       "      <td>872df8f3-a750-4b61-8890-61a35e96b4a4</td>\n",
       "      <td>1.0</td>\n",
       "      <td>None</td>\n",
       "    </tr>\n",
       "    <tr>\n",
       "      <th>2</th>\n",
       "      <td>0f842e18-1363-4af3-8faa-6c9cce55b118</td>\n",
       "      <td>NaN</td>\n",
       "      <td>None</td>\n",
       "    </tr>\n",
       "  </tbody>\n",
       "</table>\n",
       "</div>"
      ],
      "text/plain": [
       "                               event_id  pass_cross pass_type\n",
       "0  2e85ad3e-59c4-479a-a478-4c98174f686b         NaN      None\n",
       "1  872df8f3-a750-4b61-8890-61a35e96b4a4         1.0      None\n",
       "2  0f842e18-1363-4af3-8faa-6c9cce55b118         NaN      None"
      ]
     },
     "execution_count": 121,
     "metadata": {},
     "output_type": "execute_result"
    }
   ],
   "source": [
    "# Aperçu des données\n",
    "events.head(3)"
   ]
  },
  {
   "cell_type": "markdown",
   "metadata": {},
   "source": [
    "## Jointure des events avec les freeze frames"
   ]
  },
  {
   "cell_type": "code",
   "execution_count": 122,
   "metadata": {},
   "outputs": [],
   "source": [
    "freeze_frames_events = pd.merge(freeze_frames, events, how = \"left\", on = \"event_id\")\n",
    "freeze_frames_events.sort_values(by = [\"match_id_SKC\", \"timestamp\"], inplace = True)"
   ]
  },
  {
   "cell_type": "code",
   "execution_count": 123,
   "metadata": {},
   "outputs": [
    {
     "data": {
      "text/html": [
       "<div>\n",
       "<style scoped>\n",
       "    .dataframe tbody tr th:only-of-type {\n",
       "        vertical-align: middle;\n",
       "    }\n",
       "\n",
       "    .dataframe tbody tr th {\n",
       "        vertical-align: top;\n",
       "    }\n",
       "\n",
       "    .dataframe thead th {\n",
       "        text-align: right;\n",
       "    }\n",
       "</style>\n",
       "<table border=\"1\" class=\"dataframe\">\n",
       "  <thead>\n",
       "    <tr style=\"text-align: right;\">\n",
       "      <th></th>\n",
       "      <th>frame</th>\n",
       "      <th>timestamp</th>\n",
       "      <th>period</th>\n",
       "      <th>event_id</th>\n",
       "      <th>event_x</th>\n",
       "      <th>event_y</th>\n",
       "      <th>is_matched</th>\n",
       "      <th>match_id_SKC</th>\n",
       "      <th>group</th>\n",
       "      <th>tackable_object</th>\n",
       "      <th>pass_cross</th>\n",
       "      <th>pass_type</th>\n",
       "    </tr>\n",
       "  </thead>\n",
       "  <tbody>\n",
       "    <tr>\n",
       "      <th>0</th>\n",
       "      <td>4820</td>\n",
       "      <td>2025-01-10 00:04:29</td>\n",
       "      <td>1.0</td>\n",
       "      <td>54cbad0c-1f05-4708-9b7f-2cadeae0636b</td>\n",
       "      <td>35.35</td>\n",
       "      <td>-27.71</td>\n",
       "      <td>1</td>\n",
       "      <td>1020089</td>\n",
       "      <td>away team</td>\n",
       "      <td>NaN</td>\n",
       "      <td>NaN</td>\n",
       "      <td>None</td>\n",
       "    </tr>\n",
       "    <tr>\n",
       "      <th>1</th>\n",
       "      <td>4834</td>\n",
       "      <td>2025-01-10 00:04:30.400000</td>\n",
       "      <td>1.0</td>\n",
       "      <td>28239a7e-4d65-4618-99f3-2763088e5e92</td>\n",
       "      <td>42.6125</td>\n",
       "      <td>-26.86</td>\n",
       "      <td>1</td>\n",
       "      <td>1020089</td>\n",
       "      <td>away team</td>\n",
       "      <td>159756.0</td>\n",
       "      <td>1.0</td>\n",
       "      <td>None</td>\n",
       "    </tr>\n",
       "    <tr>\n",
       "      <th>2</th>\n",
       "      <td>4854</td>\n",
       "      <td>2025-01-10 00:04:32.400000</td>\n",
       "      <td>1.0</td>\n",
       "      <td>3ea6ecd9-bc39-4ce5-9b47-1eda239f2705</td>\n",
       "      <td>44.1</td>\n",
       "      <td>1.615</td>\n",
       "      <td>1</td>\n",
       "      <td>1020089</td>\n",
       "      <td>away team</td>\n",
       "      <td>NaN</td>\n",
       "      <td>NaN</td>\n",
       "      <td>None</td>\n",
       "    </tr>\n",
       "  </tbody>\n",
       "</table>\n",
       "</div>"
      ],
      "text/plain": [
       "   frame                   timestamp  period  \\\n",
       "0   4820         2025-01-10 00:04:29     1.0   \n",
       "1   4834  2025-01-10 00:04:30.400000     1.0   \n",
       "2   4854  2025-01-10 00:04:32.400000     1.0   \n",
       "\n",
       "                               event_id  event_x event_y  is_matched  \\\n",
       "0  54cbad0c-1f05-4708-9b7f-2cadeae0636b    35.35  -27.71           1   \n",
       "1  28239a7e-4d65-4618-99f3-2763088e5e92  42.6125  -26.86           1   \n",
       "2  3ea6ecd9-bc39-4ce5-9b47-1eda239f2705     44.1   1.615           1   \n",
       "\n",
       "   match_id_SKC      group  tackable_object  pass_cross pass_type  \n",
       "0       1020089  away team              NaN         NaN      None  \n",
       "1       1020089  away team         159756.0         1.0      None  \n",
       "2       1020089  away team              NaN         NaN      None  "
      ]
     },
     "execution_count": 123,
     "metadata": {},
     "output_type": "execute_result"
    }
   ],
   "source": [
    "# Aperçu des données\n",
    "freeze_frames_events.head(3)"
   ]
  },
  {
   "cell_type": "markdown",
   "metadata": {},
   "source": [
    "## Analyse des centres"
   ]
  },
  {
   "cell_type": "code",
   "execution_count": 124,
   "metadata": {},
   "outputs": [],
   "source": [
    "# Création d'un dataframe ne comprenant que les centres du dataframe initial\n",
    "centres = freeze_frames_events[freeze_frames_events.pass_cross == 1]"
   ]
  },
  {
   "cell_type": "code",
   "execution_count": 125,
   "metadata": {},
   "outputs": [
    {
     "data": {
      "text/plain": [
       "np.False_"
      ]
     },
     "execution_count": 125,
     "metadata": {},
     "output_type": "execute_result"
    }
   ],
   "source": [
    "# On regarde si il y'a des valeurs centres qui sont présents plusieurs fois\n",
    "# On utilise l'identifiant [\"frame\", \"match_id_SKC\"] qui permet d'identifier, de manière unique, chaque frame des données\n",
    "centres[[\"frame\", \"match_id_SKC\"]].duplicated().any()"
   ]
  },
  {
   "cell_type": "markdown",
   "metadata": {},
   "source": [
    "On souhaite maintenant identifier chaque centre et chaque évènement précédant un centre par un centre_id.  \n",
    "Chaque couple (event précédant le centre, centre) sera alors identifié par un unique centre_id.  "
   ]
  },
  {
   "cell_type": "markdown",
   "metadata": {},
   "source": [
    "De plus, on part du principe qu'on dispose bien de chaque évènement précédant les centres.  \n",
    "En effet, étant donné que nous ne nous sommes pas chargé de fusionner les évènements précédant et suivant les centres aux évènements correspondant aux centres, nous ne pouvons pas gérer ces erreurs."
   ]
  },
  {
   "cell_type": "markdown",
   "metadata": {},
   "source": [
    "Pour gérer les cas ou l'évènement suivant un centre (centre1) est également un centre (centre2), nous partons du principe que ces centres ne sont pas dupliqués mais plutôt que ces centres se suivent en terme de frame.  \n",
    "En effet, nous n'aurons pas 2 couples (event avant centre1, centre1, centre2) et (centre1, centre2, event après centre2) mais plutot un couple (event avant centre1, centre1, centre2, event après centre2)"
   ]
  },
  {
   "cell_type": "code",
   "execution_count": 126,
   "metadata": {},
   "outputs": [
    {
     "name": "stdout",
     "output_type": "stream",
     "text": [
      "True\n"
     ]
    }
   ],
   "source": [
    "# Nous partons de ce principe car nous n'avons pas de valeur dupliquée pour la colonne event_id :\n",
    "print(freeze_frames_events.event_id.is_unique)"
   ]
  },
  {
   "cell_type": "markdown",
   "metadata": {},
   "source": [
    "Enfin, il est nécessaire des supprimer les events correspondants à des coups de pied arretés car ce n'est pas cohérent d'étudier les évènements précédant des CPA."
   ]
  },
  {
   "cell_type": "code",
   "execution_count": 127,
   "metadata": {},
   "outputs": [],
   "source": [
    "# Liste des CPA définis par Stats Bomb\n",
    "CPA = [\"Corner\", \"Free Kick\", \"Goal Kick\", \"Kick Off\"]\n",
    "\n",
    "# Supression des CPA des centres\n",
    "centres = centres[~centres.pass_type.isin(CPA)]"
   ]
  },
  {
   "cell_type": "code",
   "execution_count": 128,
   "metadata": {},
   "outputs": [],
   "source": [
    "# identification des évènements précédant les centres\n",
    "index_events_avant_centre = centres.index - 1"
   ]
  },
  {
   "cell_type": "code",
   "execution_count": 129,
   "metadata": {},
   "outputs": [],
   "source": [
    "# Création d'un dataframe ne comprenant que les actions précédents les centres\n",
    "events_avant_centre = freeze_frames_events.loc[index_events_avant_centre]"
   ]
  },
  {
   "cell_type": "code",
   "execution_count": 130,
   "metadata": {},
   "outputs": [
    {
     "data": {
      "text/html": [
       "<div>\n",
       "<style scoped>\n",
       "    .dataframe tbody tr th:only-of-type {\n",
       "        vertical-align: middle;\n",
       "    }\n",
       "\n",
       "    .dataframe tbody tr th {\n",
       "        vertical-align: top;\n",
       "    }\n",
       "\n",
       "    .dataframe thead th {\n",
       "        text-align: right;\n",
       "    }\n",
       "</style>\n",
       "<table border=\"1\" class=\"dataframe\">\n",
       "  <thead>\n",
       "    <tr style=\"text-align: right;\">\n",
       "      <th></th>\n",
       "      <th>frame</th>\n",
       "      <th>timestamp</th>\n",
       "      <th>period</th>\n",
       "      <th>event_id</th>\n",
       "      <th>event_x</th>\n",
       "      <th>event_y</th>\n",
       "      <th>is_matched</th>\n",
       "      <th>match_id_SKC</th>\n",
       "      <th>group</th>\n",
       "      <th>tackable_object</th>\n",
       "      <th>pass_cross</th>\n",
       "      <th>pass_type</th>\n",
       "    </tr>\n",
       "  </thead>\n",
       "  <tbody>\n",
       "  </tbody>\n",
       "</table>\n",
       "</div>"
      ],
      "text/plain": [
       "Empty DataFrame\n",
       "Columns: [frame, timestamp, period, event_id, event_x, event_y, is_matched, match_id_SKC, group, tackable_object, pass_cross, pass_type]\n",
       "Index: []"
      ]
     },
     "execution_count": 130,
     "metadata": {},
     "output_type": "execute_result"
    }
   ],
   "source": [
    "# On regarde si il y'a des évènements précédents des centres qui correspondent à des centres\n",
    "events_avant_centre[events_avant_centre.pass_cross == 1]"
   ]
  },
  {
   "cell_type": "code",
   "execution_count": 131,
   "metadata": {},
   "outputs": [
    {
     "name": "stdout",
     "output_type": "stream",
     "text": [
      "0\n"
     ]
    }
   ],
   "source": [
    "# Autre moyen de vérifier\n",
    "print(len(index_events_avant_centre.intersection(centres.index)))"
   ]
  },
  {
   "cell_type": "markdown",
   "metadata": {},
   "source": [
    "Il n'y en a pas"
   ]
  },
  {
   "cell_type": "code",
   "execution_count": 132,
   "metadata": {},
   "outputs": [],
   "source": [
    "# Attribution des centre_id à chaque events précédant les centres et à chaque centre\n",
    "events_avant_centre[\"centre_id\"] = range(len(events_avant_centre))\n",
    "centres[\"centre_id\"] = range(len(events_avant_centre))"
   ]
  },
  {
   "cell_type": "code",
   "execution_count": 133,
   "metadata": {},
   "outputs": [],
   "source": [
    "# On attribue aux events précédant les centres l'équipe qui a effectué le centre (suivant ces events)\n",
    "# En effet, il est possible que l'équipe en possession du ballon lors de l'évènement précédant un centre ne soit pas la même\n",
    "# que celle qui a effectué le centre en question\n",
    "# De ce fait, il est nécessaire de remplacer l'équipe actuellement attribuée aux events précédant les centres par les équipes ayant effectué \n",
    "# les centres\n",
    "events_avant_centre.drop(\"group\", axis = 1, inplace = True)\n",
    "events_avant_centre = pd.merge(events_avant_centre, centres[[\"group\", \"centre_id\"]], on = \"centre_id\")"
   ]
  },
  {
   "cell_type": "code",
   "execution_count": null,
   "metadata": {},
   "outputs": [],
   "source": []
  },
  {
   "cell_type": "code",
   "execution_count": 134,
   "metadata": {},
   "outputs": [],
   "source": [
    "req = cursor.execute(f\"SELECT * FROM freeze_frames_data\")\n",
    "res = req.fetchall()\n",
    "desc = req.description\n",
    "freeze_frames_data = pd.DataFrame(res)\n",
    "freeze_frames_data.columns = [i[0] for i in desc]"
   ]
  },
  {
   "cell_type": "code",
   "execution_count": 142,
   "metadata": {},
   "outputs": [],
   "source": [
    "freeze_frames_data = pd.merge(events_avant_centre[[\"match_id_SKC\", \"frame\", \"centre_id\", \"group\"]], freeze_frames_data, on = [\"match_id_SKC\", \"frame\"])"
   ]
  },
  {
   "cell_type": "code",
   "execution_count": 154,
   "metadata": {},
   "outputs": [
    {
     "name": "stdout",
     "output_type": "stream",
     "text": [
      "Nombre de centres pour lesquels nous avons pas d'information sur la frame de l'event précédent le centre dans les données freeze frames data : 38\n",
      "Nombre total de frames correspondant à des events précédant un centre : 6181\n"
     ]
    }
   ],
   "source": [
    "print(\"Nombre de centres pour lesquels nous avons pas d'information sur la frame de l'event précédent le centre dans les données freeze frames data :\", len(events_avant_centre[~events_avant_centre.centre_id.isin(freeze_frames_data.centre_id)]))\n",
    "print(\"Nombre total de frames correspondant à des events précédant un centre :\", len(events_avant_centre))"
   ]
  },
  {
   "cell_type": "code",
   "execution_count": 193,
   "metadata": {},
   "outputs": [
    {
     "data": {
      "text/html": [
       "<div>\n",
       "<style scoped>\n",
       "    .dataframe tbody tr th:only-of-type {\n",
       "        vertical-align: middle;\n",
       "    }\n",
       "\n",
       "    .dataframe tbody tr th {\n",
       "        vertical-align: top;\n",
       "    }\n",
       "\n",
       "    .dataframe thead th {\n",
       "        text-align: right;\n",
       "    }\n",
       "</style>\n",
       "<table border=\"1\" class=\"dataframe\">\n",
       "  <thead>\n",
       "    <tr style=\"text-align: right;\">\n",
       "      <th></th>\n",
       "      <th>match_id_SKC</th>\n",
       "      <th>frame</th>\n",
       "      <th>centre_id</th>\n",
       "      <th>group</th>\n",
       "      <th>track_id</th>\n",
       "      <th>trackable_object</th>\n",
       "      <th>is_visible</th>\n",
       "      <th>x</th>\n",
       "      <th>y</th>\n",
       "      <th>vx</th>\n",
       "      <th>vy</th>\n",
       "      <th>speed_norm</th>\n",
       "      <th>accel_norm</th>\n",
       "      <th>z</th>\n",
       "    </tr>\n",
       "  </thead>\n",
       "  <tbody>\n",
       "    <tr>\n",
       "      <th>0</th>\n",
       "      <td>1020089</td>\n",
       "      <td>4820</td>\n",
       "      <td>0</td>\n",
       "      <td>away team</td>\n",
       "      <td>12235.0</td>\n",
       "      <td>12235.0</td>\n",
       "      <td>1</td>\n",
       "      <td>45.43</td>\n",
       "      <td>-0.97</td>\n",
       "      <td>2.594984</td>\n",
       "      <td>0.087762</td>\n",
       "      <td>2.596468</td>\n",
       "      <td>-0.145596</td>\n",
       "      <td>NaN</td>\n",
       "    </tr>\n",
       "    <tr>\n",
       "      <th>1</th>\n",
       "      <td>1020089</td>\n",
       "      <td>4820</td>\n",
       "      <td>0</td>\n",
       "      <td>away team</td>\n",
       "      <td>12327.0</td>\n",
       "      <td>12327.0</td>\n",
       "      <td>1</td>\n",
       "      <td>32.26</td>\n",
       "      <td>-2.78</td>\n",
       "      <td>5.386337</td>\n",
       "      <td>-0.666400</td>\n",
       "      <td>5.427404</td>\n",
       "      <td>0.198751</td>\n",
       "      <td>NaN</td>\n",
       "    </tr>\n",
       "    <tr>\n",
       "      <th>2</th>\n",
       "      <td>1020089</td>\n",
       "      <td>4820</td>\n",
       "      <td>0</td>\n",
       "      <td>away team</td>\n",
       "      <td>2340.0</td>\n",
       "      <td>2340.0</td>\n",
       "      <td>1</td>\n",
       "      <td>33.55</td>\n",
       "      <td>-16.15</td>\n",
       "      <td>5.579671</td>\n",
       "      <td>-0.015822</td>\n",
       "      <td>5.579693</td>\n",
       "      <td>0.400358</td>\n",
       "      <td>NaN</td>\n",
       "    </tr>\n",
       "  </tbody>\n",
       "</table>\n",
       "</div>"
      ],
      "text/plain": [
       "   match_id_SKC  frame  centre_id      group  track_id  trackable_object  \\\n",
       "0       1020089   4820          0  away team   12235.0           12235.0   \n",
       "1       1020089   4820          0  away team   12327.0           12327.0   \n",
       "2       1020089   4820          0  away team    2340.0            2340.0   \n",
       "\n",
       "   is_visible      x      y        vx        vy  speed_norm  accel_norm   z  \n",
       "0           1  45.43  -0.97  2.594984  0.087762    2.596468   -0.145596 NaN  \n",
       "1           1  32.26  -2.78  5.386337 -0.666400    5.427404    0.198751 NaN  \n",
       "2           1  33.55 -16.15  5.579671 -0.015822    5.579693    0.400358 NaN  "
      ]
     },
     "execution_count": 193,
     "metadata": {},
     "output_type": "execute_result"
    }
   ],
   "source": [
    "freeze_frames_data.head(3)"
   ]
  },
  {
   "cell_type": "code",
   "execution_count": null,
   "metadata": {},
   "outputs": [],
   "source": [
    "Nous avons terminé la première partie "
   ]
  },
  {
   "cell_type": "markdown",
   "metadata": {},
   "source": [
    "SELECT *\n",
    "FROM (SELECT team_id_SB, team_id_SKC AS away_team_id_SKC FROM matching_teams) S JOIN (\n",
    "SELECT S1.team_id_SKC AS home_team_id_SKC, S3.match_id_SKC, S2.away_team_id, S3.match_id_SB\n",
    "FROM matching_teams S1 JOIN (SB_matches S2 JOIN matching_matches S3 \n",
    "ON S2.match_id = S3.match_id_SB)\n",
    "ON S1.team_id_SB = S2.home_team_id)\n",
    "ON S.team_id_SB = away_team_id\n",
    ";"
   ]
  },
  {
   "cell_type": "code",
   "execution_count": 168,
   "metadata": {},
   "outputs": [],
   "source": [
    "req = cursor.execute(f\"SELECT * FROM matching_matches\")\n",
    "res = req.fetchall()\n",
    "desc = req.description\n",
    "matching_matches = pd.DataFrame(res)\n",
    "matching_matches.columns = [i[0] for i in desc]"
   ]
  },
  {
   "cell_type": "code",
   "execution_count": 175,
   "metadata": {},
   "outputs": [
    {
     "data": {
      "text/html": [
       "<div>\n",
       "<style scoped>\n",
       "    .dataframe tbody tr th:only-of-type {\n",
       "        vertical-align: middle;\n",
       "    }\n",
       "\n",
       "    .dataframe tbody tr th {\n",
       "        vertical-align: top;\n",
       "    }\n",
       "\n",
       "    .dataframe thead th {\n",
       "        text-align: right;\n",
       "    }\n",
       "</style>\n",
       "<table border=\"1\" class=\"dataframe\">\n",
       "  <thead>\n",
       "    <tr style=\"text-align: right;\">\n",
       "      <th></th>\n",
       "      <th>match_id_SB</th>\n",
       "      <th>match_id_SKC</th>\n",
       "    </tr>\n",
       "  </thead>\n",
       "  <tbody>\n",
       "    <tr>\n",
       "      <th>0</th>\n",
       "      <td>3894366.0</td>\n",
       "      <td>1547880</td>\n",
       "    </tr>\n",
       "    <tr>\n",
       "      <th>1</th>\n",
       "      <td>3894367.0</td>\n",
       "      <td>1547881</td>\n",
       "    </tr>\n",
       "  </tbody>\n",
       "</table>\n",
       "</div>"
      ],
      "text/plain": [
       "   match_id_SB  match_id_SKC\n",
       "0    3894366.0       1547880\n",
       "1    3894367.0       1547881"
      ]
     },
     "execution_count": 175,
     "metadata": {},
     "output_type": "execute_result"
    }
   ],
   "source": [
    "matching_matches.head(2)"
   ]
  },
  {
   "cell_type": "code",
   "execution_count": 173,
   "metadata": {},
   "outputs": [],
   "source": [
    "req = cursor.execute(f\"SELECT * FROM matching_teams\")\n",
    "res = req.fetchall()\n",
    "desc = req.description\n",
    "matching_teams = pd.DataFrame(res)\n",
    "matching_teams.columns = [i[0] for i in desc]"
   ]
  },
  {
   "cell_type": "code",
   "execution_count": 176,
   "metadata": {},
   "outputs": [
    {
     "data": {
      "text/html": [
       "<div>\n",
       "<style scoped>\n",
       "    .dataframe tbody tr th:only-of-type {\n",
       "        vertical-align: middle;\n",
       "    }\n",
       "\n",
       "    .dataframe tbody tr th {\n",
       "        vertical-align: top;\n",
       "    }\n",
       "\n",
       "    .dataframe thead th {\n",
       "        text-align: right;\n",
       "    }\n",
       "</style>\n",
       "<table border=\"1\" class=\"dataframe\">\n",
       "  <thead>\n",
       "    <tr style=\"text-align: right;\">\n",
       "      <th></th>\n",
       "      <th>team_id_SB</th>\n",
       "      <th>team_id_SKC</th>\n",
       "    </tr>\n",
       "  </thead>\n",
       "  <tbody>\n",
       "    <tr>\n",
       "      <th>0</th>\n",
       "      <td>168</td>\n",
       "      <td>85</td>\n",
       "    </tr>\n",
       "    <tr>\n",
       "      <th>1</th>\n",
       "      <td>144</td>\n",
       "      <td>66</td>\n",
       "    </tr>\n",
       "  </tbody>\n",
       "</table>\n",
       "</div>"
      ],
      "text/plain": [
       "   team_id_SB  team_id_SKC\n",
       "0         168           85\n",
       "1         144           66"
      ]
     },
     "execution_count": 176,
     "metadata": {},
     "output_type": "execute_result"
    }
   ],
   "source": [
    "matching_teams.head(2)"
   ]
  },
  {
   "cell_type": "code",
   "execution_count": 172,
   "metadata": {},
   "outputs": [],
   "source": [
    "req = cursor.execute(f\"SELECT match_id AS match_id_SB, home_team_id AS home_team_id_SB, away_team_id AS away_team_id_SB FROM SB_matches\")\n",
    "res = req.fetchall()\n",
    "desc = req.description\n",
    "SB_matches = pd.DataFrame(res)\n",
    "SB_matches.columns = [i[0] for i in desc]"
   ]
  },
  {
   "cell_type": "code",
   "execution_count": 178,
   "metadata": {},
   "outputs": [
    {
     "data": {
      "text/html": [
       "<div>\n",
       "<style scoped>\n",
       "    .dataframe tbody tr th:only-of-type {\n",
       "        vertical-align: middle;\n",
       "    }\n",
       "\n",
       "    .dataframe tbody tr th {\n",
       "        vertical-align: top;\n",
       "    }\n",
       "\n",
       "    .dataframe thead th {\n",
       "        text-align: right;\n",
       "    }\n",
       "</style>\n",
       "<table border=\"1\" class=\"dataframe\">\n",
       "  <thead>\n",
       "    <tr style=\"text-align: right;\">\n",
       "      <th></th>\n",
       "      <th>match_id_SB</th>\n",
       "      <th>home_team_id_SB</th>\n",
       "      <th>away_team_id_SB</th>\n",
       "    </tr>\n",
       "  </thead>\n",
       "  <tbody>\n",
       "    <tr>\n",
       "      <th>0</th>\n",
       "      <td>3894290</td>\n",
       "      <td>136</td>\n",
       "      <td>139</td>\n",
       "    </tr>\n",
       "    <tr>\n",
       "      <th>1</th>\n",
       "      <td>3894367</td>\n",
       "      <td>165</td>\n",
       "      <td>152</td>\n",
       "    </tr>\n",
       "  </tbody>\n",
       "</table>\n",
       "</div>"
      ],
      "text/plain": [
       "   match_id_SB  home_team_id_SB  away_team_id_SB\n",
       "0      3894290              136              139\n",
       "1      3894367              165              152"
      ]
     },
     "execution_count": 178,
     "metadata": {},
     "output_type": "execute_result"
    }
   ],
   "source": [
    "SB_matches.head(2)"
   ]
  },
  {
   "cell_type": "code",
   "execution_count": 181,
   "metadata": {},
   "outputs": [],
   "source": [
    "merge1 = pd.merge(SB_matches, matching_matches, on = \"match_id_SB\")"
   ]
  },
  {
   "cell_type": "code",
   "execution_count": 191,
   "metadata": {},
   "outputs": [
    {
     "data": {
      "text/html": [
       "<div>\n",
       "<style scoped>\n",
       "    .dataframe tbody tr th:only-of-type {\n",
       "        vertical-align: middle;\n",
       "    }\n",
       "\n",
       "    .dataframe tbody tr th {\n",
       "        vertical-align: top;\n",
       "    }\n",
       "\n",
       "    .dataframe thead th {\n",
       "        text-align: right;\n",
       "    }\n",
       "</style>\n",
       "<table border=\"1\" class=\"dataframe\">\n",
       "  <thead>\n",
       "    <tr style=\"text-align: right;\">\n",
       "      <th></th>\n",
       "      <th>match_id_SB</th>\n",
       "      <th>home_team_id_SB</th>\n",
       "      <th>away_team_id_SB</th>\n",
       "      <th>match_id_SKC</th>\n",
       "      <th>home_team_id_SKC</th>\n",
       "    </tr>\n",
       "  </thead>\n",
       "  <tbody>\n",
       "    <tr>\n",
       "      <th>0</th>\n",
       "      <td>3894290</td>\n",
       "      <td>136</td>\n",
       "      <td>139</td>\n",
       "      <td>1434956</td>\n",
       "      <td>70</td>\n",
       "    </tr>\n",
       "    <tr>\n",
       "      <th>1</th>\n",
       "      <td>3894367</td>\n",
       "      <td>165</td>\n",
       "      <td>152</td>\n",
       "      <td>1547881</td>\n",
       "      <td>72</td>\n",
       "    </tr>\n",
       "  </tbody>\n",
       "</table>\n",
       "</div>"
      ],
      "text/plain": [
       "   match_id_SB  home_team_id_SB  away_team_id_SB  match_id_SKC  \\\n",
       "0      3894290              136              139       1434956   \n",
       "1      3894367              165              152       1547881   \n",
       "\n",
       "   home_team_id_SKC  \n",
       "0                70  \n",
       "1                72  "
      ]
     },
     "execution_count": 191,
     "metadata": {},
     "output_type": "execute_result"
    }
   ],
   "source": [
    "merge2 = pd.merge(merge1, matching_teams, left_on = \"home_team_id_SB\", right_on = \"team_id_SB\")\n",
    "merge2 = merge2.drop(\"team_id_SB\", axis = 1).rename({\"team_id_SKC\" : \"home_team_id_SKC\"}, axis = 1)\n",
    "merge2.head(2)"
   ]
  },
  {
   "cell_type": "code",
   "execution_count": 192,
   "metadata": {},
   "outputs": [
    {
     "data": {
      "text/html": [
       "<div>\n",
       "<style scoped>\n",
       "    .dataframe tbody tr th:only-of-type {\n",
       "        vertical-align: middle;\n",
       "    }\n",
       "\n",
       "    .dataframe tbody tr th {\n",
       "        vertical-align: top;\n",
       "    }\n",
       "\n",
       "    .dataframe thead th {\n",
       "        text-align: right;\n",
       "    }\n",
       "</style>\n",
       "<table border=\"1\" class=\"dataframe\">\n",
       "  <thead>\n",
       "    <tr style=\"text-align: right;\">\n",
       "      <th></th>\n",
       "      <th>match_id_SB</th>\n",
       "      <th>home_team_id_SB</th>\n",
       "      <th>away_team_id_SB</th>\n",
       "      <th>match_id_SKC</th>\n",
       "      <th>home_team_id_SKC</th>\n",
       "      <th>away_team_id_SKC</th>\n",
       "    </tr>\n",
       "  </thead>\n",
       "  <tbody>\n",
       "    <tr>\n",
       "      <th>0</th>\n",
       "      <td>3894290</td>\n",
       "      <td>136</td>\n",
       "      <td>139</td>\n",
       "      <td>1434956</td>\n",
       "      <td>70</td>\n",
       "      <td>86</td>\n",
       "    </tr>\n",
       "    <tr>\n",
       "      <th>1</th>\n",
       "      <td>3894367</td>\n",
       "      <td>165</td>\n",
       "      <td>152</td>\n",
       "      <td>1547881</td>\n",
       "      <td>72</td>\n",
       "      <td>328</td>\n",
       "    </tr>\n",
       "  </tbody>\n",
       "</table>\n",
       "</div>"
      ],
      "text/plain": [
       "   match_id_SB  home_team_id_SB  away_team_id_SB  match_id_SKC  \\\n",
       "0      3894290              136              139       1434956   \n",
       "1      3894367              165              152       1547881   \n",
       "\n",
       "   home_team_id_SKC  away_team_id_SKC  \n",
       "0                70                86  \n",
       "1                72               328  "
      ]
     },
     "execution_count": 192,
     "metadata": {},
     "output_type": "execute_result"
    }
   ],
   "source": [
    "merge3 = pd.merge(merge2, matching_teams, left_on = \"away_team_id_SB\", right_on = \"team_id_SB\")\n",
    "merge3 = merge3.drop(\"team_id_SB\", axis = 1).rename({\"team_id_SKC\" : \"away_team_id_SKC\"}, axis = 1)\n",
    "merge3.head(2)"
   ]
  }
 ],
 "metadata": {
  "kernelspec": {
   "display_name": "env_PROJET",
   "language": "python",
   "name": "python3"
  },
  "language_info": {
   "codemirror_mode": {
    "name": "ipython",
    "version": 3
   },
   "file_extension": ".py",
   "mimetype": "text/x-python",
   "name": "python",
   "nbconvert_exporter": "python",
   "pygments_lexer": "ipython3",
   "version": "3.12.6"
  }
 },
 "nbformat": 4,
 "nbformat_minor": 2
}
