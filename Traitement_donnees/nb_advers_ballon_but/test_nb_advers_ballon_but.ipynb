{
 "cells": [
  {
   "cell_type": "markdown",
   "metadata": {},
   "source": [
    "## Importation des bliblothèques"
   ]
  },
  {
   "cell_type": "code",
   "execution_count": 35,
   "metadata": {},
   "outputs": [],
   "source": [
    "import sqlite3\n",
    "import pandas as pd"
   ]
  },
  {
   "cell_type": "markdown",
   "metadata": {},
   "source": [
    "## Connection à la base de données"
   ]
  },
  {
   "cell_type": "code",
   "execution_count": 36,
   "metadata": {},
   "outputs": [],
   "source": [
    "connect = sqlite3.connect(\"../../Databases/raw-database.db\")\n",
    "cursor = connect.cursor()"
   ]
  },
  {
   "cell_type": "markdown",
   "metadata": {},
   "source": [
    "## Importation des données freeze frames"
   ]
  },
  {
   "cell_type": "code",
   "execution_count": 37,
   "metadata": {},
   "outputs": [],
   "source": [
    "req = cursor.execute(f\"SELECT * FROM freeze_frames\")\n",
    "res = req.fetchall()\n",
    "desc = req.description\n",
    "freeze_frames = pd.DataFrame(res)\n",
    "freeze_frames.columns = [i[0] for i in desc]"
   ]
  },
  {
   "cell_type": "code",
   "execution_count": 38,
   "metadata": {},
   "outputs": [
    {
     "data": {
      "text/html": [
       "<div>\n",
       "<style scoped>\n",
       "    .dataframe tbody tr th:only-of-type {\n",
       "        vertical-align: middle;\n",
       "    }\n",
       "\n",
       "    .dataframe tbody tr th {\n",
       "        vertical-align: top;\n",
       "    }\n",
       "\n",
       "    .dataframe thead th {\n",
       "        text-align: right;\n",
       "    }\n",
       "</style>\n",
       "<table border=\"1\" class=\"dataframe\">\n",
       "  <thead>\n",
       "    <tr style=\"text-align: right;\">\n",
       "      <th></th>\n",
       "      <th>frame</th>\n",
       "      <th>timestamp</th>\n",
       "      <th>period</th>\n",
       "      <th>event_id</th>\n",
       "      <th>event_x</th>\n",
       "      <th>event_y</th>\n",
       "      <th>is_matched</th>\n",
       "      <th>match_id_SKC</th>\n",
       "      <th>group</th>\n",
       "      <th>tackable_object</th>\n",
       "    </tr>\n",
       "  </thead>\n",
       "  <tbody>\n",
       "    <tr>\n",
       "      <th>0</th>\n",
       "      <td>4820</td>\n",
       "      <td>2024-12-06 00:04:29</td>\n",
       "      <td>1.0</td>\n",
       "      <td>54cbad0c-1f05-4708-9b7f-2cadeae0636b</td>\n",
       "      <td>35.35</td>\n",
       "      <td>-27.71</td>\n",
       "      <td>1</td>\n",
       "      <td>1020089</td>\n",
       "      <td>away team</td>\n",
       "      <td>NaN</td>\n",
       "    </tr>\n",
       "    <tr>\n",
       "      <th>1</th>\n",
       "      <td>4834</td>\n",
       "      <td>2024-12-06 00:04:30.400000</td>\n",
       "      <td>1.0</td>\n",
       "      <td>28239a7e-4d65-4618-99f3-2763088e5e92</td>\n",
       "      <td>42.6125</td>\n",
       "      <td>-26.86</td>\n",
       "      <td>1</td>\n",
       "      <td>1020089</td>\n",
       "      <td>away team</td>\n",
       "      <td>159756.0</td>\n",
       "    </tr>\n",
       "    <tr>\n",
       "      <th>2</th>\n",
       "      <td>4854</td>\n",
       "      <td>2024-12-06 00:04:32.400000</td>\n",
       "      <td>1.0</td>\n",
       "      <td>3ea6ecd9-bc39-4ce5-9b47-1eda239f2705</td>\n",
       "      <td>44.1</td>\n",
       "      <td>1.615</td>\n",
       "      <td>1</td>\n",
       "      <td>1020089</td>\n",
       "      <td>away team</td>\n",
       "      <td>NaN</td>\n",
       "    </tr>\n",
       "  </tbody>\n",
       "</table>\n",
       "</div>"
      ],
      "text/plain": [
       "   frame                   timestamp  period  \\\n",
       "0   4820         2024-12-06 00:04:29     1.0   \n",
       "1   4834  2024-12-06 00:04:30.400000     1.0   \n",
       "2   4854  2024-12-06 00:04:32.400000     1.0   \n",
       "\n",
       "                               event_id  event_x event_y  is_matched  \\\n",
       "0  54cbad0c-1f05-4708-9b7f-2cadeae0636b    35.35  -27.71           1   \n",
       "1  28239a7e-4d65-4618-99f3-2763088e5e92  42.6125  -26.86           1   \n",
       "2  3ea6ecd9-bc39-4ce5-9b47-1eda239f2705     44.1   1.615           1   \n",
       "\n",
       "   match_id_SKC      group  tackable_object  \n",
       "0       1020089  away team              NaN  \n",
       "1       1020089  away team         159756.0  \n",
       "2       1020089  away team              NaN  "
      ]
     },
     "execution_count": 38,
     "metadata": {},
     "output_type": "execute_result"
    }
   ],
   "source": [
    "# Aperçu des données\n",
    "freeze_frames.head(3)"
   ]
  },
  {
   "cell_type": "code",
   "execution_count": 39,
   "metadata": {},
   "outputs": [],
   "source": [
    "# On récupère les event_id SB pour pouvoir importer uniquement ceux qui nous intéressent depuis la table events\n",
    "event_id_freeze_frames = freeze_frames.event_id.unique().tolist()"
   ]
  },
  {
   "cell_type": "markdown",
   "metadata": {},
   "source": [
    "## Importation des données events"
   ]
  },
  {
   "cell_type": "code",
   "execution_count": 40,
   "metadata": {},
   "outputs": [],
   "source": [
    "req = cursor.execute(f\"SELECT event_id, pass_cross, pass_type FROM events WHERE event_id IN ({', '.join('?' * len(event_id_freeze_frames))})\",\n",
    "                     event_id_freeze_frames)\n",
    "res = req.fetchall()\n",
    "desc = req.description\n",
    "events = pd.DataFrame(res)\n",
    "events.columns = [i[0] for i in desc]"
   ]
  },
  {
   "cell_type": "code",
   "execution_count": 41,
   "metadata": {},
   "outputs": [
    {
     "data": {
      "text/html": [
       "<div>\n",
       "<style scoped>\n",
       "    .dataframe tbody tr th:only-of-type {\n",
       "        vertical-align: middle;\n",
       "    }\n",
       "\n",
       "    .dataframe tbody tr th {\n",
       "        vertical-align: top;\n",
       "    }\n",
       "\n",
       "    .dataframe thead th {\n",
       "        text-align: right;\n",
       "    }\n",
       "</style>\n",
       "<table border=\"1\" class=\"dataframe\">\n",
       "  <thead>\n",
       "    <tr style=\"text-align: right;\">\n",
       "      <th></th>\n",
       "      <th>event_id</th>\n",
       "      <th>pass_cross</th>\n",
       "      <th>pass_type</th>\n",
       "    </tr>\n",
       "  </thead>\n",
       "  <tbody>\n",
       "    <tr>\n",
       "      <th>0</th>\n",
       "      <td>872df8f3-a750-4b61-8890-61a35e96b4a4</td>\n",
       "      <td>1.0</td>\n",
       "      <td>None</td>\n",
       "    </tr>\n",
       "    <tr>\n",
       "      <th>1</th>\n",
       "      <td>102a8d71-103b-4a16-a16a-09315649df86</td>\n",
       "      <td>1.0</td>\n",
       "      <td>None</td>\n",
       "    </tr>\n",
       "    <tr>\n",
       "      <th>2</th>\n",
       "      <td>6bf75176-f3ab-4e0a-8110-a5790be58b16</td>\n",
       "      <td>1.0</td>\n",
       "      <td>None</td>\n",
       "    </tr>\n",
       "  </tbody>\n",
       "</table>\n",
       "</div>"
      ],
      "text/plain": [
       "                               event_id  pass_cross pass_type\n",
       "0  872df8f3-a750-4b61-8890-61a35e96b4a4         1.0      None\n",
       "1  102a8d71-103b-4a16-a16a-09315649df86         1.0      None\n",
       "2  6bf75176-f3ab-4e0a-8110-a5790be58b16         1.0      None"
      ]
     },
     "execution_count": 41,
     "metadata": {},
     "output_type": "execute_result"
    }
   ],
   "source": [
    "# Aperçu des données\n",
    "events.head(3)"
   ]
  },
  {
   "cell_type": "markdown",
   "metadata": {},
   "source": [
    "## Jointure des events avec les freeze frames"
   ]
  },
  {
   "cell_type": "code",
   "execution_count": 42,
   "metadata": {},
   "outputs": [],
   "source": [
    "df = pd.merge(freeze_frames, events, on = \"event_id\")\n",
    "df.sort_values(by = [\"match_id_SKC\", \"timestamp\"], inplace = True)"
   ]
  },
  {
   "cell_type": "code",
   "execution_count": 43,
   "metadata": {},
   "outputs": [
    {
     "data": {
      "text/html": [
       "<div>\n",
       "<style scoped>\n",
       "    .dataframe tbody tr th:only-of-type {\n",
       "        vertical-align: middle;\n",
       "    }\n",
       "\n",
       "    .dataframe tbody tr th {\n",
       "        vertical-align: top;\n",
       "    }\n",
       "\n",
       "    .dataframe thead th {\n",
       "        text-align: right;\n",
       "    }\n",
       "</style>\n",
       "<table border=\"1\" class=\"dataframe\">\n",
       "  <thead>\n",
       "    <tr style=\"text-align: right;\">\n",
       "      <th></th>\n",
       "      <th>frame</th>\n",
       "      <th>timestamp</th>\n",
       "      <th>period</th>\n",
       "      <th>event_id</th>\n",
       "      <th>event_x</th>\n",
       "      <th>event_y</th>\n",
       "      <th>is_matched</th>\n",
       "      <th>match_id_SKC</th>\n",
       "      <th>group</th>\n",
       "      <th>tackable_object</th>\n",
       "      <th>pass_cross</th>\n",
       "      <th>pass_type</th>\n",
       "    </tr>\n",
       "  </thead>\n",
       "  <tbody>\n",
       "    <tr>\n",
       "      <th>0</th>\n",
       "      <td>4820</td>\n",
       "      <td>2024-12-06 00:04:29</td>\n",
       "      <td>1.0</td>\n",
       "      <td>54cbad0c-1f05-4708-9b7f-2cadeae0636b</td>\n",
       "      <td>35.35</td>\n",
       "      <td>-27.71</td>\n",
       "      <td>1</td>\n",
       "      <td>1020089</td>\n",
       "      <td>away team</td>\n",
       "      <td>NaN</td>\n",
       "      <td>NaN</td>\n",
       "      <td>None</td>\n",
       "    </tr>\n",
       "    <tr>\n",
       "      <th>1</th>\n",
       "      <td>4834</td>\n",
       "      <td>2024-12-06 00:04:30.400000</td>\n",
       "      <td>1.0</td>\n",
       "      <td>28239a7e-4d65-4618-99f3-2763088e5e92</td>\n",
       "      <td>42.6125</td>\n",
       "      <td>-26.86</td>\n",
       "      <td>1</td>\n",
       "      <td>1020089</td>\n",
       "      <td>away team</td>\n",
       "      <td>159756.0</td>\n",
       "      <td>1.0</td>\n",
       "      <td>None</td>\n",
       "    </tr>\n",
       "    <tr>\n",
       "      <th>2</th>\n",
       "      <td>4854</td>\n",
       "      <td>2024-12-06 00:04:32.400000</td>\n",
       "      <td>1.0</td>\n",
       "      <td>3ea6ecd9-bc39-4ce5-9b47-1eda239f2705</td>\n",
       "      <td>44.1</td>\n",
       "      <td>1.615</td>\n",
       "      <td>1</td>\n",
       "      <td>1020089</td>\n",
       "      <td>away team</td>\n",
       "      <td>NaN</td>\n",
       "      <td>NaN</td>\n",
       "      <td>None</td>\n",
       "    </tr>\n",
       "  </tbody>\n",
       "</table>\n",
       "</div>"
      ],
      "text/plain": [
       "   frame                   timestamp  period  \\\n",
       "0   4820         2024-12-06 00:04:29     1.0   \n",
       "1   4834  2024-12-06 00:04:30.400000     1.0   \n",
       "2   4854  2024-12-06 00:04:32.400000     1.0   \n",
       "\n",
       "                               event_id  event_x event_y  is_matched  \\\n",
       "0  54cbad0c-1f05-4708-9b7f-2cadeae0636b    35.35  -27.71           1   \n",
       "1  28239a7e-4d65-4618-99f3-2763088e5e92  42.6125  -26.86           1   \n",
       "2  3ea6ecd9-bc39-4ce5-9b47-1eda239f2705     44.1   1.615           1   \n",
       "\n",
       "   match_id_SKC      group  tackable_object  pass_cross pass_type  \n",
       "0       1020089  away team              NaN         NaN      None  \n",
       "1       1020089  away team         159756.0         1.0      None  \n",
       "2       1020089  away team              NaN         NaN      None  "
      ]
     },
     "execution_count": 43,
     "metadata": {},
     "output_type": "execute_result"
    }
   ],
   "source": [
    "# Aperçu des données\n",
    "df.head(3)"
   ]
  },
  {
   "cell_type": "markdown",
   "metadata": {},
   "source": [
    "## Analyse des centres"
   ]
  },
  {
   "cell_type": "code",
   "execution_count": 50,
   "metadata": {},
   "outputs": [],
   "source": [
    "# Création d'un dataframe ne comprenant que les centres du dataframe initial\n",
    "centres = df[df.pass_cross == 1]"
   ]
  },
  {
   "cell_type": "code",
   "execution_count": 51,
   "metadata": {},
   "outputs": [
    {
     "data": {
      "text/plain": [
       "np.False_"
      ]
     },
     "execution_count": 51,
     "metadata": {},
     "output_type": "execute_result"
    }
   ],
   "source": [
    "# On regarde si il y'a des valeurs centres qui sont présents plusieurs fois\n",
    "# On utilise l'identifiant [\"frame\", \"match_id_SKC\"] qui est unique à chaque freeze_frame\n",
    "centres[[\"frame\", \"match_id_SKC\"]].duplicated().any()"
   ]
  },
  {
   "cell_type": "markdown",
   "metadata": {},
   "source": [
    "On souhaite maintenant identifier chaque centre et chaque évènement précédent et suivant un centre par un centre_id.  \n",
    "Chaque couple (event précédent le centre, centre, event suivant le centre) sera alors identifié.  \n",
    "De plus, on part du principe qu'on dispose bien de chaque évènements précèdents et suivant les centres.  \n",
    "Il est donc notamment nécessaire des supprimes les events correspondants à des coups de pied arretés."
   ]
  },
  {
   "cell_type": "code",
   "execution_count": 48,
   "metadata": {},
   "outputs": [],
   "source": [
    "# Liste des CPA définis par Stats Bomb\n",
    "CPA = [\"Corner\", \"Free Kick\", \"Goal Kick\", \"Kick Off\"]\n",
    "\n",
    "# Supression des CPA des centres\n",
    "centres = centres[~centres.pass_type.isin(CPA)]"
   ]
  },
  {
   "cell_type": "code",
   "execution_count": 53,
   "metadata": {},
   "outputs": [],
   "source": [
    "# identification des évènements précédents et suivants les centres\n",
    "index_events_avant_centre = centres.index - 1\n",
    "index_events_apres_centre = centres.index + 1"
   ]
  },
  {
   "cell_type": "code",
   "execution_count": 54,
   "metadata": {},
   "outputs": [
    {
     "data": {
      "text/plain": [
       "Index([  875,   901,  2124,  3212,  3712,  5559,  6161,  6559,  7902,  9338,\n",
       "        9550,  9852, 10046, 10540, 10545, 10586, 11416, 13395, 13484, 13843,\n",
       "       13944, 15251, 15835, 16779, 17114, 17776, 17937, 19640],\n",
       "      dtype='int64')"
      ]
     },
     "execution_count": 54,
     "metadata": {},
     "output_type": "execute_result"
    }
   ],
   "source": [
    "# Intersection entre les index des évènements précédents et suivants les centres\n",
    "index_events_avant_centre.intersection(index_events_apres_centre)"
   ]
  },
  {
   "cell_type": "markdown",
   "metadata": {},
   "source": [
    "On remaque qu'il y a des events qui à la fois précèdent et suivent des centres"
   ]
  },
  {
   "cell_type": "code",
   "execution_count": 14,
   "metadata": {},
   "outputs": [],
   "source": [
    "# Création d'un dataframe ne comprenant que les actions précédents les centres\n",
    "events_avant_centre = df.loc[centres.index - 1]"
   ]
  },
  {
   "cell_type": "markdown",
   "metadata": {},
   "source": [
    "Pas de message d'erreur (index out of range), il y'a donc bien un event précédent chaque centre"
   ]
  },
  {
   "cell_type": "code",
   "execution_count": 15,
   "metadata": {},
   "outputs": [
    {
     "data": {
      "text/html": [
       "<div>\n",
       "<style scoped>\n",
       "    .dataframe tbody tr th:only-of-type {\n",
       "        vertical-align: middle;\n",
       "    }\n",
       "\n",
       "    .dataframe tbody tr th {\n",
       "        vertical-align: top;\n",
       "    }\n",
       "\n",
       "    .dataframe thead th {\n",
       "        text-align: right;\n",
       "    }\n",
       "</style>\n",
       "<table border=\"1\" class=\"dataframe\">\n",
       "  <thead>\n",
       "    <tr style=\"text-align: right;\">\n",
       "      <th></th>\n",
       "      <th>frame</th>\n",
       "      <th>timestamp</th>\n",
       "      <th>period</th>\n",
       "      <th>event_id</th>\n",
       "      <th>event_x</th>\n",
       "      <th>event_y</th>\n",
       "      <th>is_matched</th>\n",
       "      <th>match_id_SKC</th>\n",
       "      <th>group</th>\n",
       "      <th>tackable_object</th>\n",
       "      <th>pass_cross</th>\n",
       "      <th>type</th>\n",
       "    </tr>\n",
       "  </thead>\n",
       "  <tbody>\n",
       "  </tbody>\n",
       "</table>\n",
       "</div>"
      ],
      "text/plain": [
       "Empty DataFrame\n",
       "Columns: [frame, timestamp, period, event_id, event_x, event_y, is_matched, match_id_SKC, group, tackable_object, pass_cross, type]\n",
       "Index: []"
      ]
     },
     "execution_count": 15,
     "metadata": {},
     "output_type": "execute_result"
    }
   ],
   "source": [
    "# On regarde si il y'a des évènements précédents des centres qui correspondent à des centres\n",
    "events_avant_centre[events_avant_centre.pass_cross == 1]"
   ]
  },
  {
   "cell_type": "markdown",
   "metadata": {},
   "source": [
    "Il n'y en a pas"
   ]
  },
  {
   "cell_type": "code",
   "execution_count": 13,
   "metadata": {},
   "outputs": [],
   "source": [
    "req = cursor.execute(f\"SELECT * FROM freeze_frames_data\")\n",
    "res = req.fetchall()\n",
    "desc = req.description\n",
    "freeze_frames_data = pd.DataFrame(res)\n",
    "freeze_frames_data.columns = [i[0] for i in desc]"
   ]
  },
  {
   "cell_type": "code",
   "execution_count": 14,
   "metadata": {},
   "outputs": [
    {
     "data": {
      "text/html": [
       "<div>\n",
       "<style scoped>\n",
       "    .dataframe tbody tr th:only-of-type {\n",
       "        vertical-align: middle;\n",
       "    }\n",
       "\n",
       "    .dataframe tbody tr th {\n",
       "        vertical-align: top;\n",
       "    }\n",
       "\n",
       "    .dataframe thead th {\n",
       "        text-align: right;\n",
       "    }\n",
       "</style>\n",
       "<table border=\"1\" class=\"dataframe\">\n",
       "  <thead>\n",
       "    <tr style=\"text-align: right;\">\n",
       "      <th></th>\n",
       "      <th>track_id</th>\n",
       "      <th>trackable_object</th>\n",
       "      <th>is_visible</th>\n",
       "      <th>x</th>\n",
       "      <th>y</th>\n",
       "      <th>vx</th>\n",
       "      <th>vy</th>\n",
       "      <th>speed_norm</th>\n",
       "      <th>accel_norm</th>\n",
       "      <th>z</th>\n",
       "      <th>frame</th>\n",
       "      <th>match_id_SKC</th>\n",
       "    </tr>\n",
       "  </thead>\n",
       "  <tbody>\n",
       "    <tr>\n",
       "      <th>0</th>\n",
       "      <td>12235.0</td>\n",
       "      <td>12235.0</td>\n",
       "      <td>1</td>\n",
       "      <td>45.43</td>\n",
       "      <td>-0.97</td>\n",
       "      <td>2.594984</td>\n",
       "      <td>0.087762</td>\n",
       "      <td>2.596468</td>\n",
       "      <td>-0.145596</td>\n",
       "      <td>NaN</td>\n",
       "      <td>4820</td>\n",
       "      <td>1020089</td>\n",
       "    </tr>\n",
       "    <tr>\n",
       "      <th>1</th>\n",
       "      <td>12327.0</td>\n",
       "      <td>12327.0</td>\n",
       "      <td>1</td>\n",
       "      <td>32.26</td>\n",
       "      <td>-2.78</td>\n",
       "      <td>5.386337</td>\n",
       "      <td>-0.666400</td>\n",
       "      <td>5.427404</td>\n",
       "      <td>0.198751</td>\n",
       "      <td>NaN</td>\n",
       "      <td>4820</td>\n",
       "      <td>1020089</td>\n",
       "    </tr>\n",
       "    <tr>\n",
       "      <th>2</th>\n",
       "      <td>2340.0</td>\n",
       "      <td>2340.0</td>\n",
       "      <td>1</td>\n",
       "      <td>33.55</td>\n",
       "      <td>-16.15</td>\n",
       "      <td>5.579671</td>\n",
       "      <td>-0.015822</td>\n",
       "      <td>5.579693</td>\n",
       "      <td>0.400358</td>\n",
       "      <td>NaN</td>\n",
       "      <td>4820</td>\n",
       "      <td>1020089</td>\n",
       "    </tr>\n",
       "    <tr>\n",
       "      <th>3</th>\n",
       "      <td>12788.0</td>\n",
       "      <td>12788.0</td>\n",
       "      <td>1</td>\n",
       "      <td>30.18</td>\n",
       "      <td>5.24</td>\n",
       "      <td>6.059448</td>\n",
       "      <td>-1.084029</td>\n",
       "      <td>6.155650</td>\n",
       "      <td>0.328704</td>\n",
       "      <td>NaN</td>\n",
       "      <td>4820</td>\n",
       "      <td>1020089</td>\n",
       "    </tr>\n",
       "    <tr>\n",
       "      <th>4</th>\n",
       "      <td>25539.0</td>\n",
       "      <td>25539.0</td>\n",
       "      <td>1</td>\n",
       "      <td>30.43</td>\n",
       "      <td>-24.45</td>\n",
       "      <td>5.782475</td>\n",
       "      <td>-0.472854</td>\n",
       "      <td>5.801777</td>\n",
       "      <td>2.292212</td>\n",
       "      <td>NaN</td>\n",
       "      <td>4820</td>\n",
       "      <td>1020089</td>\n",
       "    </tr>\n",
       "  </tbody>\n",
       "</table>\n",
       "</div>"
      ],
      "text/plain": [
       "   track_id  trackable_object  is_visible      x      y        vx        vy  \\\n",
       "0   12235.0           12235.0           1  45.43  -0.97  2.594984  0.087762   \n",
       "1   12327.0           12327.0           1  32.26  -2.78  5.386337 -0.666400   \n",
       "2    2340.0            2340.0           1  33.55 -16.15  5.579671 -0.015822   \n",
       "3   12788.0           12788.0           1  30.18   5.24  6.059448 -1.084029   \n",
       "4   25539.0           25539.0           1  30.43 -24.45  5.782475 -0.472854   \n",
       "\n",
       "   speed_norm  accel_norm   z  frame  match_id_SKC  \n",
       "0    2.596468   -0.145596 NaN   4820       1020089  \n",
       "1    5.427404    0.198751 NaN   4820       1020089  \n",
       "2    5.579693    0.400358 NaN   4820       1020089  \n",
       "3    6.155650    0.328704 NaN   4820       1020089  \n",
       "4    5.801777    2.292212 NaN   4820       1020089  "
      ]
     },
     "execution_count": 14,
     "metadata": {},
     "output_type": "execute_result"
    }
   ],
   "source": [
    "freeze_frames_data.head(5)"
   ]
  },
  {
   "cell_type": "code",
   "execution_count": 15,
   "metadata": {},
   "outputs": [
    {
     "data": {
      "text/plain": [
       "6720"
      ]
     },
     "execution_count": 15,
     "metadata": {},
     "output_type": "execute_result"
    }
   ],
   "source": [
    "len(events_avant_centre)"
   ]
  },
  {
   "cell_type": "code",
   "execution_count": 16,
   "metadata": {},
   "outputs": [],
   "source": [
    "df2 = pd.merge(events_avant_centre, freeze_frames_data, on = [\"match_id_SKC\", \"frame\"])"
   ]
  },
  {
   "cell_type": "code",
   "execution_count": 17,
   "metadata": {},
   "outputs": [
    {
     "data": {
      "text/html": [
       "<div>\n",
       "<style scoped>\n",
       "    .dataframe tbody tr th:only-of-type {\n",
       "        vertical-align: middle;\n",
       "    }\n",
       "\n",
       "    .dataframe tbody tr th {\n",
       "        vertical-align: top;\n",
       "    }\n",
       "\n",
       "    .dataframe thead th {\n",
       "        text-align: right;\n",
       "    }\n",
       "</style>\n",
       "<table border=\"1\" class=\"dataframe\">\n",
       "  <thead>\n",
       "    <tr style=\"text-align: right;\">\n",
       "      <th></th>\n",
       "      <th>frame</th>\n",
       "      <th>timestamp</th>\n",
       "      <th>period</th>\n",
       "      <th>event_id</th>\n",
       "      <th>event_x</th>\n",
       "      <th>event_y</th>\n",
       "      <th>is_matched</th>\n",
       "      <th>match_id_SKC</th>\n",
       "      <th>group</th>\n",
       "      <th>tackable_object</th>\n",
       "      <th>...</th>\n",
       "      <th>track_id</th>\n",
       "      <th>trackable_object</th>\n",
       "      <th>is_visible</th>\n",
       "      <th>x</th>\n",
       "      <th>y</th>\n",
       "      <th>vx</th>\n",
       "      <th>vy</th>\n",
       "      <th>speed_norm</th>\n",
       "      <th>accel_norm</th>\n",
       "      <th>z</th>\n",
       "    </tr>\n",
       "  </thead>\n",
       "  <tbody>\n",
       "    <tr>\n",
       "      <th>0</th>\n",
       "      <td>4820</td>\n",
       "      <td>2024-12-06 00:04:29</td>\n",
       "      <td>1.0</td>\n",
       "      <td>54cbad0c-1f05-4708-9b7f-2cadeae0636b</td>\n",
       "      <td>35.35</td>\n",
       "      <td>-27.71</td>\n",
       "      <td>1</td>\n",
       "      <td>1020089</td>\n",
       "      <td>away team</td>\n",
       "      <td>NaN</td>\n",
       "      <td>...</td>\n",
       "      <td>12235.0</td>\n",
       "      <td>12235.0</td>\n",
       "      <td>1</td>\n",
       "      <td>45.43</td>\n",
       "      <td>-0.97</td>\n",
       "      <td>2.594984</td>\n",
       "      <td>0.087762</td>\n",
       "      <td>2.596468</td>\n",
       "      <td>-0.145596</td>\n",
       "      <td>NaN</td>\n",
       "    </tr>\n",
       "    <tr>\n",
       "      <th>1</th>\n",
       "      <td>4820</td>\n",
       "      <td>2024-12-06 00:04:29</td>\n",
       "      <td>1.0</td>\n",
       "      <td>54cbad0c-1f05-4708-9b7f-2cadeae0636b</td>\n",
       "      <td>35.35</td>\n",
       "      <td>-27.71</td>\n",
       "      <td>1</td>\n",
       "      <td>1020089</td>\n",
       "      <td>away team</td>\n",
       "      <td>NaN</td>\n",
       "      <td>...</td>\n",
       "      <td>12327.0</td>\n",
       "      <td>12327.0</td>\n",
       "      <td>1</td>\n",
       "      <td>32.26</td>\n",
       "      <td>-2.78</td>\n",
       "      <td>5.386337</td>\n",
       "      <td>-0.666400</td>\n",
       "      <td>5.427404</td>\n",
       "      <td>0.198751</td>\n",
       "      <td>NaN</td>\n",
       "    </tr>\n",
       "    <tr>\n",
       "      <th>2</th>\n",
       "      <td>4820</td>\n",
       "      <td>2024-12-06 00:04:29</td>\n",
       "      <td>1.0</td>\n",
       "      <td>54cbad0c-1f05-4708-9b7f-2cadeae0636b</td>\n",
       "      <td>35.35</td>\n",
       "      <td>-27.71</td>\n",
       "      <td>1</td>\n",
       "      <td>1020089</td>\n",
       "      <td>away team</td>\n",
       "      <td>NaN</td>\n",
       "      <td>...</td>\n",
       "      <td>2340.0</td>\n",
       "      <td>2340.0</td>\n",
       "      <td>1</td>\n",
       "      <td>33.55</td>\n",
       "      <td>-16.15</td>\n",
       "      <td>5.579671</td>\n",
       "      <td>-0.015822</td>\n",
       "      <td>5.579693</td>\n",
       "      <td>0.400358</td>\n",
       "      <td>NaN</td>\n",
       "    </tr>\n",
       "    <tr>\n",
       "      <th>3</th>\n",
       "      <td>4820</td>\n",
       "      <td>2024-12-06 00:04:29</td>\n",
       "      <td>1.0</td>\n",
       "      <td>54cbad0c-1f05-4708-9b7f-2cadeae0636b</td>\n",
       "      <td>35.35</td>\n",
       "      <td>-27.71</td>\n",
       "      <td>1</td>\n",
       "      <td>1020089</td>\n",
       "      <td>away team</td>\n",
       "      <td>NaN</td>\n",
       "      <td>...</td>\n",
       "      <td>12788.0</td>\n",
       "      <td>12788.0</td>\n",
       "      <td>1</td>\n",
       "      <td>30.18</td>\n",
       "      <td>5.24</td>\n",
       "      <td>6.059448</td>\n",
       "      <td>-1.084029</td>\n",
       "      <td>6.155650</td>\n",
       "      <td>0.328704</td>\n",
       "      <td>NaN</td>\n",
       "    </tr>\n",
       "    <tr>\n",
       "      <th>4</th>\n",
       "      <td>4820</td>\n",
       "      <td>2024-12-06 00:04:29</td>\n",
       "      <td>1.0</td>\n",
       "      <td>54cbad0c-1f05-4708-9b7f-2cadeae0636b</td>\n",
       "      <td>35.35</td>\n",
       "      <td>-27.71</td>\n",
       "      <td>1</td>\n",
       "      <td>1020089</td>\n",
       "      <td>away team</td>\n",
       "      <td>NaN</td>\n",
       "      <td>...</td>\n",
       "      <td>25539.0</td>\n",
       "      <td>25539.0</td>\n",
       "      <td>1</td>\n",
       "      <td>30.43</td>\n",
       "      <td>-24.45</td>\n",
       "      <td>5.782475</td>\n",
       "      <td>-0.472854</td>\n",
       "      <td>5.801777</td>\n",
       "      <td>2.292212</td>\n",
       "      <td>NaN</td>\n",
       "    </tr>\n",
       "  </tbody>\n",
       "</table>\n",
       "<p>5 rows × 22 columns</p>\n",
       "</div>"
      ],
      "text/plain": [
       "   frame            timestamp  period                              event_id  \\\n",
       "0   4820  2024-12-06 00:04:29     1.0  54cbad0c-1f05-4708-9b7f-2cadeae0636b   \n",
       "1   4820  2024-12-06 00:04:29     1.0  54cbad0c-1f05-4708-9b7f-2cadeae0636b   \n",
       "2   4820  2024-12-06 00:04:29     1.0  54cbad0c-1f05-4708-9b7f-2cadeae0636b   \n",
       "3   4820  2024-12-06 00:04:29     1.0  54cbad0c-1f05-4708-9b7f-2cadeae0636b   \n",
       "4   4820  2024-12-06 00:04:29     1.0  54cbad0c-1f05-4708-9b7f-2cadeae0636b   \n",
       "\n",
       "  event_x event_y  is_matched  match_id_SKC      group  tackable_object  ...  \\\n",
       "0   35.35  -27.71           1       1020089  away team              NaN  ...   \n",
       "1   35.35  -27.71           1       1020089  away team              NaN  ...   \n",
       "2   35.35  -27.71           1       1020089  away team              NaN  ...   \n",
       "3   35.35  -27.71           1       1020089  away team              NaN  ...   \n",
       "4   35.35  -27.71           1       1020089  away team              NaN  ...   \n",
       "\n",
       "   track_id trackable_object  is_visible      x      y        vx        vy  \\\n",
       "0   12235.0          12235.0           1  45.43  -0.97  2.594984  0.087762   \n",
       "1   12327.0          12327.0           1  32.26  -2.78  5.386337 -0.666400   \n",
       "2    2340.0           2340.0           1  33.55 -16.15  5.579671 -0.015822   \n",
       "3   12788.0          12788.0           1  30.18   5.24  6.059448 -1.084029   \n",
       "4   25539.0          25539.0           1  30.43 -24.45  5.782475 -0.472854   \n",
       "\n",
       "   speed_norm  accel_norm   z  \n",
       "0    2.596468   -0.145596 NaN  \n",
       "1    5.427404    0.198751 NaN  \n",
       "2    5.579693    0.400358 NaN  \n",
       "3    6.155650    0.328704 NaN  \n",
       "4    5.801777    2.292212 NaN  \n",
       "\n",
       "[5 rows x 22 columns]"
      ]
     },
     "execution_count": 17,
     "metadata": {},
     "output_type": "execute_result"
    }
   ],
   "source": [
    "df2.head(5)"
   ]
  },
  {
   "cell_type": "code",
   "execution_count": 18,
   "metadata": {},
   "outputs": [
    {
     "data": {
      "text/plain": [
       "171459"
      ]
     },
     "execution_count": 18,
     "metadata": {},
     "output_type": "execute_result"
    }
   ],
   "source": [
    "len(df2)"
   ]
  }
 ],
 "metadata": {
  "kernelspec": {
   "display_name": "env_PROJET",
   "language": "python",
   "name": "python3"
  },
  "language_info": {
   "codemirror_mode": {
    "name": "ipython",
    "version": 3
   },
   "file_extension": ".py",
   "mimetype": "text/x-python",
   "name": "python",
   "nbconvert_exporter": "python",
   "pygments_lexer": "ipython3",
   "version": "3.12.6"
  }
 },
 "nbformat": 4,
 "nbformat_minor": 2
}
