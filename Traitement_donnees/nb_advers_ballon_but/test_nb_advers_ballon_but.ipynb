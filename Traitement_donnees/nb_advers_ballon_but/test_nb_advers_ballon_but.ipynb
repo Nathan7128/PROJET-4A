{
 "cells": [
  {
   "cell_type": "markdown",
   "metadata": {},
   "source": [
    "## Importation des bliblothèques"
   ]
  },
  {
   "cell_type": "code",
   "execution_count": 1,
   "metadata": {},
   "outputs": [],
   "source": [
    "import sqlite3\n",
    "import pandas as pd"
   ]
  },
  {
   "cell_type": "markdown",
   "metadata": {},
   "source": [
    "## Connection à la base de données"
   ]
  },
  {
   "cell_type": "code",
   "execution_count": 2,
   "metadata": {},
   "outputs": [],
   "source": [
    "connect = sqlite3.connect(\"../../Databases/raw-database.db\")\n",
    "cursor = connect.cursor()"
   ]
  },
  {
   "cell_type": "markdown",
   "metadata": {},
   "source": [
    "## Importation des données freeze frames"
   ]
  },
  {
   "cell_type": "code",
   "execution_count": 3,
   "metadata": {},
   "outputs": [],
   "source": [
    "req = cursor.execute(f\"SELECT * FROM freeze_frames\")\n",
    "res = req.fetchall()\n",
    "desc = req.description\n",
    "freeze_frames = pd.DataFrame(res)\n",
    "freeze_frames.columns = [i[0] for i in desc]"
   ]
  },
  {
   "cell_type": "code",
   "execution_count": 4,
   "metadata": {},
   "outputs": [
    {
     "data": {
      "text/html": [
       "<div>\n",
       "<style scoped>\n",
       "    .dataframe tbody tr th:only-of-type {\n",
       "        vertical-align: middle;\n",
       "    }\n",
       "\n",
       "    .dataframe tbody tr th {\n",
       "        vertical-align: top;\n",
       "    }\n",
       "\n",
       "    .dataframe thead th {\n",
       "        text-align: right;\n",
       "    }\n",
       "</style>\n",
       "<table border=\"1\" class=\"dataframe\">\n",
       "  <thead>\n",
       "    <tr style=\"text-align: right;\">\n",
       "      <th></th>\n",
       "      <th>frame</th>\n",
       "      <th>timestamp</th>\n",
       "      <th>period</th>\n",
       "      <th>event_id</th>\n",
       "      <th>event_x</th>\n",
       "      <th>event_y</th>\n",
       "      <th>is_matched</th>\n",
       "      <th>match_id_SKC</th>\n",
       "      <th>group</th>\n",
       "      <th>tackable_object</th>\n",
       "    </tr>\n",
       "  </thead>\n",
       "  <tbody>\n",
       "    <tr>\n",
       "      <th>0</th>\n",
       "      <td>4820</td>\n",
       "      <td>2025-01-11 00:04:29</td>\n",
       "      <td>1.0</td>\n",
       "      <td>54cbad0c-1f05-4708-9b7f-2cadeae0636b</td>\n",
       "      <td>35.35</td>\n",
       "      <td>-27.71</td>\n",
       "      <td>1</td>\n",
       "      <td>1020089</td>\n",
       "      <td>away team</td>\n",
       "      <td>NaN</td>\n",
       "    </tr>\n",
       "    <tr>\n",
       "      <th>1</th>\n",
       "      <td>4834</td>\n",
       "      <td>2025-01-11 00:04:30.400000</td>\n",
       "      <td>1.0</td>\n",
       "      <td>28239a7e-4d65-4618-99f3-2763088e5e92</td>\n",
       "      <td>42.6125</td>\n",
       "      <td>-26.86</td>\n",
       "      <td>1</td>\n",
       "      <td>1020089</td>\n",
       "      <td>away team</td>\n",
       "      <td>159756.0</td>\n",
       "    </tr>\n",
       "    <tr>\n",
       "      <th>2</th>\n",
       "      <td>4854</td>\n",
       "      <td>2025-01-11 00:04:32.400000</td>\n",
       "      <td>1.0</td>\n",
       "      <td>3ea6ecd9-bc39-4ce5-9b47-1eda239f2705</td>\n",
       "      <td>44.1</td>\n",
       "      <td>1.615</td>\n",
       "      <td>1</td>\n",
       "      <td>1020089</td>\n",
       "      <td>away team</td>\n",
       "      <td>NaN</td>\n",
       "    </tr>\n",
       "  </tbody>\n",
       "</table>\n",
       "</div>"
      ],
      "text/plain": [
       "   frame                   timestamp  period  \\\n",
       "0   4820         2025-01-11 00:04:29     1.0   \n",
       "1   4834  2025-01-11 00:04:30.400000     1.0   \n",
       "2   4854  2025-01-11 00:04:32.400000     1.0   \n",
       "\n",
       "                               event_id  event_x event_y  is_matched  \\\n",
       "0  54cbad0c-1f05-4708-9b7f-2cadeae0636b    35.35  -27.71           1   \n",
       "1  28239a7e-4d65-4618-99f3-2763088e5e92  42.6125  -26.86           1   \n",
       "2  3ea6ecd9-bc39-4ce5-9b47-1eda239f2705     44.1   1.615           1   \n",
       "\n",
       "   match_id_SKC      group  tackable_object  \n",
       "0       1020089  away team              NaN  \n",
       "1       1020089  away team         159756.0  \n",
       "2       1020089  away team              NaN  "
      ]
     },
     "execution_count": 4,
     "metadata": {},
     "output_type": "execute_result"
    }
   ],
   "source": [
    "# Aperçu des données\n",
    "freeze_frames.head(3)"
   ]
  },
  {
   "cell_type": "markdown",
   "metadata": {},
   "source": [
    "## Importation des données events"
   ]
  },
  {
   "cell_type": "code",
   "execution_count": 5,
   "metadata": {},
   "outputs": [],
   "source": [
    "# On récupère les event_id SB pour pouvoir importer uniquement ceux qui nous intéressent depuis la table events\n",
    "event_id_freeze_frames = freeze_frames.event_id.unique().tolist()"
   ]
  },
  {
   "cell_type": "code",
   "execution_count": 6,
   "metadata": {},
   "outputs": [],
   "source": [
    "req = cursor.execute(f\"SELECT event_id, pass_cross, pass_type FROM events WHERE event_id IN ({', '.join('?' * len(event_id_freeze_frames))})\",\n",
    "                     event_id_freeze_frames)\n",
    "res = req.fetchall()\n",
    "desc = req.description\n",
    "events = pd.DataFrame(res)\n",
    "events.columns = [i[0] for i in desc]"
   ]
  },
  {
   "cell_type": "code",
   "execution_count": 7,
   "metadata": {},
   "outputs": [
    {
     "data": {
      "text/html": [
       "<div>\n",
       "<style scoped>\n",
       "    .dataframe tbody tr th:only-of-type {\n",
       "        vertical-align: middle;\n",
       "    }\n",
       "\n",
       "    .dataframe tbody tr th {\n",
       "        vertical-align: top;\n",
       "    }\n",
       "\n",
       "    .dataframe thead th {\n",
       "        text-align: right;\n",
       "    }\n",
       "</style>\n",
       "<table border=\"1\" class=\"dataframe\">\n",
       "  <thead>\n",
       "    <tr style=\"text-align: right;\">\n",
       "      <th></th>\n",
       "      <th>event_id</th>\n",
       "      <th>pass_cross</th>\n",
       "      <th>pass_type</th>\n",
       "    </tr>\n",
       "  </thead>\n",
       "  <tbody>\n",
       "    <tr>\n",
       "      <th>0</th>\n",
       "      <td>2e85ad3e-59c4-479a-a478-4c98174f686b</td>\n",
       "      <td>NaN</td>\n",
       "      <td>None</td>\n",
       "    </tr>\n",
       "    <tr>\n",
       "      <th>1</th>\n",
       "      <td>872df8f3-a750-4b61-8890-61a35e96b4a4</td>\n",
       "      <td>1.0</td>\n",
       "      <td>None</td>\n",
       "    </tr>\n",
       "    <tr>\n",
       "      <th>2</th>\n",
       "      <td>0f842e18-1363-4af3-8faa-6c9cce55b118</td>\n",
       "      <td>NaN</td>\n",
       "      <td>None</td>\n",
       "    </tr>\n",
       "  </tbody>\n",
       "</table>\n",
       "</div>"
      ],
      "text/plain": [
       "                               event_id  pass_cross pass_type\n",
       "0  2e85ad3e-59c4-479a-a478-4c98174f686b         NaN      None\n",
       "1  872df8f3-a750-4b61-8890-61a35e96b4a4         1.0      None\n",
       "2  0f842e18-1363-4af3-8faa-6c9cce55b118         NaN      None"
      ]
     },
     "execution_count": 7,
     "metadata": {},
     "output_type": "execute_result"
    }
   ],
   "source": [
    "# Aperçu des données\n",
    "events.head(3)"
   ]
  },
  {
   "cell_type": "markdown",
   "metadata": {},
   "source": [
    "## Jointure des events avec les freeze frames"
   ]
  },
  {
   "cell_type": "code",
   "execution_count": 8,
   "metadata": {},
   "outputs": [],
   "source": [
    "freeze_frames_events = pd.merge(freeze_frames, events, how = \"left\", on = \"event_id\")\n",
    "freeze_frames_events.sort_values(by = [\"match_id_SKC\", \"timestamp\"], inplace = True)"
   ]
  },
  {
   "cell_type": "code",
   "execution_count": 9,
   "metadata": {},
   "outputs": [
    {
     "data": {
      "text/html": [
       "<div>\n",
       "<style scoped>\n",
       "    .dataframe tbody tr th:only-of-type {\n",
       "        vertical-align: middle;\n",
       "    }\n",
       "\n",
       "    .dataframe tbody tr th {\n",
       "        vertical-align: top;\n",
       "    }\n",
       "\n",
       "    .dataframe thead th {\n",
       "        text-align: right;\n",
       "    }\n",
       "</style>\n",
       "<table border=\"1\" class=\"dataframe\">\n",
       "  <thead>\n",
       "    <tr style=\"text-align: right;\">\n",
       "      <th></th>\n",
       "      <th>frame</th>\n",
       "      <th>timestamp</th>\n",
       "      <th>period</th>\n",
       "      <th>event_id</th>\n",
       "      <th>event_x</th>\n",
       "      <th>event_y</th>\n",
       "      <th>is_matched</th>\n",
       "      <th>match_id_SKC</th>\n",
       "      <th>group</th>\n",
       "      <th>tackable_object</th>\n",
       "      <th>pass_cross</th>\n",
       "      <th>pass_type</th>\n",
       "    </tr>\n",
       "  </thead>\n",
       "  <tbody>\n",
       "    <tr>\n",
       "      <th>0</th>\n",
       "      <td>4820</td>\n",
       "      <td>2025-01-11 00:04:29</td>\n",
       "      <td>1.0</td>\n",
       "      <td>54cbad0c-1f05-4708-9b7f-2cadeae0636b</td>\n",
       "      <td>35.35</td>\n",
       "      <td>-27.71</td>\n",
       "      <td>1</td>\n",
       "      <td>1020089</td>\n",
       "      <td>away team</td>\n",
       "      <td>NaN</td>\n",
       "      <td>NaN</td>\n",
       "      <td>None</td>\n",
       "    </tr>\n",
       "    <tr>\n",
       "      <th>1</th>\n",
       "      <td>4834</td>\n",
       "      <td>2025-01-11 00:04:30.400000</td>\n",
       "      <td>1.0</td>\n",
       "      <td>28239a7e-4d65-4618-99f3-2763088e5e92</td>\n",
       "      <td>42.6125</td>\n",
       "      <td>-26.86</td>\n",
       "      <td>1</td>\n",
       "      <td>1020089</td>\n",
       "      <td>away team</td>\n",
       "      <td>159756.0</td>\n",
       "      <td>1.0</td>\n",
       "      <td>None</td>\n",
       "    </tr>\n",
       "    <tr>\n",
       "      <th>2</th>\n",
       "      <td>4854</td>\n",
       "      <td>2025-01-11 00:04:32.400000</td>\n",
       "      <td>1.0</td>\n",
       "      <td>3ea6ecd9-bc39-4ce5-9b47-1eda239f2705</td>\n",
       "      <td>44.1</td>\n",
       "      <td>1.615</td>\n",
       "      <td>1</td>\n",
       "      <td>1020089</td>\n",
       "      <td>away team</td>\n",
       "      <td>NaN</td>\n",
       "      <td>NaN</td>\n",
       "      <td>None</td>\n",
       "    </tr>\n",
       "  </tbody>\n",
       "</table>\n",
       "</div>"
      ],
      "text/plain": [
       "   frame                   timestamp  period  \\\n",
       "0   4820         2025-01-11 00:04:29     1.0   \n",
       "1   4834  2025-01-11 00:04:30.400000     1.0   \n",
       "2   4854  2025-01-11 00:04:32.400000     1.0   \n",
       "\n",
       "                               event_id  event_x event_y  is_matched  \\\n",
       "0  54cbad0c-1f05-4708-9b7f-2cadeae0636b    35.35  -27.71           1   \n",
       "1  28239a7e-4d65-4618-99f3-2763088e5e92  42.6125  -26.86           1   \n",
       "2  3ea6ecd9-bc39-4ce5-9b47-1eda239f2705     44.1   1.615           1   \n",
       "\n",
       "   match_id_SKC      group  tackable_object  pass_cross pass_type  \n",
       "0       1020089  away team              NaN         NaN      None  \n",
       "1       1020089  away team         159756.0         1.0      None  \n",
       "2       1020089  away team              NaN         NaN      None  "
      ]
     },
     "execution_count": 9,
     "metadata": {},
     "output_type": "execute_result"
    }
   ],
   "source": [
    "# Aperçu des données\n",
    "freeze_frames_events.head(3)"
   ]
  },
  {
   "cell_type": "markdown",
   "metadata": {},
   "source": [
    "## Analyse des centres"
   ]
  },
  {
   "cell_type": "code",
   "execution_count": 10,
   "metadata": {},
   "outputs": [],
   "source": [
    "# Création d'un dataframe ne comprenant que les centres du dataframe initial\n",
    "centres = freeze_frames_events[freeze_frames_events.pass_cross == 1]"
   ]
  },
  {
   "cell_type": "code",
   "execution_count": 11,
   "metadata": {},
   "outputs": [
    {
     "data": {
      "text/plain": [
       "np.False_"
      ]
     },
     "execution_count": 11,
     "metadata": {},
     "output_type": "execute_result"
    }
   ],
   "source": [
    "# On regarde si il y'a des valeurs centres qui sont présents plusieurs fois\n",
    "# On utilise l'identifiant [\"frame\", \"match_id_SKC\"] qui permet d'identifier, de manière unique, chaque frame des données\n",
    "centres[[\"frame\", \"match_id_SKC\"]].duplicated().any()"
   ]
  },
  {
   "cell_type": "markdown",
   "metadata": {},
   "source": [
    "On souhaite maintenant identifier chaque centre et chaque évènement précédant un centre par un centre_id.  \n",
    "Chaque couple (event précédant le centre, centre) sera alors identifié par un unique centre_id.  "
   ]
  },
  {
   "cell_type": "markdown",
   "metadata": {},
   "source": [
    "De plus, on part du principe qu'on dispose bien de chaque évènement précédant les centres.  \n",
    "En effet, étant donné que nous ne nous sommes pas chargé de fusionner les évènements précédant et suivant les centres aux évènements correspondant aux centres, nous ne pouvons pas gérer ces erreurs."
   ]
  },
  {
   "cell_type": "markdown",
   "metadata": {},
   "source": [
    "Pour gérer les cas ou l'évènement suivant un centre (centre1) est également un centre (centre2), nous partons du principe que ces centres ne sont pas dupliqués mais plutôt que ces centres se suivent en terme de frame.  \n",
    "En effet, nous n'aurons pas 2 couples (event avant centre1, centre1, centre2) et (centre1, centre2, event après centre2) mais plutot un couple (event avant centre1, centre1, centre2, event après centre2)"
   ]
  },
  {
   "cell_type": "code",
   "execution_count": 12,
   "metadata": {},
   "outputs": [
    {
     "name": "stdout",
     "output_type": "stream",
     "text": [
      "True\n"
     ]
    }
   ],
   "source": [
    "# Nous partons de ce principe car nous n'avons pas de valeur dupliquée pour la colonne event_id :\n",
    "print(freeze_frames_events.event_id.is_unique)"
   ]
  },
  {
   "cell_type": "markdown",
   "metadata": {},
   "source": [
    "Enfin, il est nécessaire des supprimer les events correspondants à des coups de pied arretés car ce n'est pas cohérent d'étudier les évènements précédant des CPA."
   ]
  },
  {
   "cell_type": "code",
   "execution_count": 13,
   "metadata": {},
   "outputs": [],
   "source": [
    "# Liste des CPA définis par Stats Bomb\n",
    "CPA = [\"Corner\", \"Free Kick\", \"Goal Kick\", \"Kick Off\"]\n",
    "\n",
    "# Supression des CPA des centres\n",
    "centres = centres[~centres.pass_type.isin(CPA)]"
   ]
  },
  {
   "cell_type": "code",
   "execution_count": 14,
   "metadata": {},
   "outputs": [],
   "source": [
    "# identification des évènements précédant les centres\n",
    "index_events_avant_centre = centres.index - 1"
   ]
  },
  {
   "cell_type": "code",
   "execution_count": 15,
   "metadata": {},
   "outputs": [],
   "source": [
    "# Création d'un dataframe ne comprenant que les actions précédents les centres\n",
    "events_avant_centre = freeze_frames_events.loc[index_events_avant_centre]"
   ]
  },
  {
   "cell_type": "code",
   "execution_count": 16,
   "metadata": {},
   "outputs": [
    {
     "data": {
      "text/html": [
       "<div>\n",
       "<style scoped>\n",
       "    .dataframe tbody tr th:only-of-type {\n",
       "        vertical-align: middle;\n",
       "    }\n",
       "\n",
       "    .dataframe tbody tr th {\n",
       "        vertical-align: top;\n",
       "    }\n",
       "\n",
       "    .dataframe thead th {\n",
       "        text-align: right;\n",
       "    }\n",
       "</style>\n",
       "<table border=\"1\" class=\"dataframe\">\n",
       "  <thead>\n",
       "    <tr style=\"text-align: right;\">\n",
       "      <th></th>\n",
       "      <th>frame</th>\n",
       "      <th>timestamp</th>\n",
       "      <th>period</th>\n",
       "      <th>event_id</th>\n",
       "      <th>event_x</th>\n",
       "      <th>event_y</th>\n",
       "      <th>is_matched</th>\n",
       "      <th>match_id_SKC</th>\n",
       "      <th>group</th>\n",
       "      <th>tackable_object</th>\n",
       "      <th>pass_cross</th>\n",
       "      <th>pass_type</th>\n",
       "    </tr>\n",
       "  </thead>\n",
       "  <tbody>\n",
       "  </tbody>\n",
       "</table>\n",
       "</div>"
      ],
      "text/plain": [
       "Empty DataFrame\n",
       "Columns: [frame, timestamp, period, event_id, event_x, event_y, is_matched, match_id_SKC, group, tackable_object, pass_cross, pass_type]\n",
       "Index: []"
      ]
     },
     "execution_count": 16,
     "metadata": {},
     "output_type": "execute_result"
    }
   ],
   "source": [
    "# On regarde si il y'a des évènements précédents des centres qui correspondent à des centres\n",
    "events_avant_centre[events_avant_centre.pass_cross == 1]"
   ]
  },
  {
   "cell_type": "code",
   "execution_count": 17,
   "metadata": {},
   "outputs": [
    {
     "name": "stdout",
     "output_type": "stream",
     "text": [
      "0\n"
     ]
    }
   ],
   "source": [
    "# Autre moyen de vérifier\n",
    "print(len(index_events_avant_centre.intersection(centres.index)))"
   ]
  },
  {
   "cell_type": "markdown",
   "metadata": {},
   "source": [
    "Il n'y en a pas"
   ]
  },
  {
   "cell_type": "code",
   "execution_count": 18,
   "metadata": {},
   "outputs": [],
   "source": [
    "# Attribution des centre_id à chaque events précédant les centres et à chaque centre\n",
    "events_avant_centre[\"centre_id\"] = range(len(events_avant_centre))\n",
    "centres[\"centre_id\"] = range(len(events_avant_centre))"
   ]
  },
  {
   "cell_type": "code",
   "execution_count": 19,
   "metadata": {},
   "outputs": [],
   "source": [
    "# On attribue aux events précédant les centres l'équipe qui a effectué le centre (suivant ces events)\n",
    "# En effet, il est possible que l'équipe en possession du ballon lors de l'évènement précédant un centre ne soit pas la même\n",
    "# que celle qui a effectué le centre en question\n",
    "# De ce fait, il est nécessaire de remplacer l'équipe actuellement attribuée aux events précédant les centres par les équipes ayant effectué \n",
    "# les centres\n",
    "events_avant_centre.drop(\"group\", axis = 1, inplace = True)\n",
    "events_avant_centre = pd.merge(events_avant_centre, centres[[\"group\", \"centre_id\"]], on = \"centre_id\")\n",
    "\n",
    "# De plus, pour éviter les confusions, nous allons renomer la colonne \"group\" par \"team_centre\"\n",
    "events_avant_centre.rename({\"group\" : \"team_centre\"}, axis = 1, inplace = True)"
   ]
  },
  {
   "cell_type": "code",
   "execution_count": 20,
   "metadata": {},
   "outputs": [
    {
     "data": {
      "text/html": [
       "<div>\n",
       "<style scoped>\n",
       "    .dataframe tbody tr th:only-of-type {\n",
       "        vertical-align: middle;\n",
       "    }\n",
       "\n",
       "    .dataframe tbody tr th {\n",
       "        vertical-align: top;\n",
       "    }\n",
       "\n",
       "    .dataframe thead th {\n",
       "        text-align: right;\n",
       "    }\n",
       "</style>\n",
       "<table border=\"1\" class=\"dataframe\">\n",
       "  <thead>\n",
       "    <tr style=\"text-align: right;\">\n",
       "      <th></th>\n",
       "      <th>frame</th>\n",
       "      <th>timestamp</th>\n",
       "      <th>period</th>\n",
       "      <th>event_id</th>\n",
       "      <th>event_x</th>\n",
       "      <th>event_y</th>\n",
       "      <th>is_matched</th>\n",
       "      <th>match_id_SKC</th>\n",
       "      <th>tackable_object</th>\n",
       "      <th>pass_cross</th>\n",
       "      <th>pass_type</th>\n",
       "      <th>centre_id</th>\n",
       "      <th>team_centre</th>\n",
       "    </tr>\n",
       "  </thead>\n",
       "  <tbody>\n",
       "    <tr>\n",
       "      <th>0</th>\n",
       "      <td>4820</td>\n",
       "      <td>2025-01-11 00:04:29</td>\n",
       "      <td>1.0</td>\n",
       "      <td>54cbad0c-1f05-4708-9b7f-2cadeae0636b</td>\n",
       "      <td>35.35</td>\n",
       "      <td>-27.71</td>\n",
       "      <td>1</td>\n",
       "      <td>1020089</td>\n",
       "      <td>NaN</td>\n",
       "      <td>NaN</td>\n",
       "      <td>None</td>\n",
       "      <td>0</td>\n",
       "      <td>away team</td>\n",
       "    </tr>\n",
       "    <tr>\n",
       "      <th>1</th>\n",
       "      <td>5752</td>\n",
       "      <td>2025-01-11 00:06:02.200000</td>\n",
       "      <td>1.0</td>\n",
       "      <td>c1a7a598-9690-4a32-a733-b7b3b585df83</td>\n",
       "      <td>-43.4</td>\n",
       "      <td>-27.455</td>\n",
       "      <td>1</td>\n",
       "      <td>1020089</td>\n",
       "      <td>NaN</td>\n",
       "      <td>NaN</td>\n",
       "      <td>None</td>\n",
       "      <td>1</td>\n",
       "      <td>None</td>\n",
       "    </tr>\n",
       "  </tbody>\n",
       "</table>\n",
       "</div>"
      ],
      "text/plain": [
       "   frame                   timestamp  period  \\\n",
       "0   4820         2025-01-11 00:04:29     1.0   \n",
       "1   5752  2025-01-11 00:06:02.200000     1.0   \n",
       "\n",
       "                               event_id event_x  event_y  is_matched  \\\n",
       "0  54cbad0c-1f05-4708-9b7f-2cadeae0636b   35.35   -27.71           1   \n",
       "1  c1a7a598-9690-4a32-a733-b7b3b585df83   -43.4  -27.455           1   \n",
       "\n",
       "   match_id_SKC  tackable_object  pass_cross pass_type  centre_id team_centre  \n",
       "0       1020089              NaN         NaN      None          0   away team  \n",
       "1       1020089              NaN         NaN      None          1        None  "
      ]
     },
     "execution_count": 20,
     "metadata": {},
     "output_type": "execute_result"
    }
   ],
   "source": [
    "# Aperçu des données\n",
    "events_avant_centre.head(2)"
   ]
  },
  {
   "cell_type": "markdown",
   "metadata": {},
   "source": [
    "Nous avons terminé cette première étape qui nous a permis d'analyser et extraire les centres ainsi que les évènements les précédant.  \n",
    "Nous obtenons finalement un dataframe composé de l'ensemble des events précédant les centres dont nous disposons.  \n",
    "Ce dataframe contient des informations cruciales telles que la position de l'event (\"event_x\" et \"event_y\"), l'identifiant de la frame (le couple [\"frame\", \"match_id_SKC\"]) ou encore l'identifiant du centre que nous avons créé, dans le but de pouvoir retrouver le centre auquel correspond l'event précédant un centre."
   ]
  },
  {
   "cell_type": "markdown",
   "metadata": {},
   "source": [
    "Nous allons maintenant passer à l'analyse de la position des joueurs au moment de l'event précédant le centre.  \n",
    "Pour cela, nous allons utiliser les données de tracking que nous avions au préalable importées dans la BDD SQLite grâce à nos programmes d'importation."
   ]
  },
  {
   "cell_type": "markdown",
   "metadata": {},
   "source": [
    "# Importation des données de tracking"
   ]
  },
  {
   "cell_type": "code",
   "execution_count": 21,
   "metadata": {},
   "outputs": [],
   "source": [
    "req = cursor.execute(f\"SELECT trackable_object, x, y, frame, match_id_SKC FROM tracking_data\")\n",
    "res = req.fetchall()\n",
    "desc = req.description\n",
    "tracking_data = pd.DataFrame(res)\n",
    "tracking_data.columns = [i[0] for i in desc]"
   ]
  },
  {
   "cell_type": "code",
   "execution_count": 22,
   "metadata": {},
   "outputs": [
    {
     "data": {
      "text/html": [
       "<div>\n",
       "<style scoped>\n",
       "    .dataframe tbody tr th:only-of-type {\n",
       "        vertical-align: middle;\n",
       "    }\n",
       "\n",
       "    .dataframe tbody tr th {\n",
       "        vertical-align: top;\n",
       "    }\n",
       "\n",
       "    .dataframe thead th {\n",
       "        text-align: right;\n",
       "    }\n",
       "</style>\n",
       "<table border=\"1\" class=\"dataframe\">\n",
       "  <thead>\n",
       "    <tr style=\"text-align: right;\">\n",
       "      <th></th>\n",
       "      <th>trackable_object</th>\n",
       "      <th>x</th>\n",
       "      <th>y</th>\n",
       "      <th>frame</th>\n",
       "      <th>match_id_SKC</th>\n",
       "    </tr>\n",
       "  </thead>\n",
       "  <tbody>\n",
       "    <tr>\n",
       "      <th>0</th>\n",
       "      <td>12235.0</td>\n",
       "      <td>45.43</td>\n",
       "      <td>-0.97</td>\n",
       "      <td>4820</td>\n",
       "      <td>1020089</td>\n",
       "    </tr>\n",
       "    <tr>\n",
       "      <th>1</th>\n",
       "      <td>12327.0</td>\n",
       "      <td>32.26</td>\n",
       "      <td>-2.78</td>\n",
       "      <td>4820</td>\n",
       "      <td>1020089</td>\n",
       "    </tr>\n",
       "  </tbody>\n",
       "</table>\n",
       "</div>"
      ],
      "text/plain": [
       "   trackable_object      x     y  frame  match_id_SKC\n",
       "0           12235.0  45.43 -0.97   4820       1020089\n",
       "1           12327.0  32.26 -2.78   4820       1020089"
      ]
     },
     "execution_count": 22,
     "metadata": {},
     "output_type": "execute_result"
    }
   ],
   "source": [
    "# Aperçu des données\n",
    "tracking_data.head(2)"
   ]
  },
  {
   "cell_type": "markdown",
   "metadata": {},
   "source": [
    "Nous allons maintenant fusionner le dataframe des events précédant les centres avec le dataframe des données de tracking.  \n",
    "En effet, on souhaite étudier seulement les positions des joueurs sur les events précédant des centres, or le dataframe tracking_data actuel contient les données de toutes les frames disponibles.  \n",
    "Pour effectuer ce merge, nous allons joindre les deux dataframes par rapport au couple [\"match_id_SKC\", \"frame\"] qui identifie de manière unique chaque frame."
   ]
  },
  {
   "cell_type": "code",
   "execution_count": 23,
   "metadata": {},
   "outputs": [],
   "source": [
    "td_avant_centre = pd.merge(events_avant_centre[[\"match_id_SKC\", \"frame\", \"centre_id\", \"team_centre\"]],\n",
    "                              tracking_data, on = [\"match_id_SKC\", \"frame\"])\n",
    "# td_avant_centre correspond à \"tracking data des events avant les centres\""
   ]
  },
  {
   "cell_type": "code",
   "execution_count": 24,
   "metadata": {},
   "outputs": [
    {
     "data": {
      "text/html": [
       "<div>\n",
       "<style scoped>\n",
       "    .dataframe tbody tr th:only-of-type {\n",
       "        vertical-align: middle;\n",
       "    }\n",
       "\n",
       "    .dataframe tbody tr th {\n",
       "        vertical-align: top;\n",
       "    }\n",
       "\n",
       "    .dataframe thead th {\n",
       "        text-align: right;\n",
       "    }\n",
       "</style>\n",
       "<table border=\"1\" class=\"dataframe\">\n",
       "  <thead>\n",
       "    <tr style=\"text-align: right;\">\n",
       "      <th></th>\n",
       "      <th>match_id_SKC</th>\n",
       "      <th>frame</th>\n",
       "      <th>centre_id</th>\n",
       "      <th>team_centre</th>\n",
       "      <th>trackable_object</th>\n",
       "      <th>x</th>\n",
       "      <th>y</th>\n",
       "    </tr>\n",
       "  </thead>\n",
       "  <tbody>\n",
       "    <tr>\n",
       "      <th>0</th>\n",
       "      <td>1020089</td>\n",
       "      <td>4820</td>\n",
       "      <td>0</td>\n",
       "      <td>away team</td>\n",
       "      <td>12235.0</td>\n",
       "      <td>45.43</td>\n",
       "      <td>-0.97</td>\n",
       "    </tr>\n",
       "    <tr>\n",
       "      <th>1</th>\n",
       "      <td>1020089</td>\n",
       "      <td>4820</td>\n",
       "      <td>0</td>\n",
       "      <td>away team</td>\n",
       "      <td>12327.0</td>\n",
       "      <td>32.26</td>\n",
       "      <td>-2.78</td>\n",
       "    </tr>\n",
       "  </tbody>\n",
       "</table>\n",
       "</div>"
      ],
      "text/plain": [
       "   match_id_SKC  frame  centre_id team_centre  trackable_object      x     y\n",
       "0       1020089   4820          0   away team           12235.0  45.43 -0.97\n",
       "1       1020089   4820          0   away team           12327.0  32.26 -2.78"
      ]
     },
     "execution_count": 24,
     "metadata": {},
     "output_type": "execute_result"
    }
   ],
   "source": [
    "# Aperçu des données\n",
    "td_avant_centre.head(2)"
   ]
  },
  {
   "cell_type": "markdown",
   "metadata": {},
   "source": [
    "Nous allons maintenant regarder s'il y'a des frames (des events précédant les centres) pour lesquelles nous n'avons pas de tracking data"
   ]
  },
  {
   "cell_type": "code",
   "execution_count": 25,
   "metadata": {},
   "outputs": [
    {
     "name": "stdout",
     "output_type": "stream",
     "text": [
      "Nombre de centres pour lesquels nous n'avons pas d'information sur la frame de l'event précédent le centre dans les données de tracking : 38\n",
      "Nombre total de frames correspondant à des events précédant un centre : 6181\n"
     ]
    }
   ],
   "source": [
    "print(\"Nombre de centres pour lesquels nous n'avons pas d'information sur la frame de l'event précédent le centre dans les données de tracking :\",\n",
    "      len(events_avant_centre[~events_avant_centre.centre_id.isin(td_avant_centre.centre_id)]))\n",
    "print(\"Nombre total de frames correspondant à des events précédant un centre :\", len(events_avant_centre))"
   ]
  },
  {
   "cell_type": "markdown",
   "metadata": {},
   "source": [
    "On remarque qu'il y'a seulement 38 des 6181 frames pour lesquelles nous n'avons pas de données de tracking, ce qui reste raisonnablement faible."
   ]
  },
  {
   "cell_type": "markdown",
   "metadata": {},
   "source": [
    "---"
   ]
  },
  {
   "cell_type": "markdown",
   "metadata": {},
   "source": [
    "Rappel : nous souhaitons étudier le nombre d'adversaires entre le ballon et le but pendant l'évènement précédant le centre.  \n",
    "Or, pour l'instant, il nous manque les informations suivantes :\n",
    "- Les id Skill Corner des équipes (à domicile et extérieur pour chaque match)\n",
    "- les équipes auxquels appartiennent les joueurs  \n",
    "\n",
    "De ce fait, nous devons obtenir pour chaque match, les team id Skill Corner des équipes à domicile et à l'extérieure, ainsi que pour chaque joueur, l'équipe à laquelle ils appartiennent.  \n",
    "C'est ce que nous allons faire dans les deux prochaines sections.  \n",
    "Il est important de noté que nous ne disposons pas directement de ces informations, nous allons donc devoir manipuler les différentes données de matching (entre les id Stats Bomb et Skill Corner)."
   ]
  },
  {
   "cell_type": "markdown",
   "metadata": {},
   "source": [
    "# Matching des équipes (domicile et extérieur)"
   ]
  },
  {
   "cell_type": "markdown",
   "metadata": {},
   "source": [
    "L'objectif de cette partie est de savoir, pour chaque match, quel est l'id Skill Corner de l'équipe à domicile et celui de l'équipe à l'extérieur"
   ]
  },
  {
   "cell_type": "markdown",
   "metadata": {},
   "source": [
    "Pour obtenir ces informations, nous allons nous servir de des données dont nous disposons actuellement :\n",
    "- Nous avons les matching des id Skill Corner et Stats Bomb des équipes\n",
    "- De même pour les id des matches\n",
    "- Enfin, grâce aux données matches de Stats Bomb (SB_matches), nous savons pour chaque match quelle était l'équipe à domicile et quelle était l'équipe à l'extérieur\n",
    "\n",
    "En effectuant diverses jointures entre ces tables, nous allons réussir à retrouver les informations souhaitées."
   ]
  },
  {
   "cell_type": "code",
   "execution_count": 26,
   "metadata": {},
   "outputs": [],
   "source": [
    "# Importation des données de matching entre les id Skill Corner et Stats Bomb des matches\n",
    "req = cursor.execute(f\"SELECT * FROM matching_matches\")\n",
    "res = req.fetchall()\n",
    "desc = req.description\n",
    "matching_matches = pd.DataFrame(res)\n",
    "matching_matches.columns = [i[0] for i in desc]"
   ]
  },
  {
   "cell_type": "code",
   "execution_count": 27,
   "metadata": {},
   "outputs": [
    {
     "data": {
      "text/html": [
       "<div>\n",
       "<style scoped>\n",
       "    .dataframe tbody tr th:only-of-type {\n",
       "        vertical-align: middle;\n",
       "    }\n",
       "\n",
       "    .dataframe tbody tr th {\n",
       "        vertical-align: top;\n",
       "    }\n",
       "\n",
       "    .dataframe thead th {\n",
       "        text-align: right;\n",
       "    }\n",
       "</style>\n",
       "<table border=\"1\" class=\"dataframe\">\n",
       "  <thead>\n",
       "    <tr style=\"text-align: right;\">\n",
       "      <th></th>\n",
       "      <th>match_id_SB</th>\n",
       "      <th>match_id_SKC</th>\n",
       "    </tr>\n",
       "  </thead>\n",
       "  <tbody>\n",
       "    <tr>\n",
       "      <th>0</th>\n",
       "      <td>3894366.0</td>\n",
       "      <td>1547880</td>\n",
       "    </tr>\n",
       "    <tr>\n",
       "      <th>1</th>\n",
       "      <td>3894367.0</td>\n",
       "      <td>1547881</td>\n",
       "    </tr>\n",
       "  </tbody>\n",
       "</table>\n",
       "</div>"
      ],
      "text/plain": [
       "   match_id_SB  match_id_SKC\n",
       "0    3894366.0       1547880\n",
       "1    3894367.0       1547881"
      ]
     },
     "execution_count": 27,
     "metadata": {},
     "output_type": "execute_result"
    }
   ],
   "source": [
    "# Aperçu des données\n",
    "matching_matches.head(2)"
   ]
  },
  {
   "cell_type": "code",
   "execution_count": 28,
   "metadata": {},
   "outputs": [],
   "source": [
    "# Importation des données de matching entre les id Skill Corner et Stats Bomb des équipes\n",
    "req = cursor.execute(f\"SELECT * FROM matching_teams\")\n",
    "res = req.fetchall()\n",
    "desc = req.description\n",
    "matching_teams = pd.DataFrame(res)\n",
    "matching_teams.columns = [i[0] for i in desc]"
   ]
  },
  {
   "cell_type": "code",
   "execution_count": 29,
   "metadata": {},
   "outputs": [
    {
     "data": {
      "text/html": [
       "<div>\n",
       "<style scoped>\n",
       "    .dataframe tbody tr th:only-of-type {\n",
       "        vertical-align: middle;\n",
       "    }\n",
       "\n",
       "    .dataframe tbody tr th {\n",
       "        vertical-align: top;\n",
       "    }\n",
       "\n",
       "    .dataframe thead th {\n",
       "        text-align: right;\n",
       "    }\n",
       "</style>\n",
       "<table border=\"1\" class=\"dataframe\">\n",
       "  <thead>\n",
       "    <tr style=\"text-align: right;\">\n",
       "      <th></th>\n",
       "      <th>team_id_SB</th>\n",
       "      <th>team_id_SKC</th>\n",
       "    </tr>\n",
       "  </thead>\n",
       "  <tbody>\n",
       "    <tr>\n",
       "      <th>0</th>\n",
       "      <td>168</td>\n",
       "      <td>85</td>\n",
       "    </tr>\n",
       "    <tr>\n",
       "      <th>1</th>\n",
       "      <td>144</td>\n",
       "      <td>66</td>\n",
       "    </tr>\n",
       "  </tbody>\n",
       "</table>\n",
       "</div>"
      ],
      "text/plain": [
       "   team_id_SB  team_id_SKC\n",
       "0         168           85\n",
       "1         144           66"
      ]
     },
     "execution_count": 29,
     "metadata": {},
     "output_type": "execute_result"
    }
   ],
   "source": [
    "# Aperçu des données\n",
    "matching_teams.head(2)"
   ]
  },
  {
   "cell_type": "code",
   "execution_count": 30,
   "metadata": {},
   "outputs": [],
   "source": [
    "# Importation des informations Stats Bomb sur l'ensemble des matches dont nous disposons.\n",
    "req = cursor.execute(f\"SELECT match_id_SB, home_team_id_SB, away_team_id_SB FROM SB_matches\")\n",
    "res = req.fetchall()\n",
    "desc = req.description\n",
    "SB_matches = pd.DataFrame(res)\n",
    "SB_matches.columns = [i[0] for i in desc]"
   ]
  },
  {
   "cell_type": "code",
   "execution_count": 31,
   "metadata": {},
   "outputs": [
    {
     "data": {
      "text/html": [
       "<div>\n",
       "<style scoped>\n",
       "    .dataframe tbody tr th:only-of-type {\n",
       "        vertical-align: middle;\n",
       "    }\n",
       "\n",
       "    .dataframe tbody tr th {\n",
       "        vertical-align: top;\n",
       "    }\n",
       "\n",
       "    .dataframe thead th {\n",
       "        text-align: right;\n",
       "    }\n",
       "</style>\n",
       "<table border=\"1\" class=\"dataframe\">\n",
       "  <thead>\n",
       "    <tr style=\"text-align: right;\">\n",
       "      <th></th>\n",
       "      <th>match_id_SB</th>\n",
       "      <th>home_team_id_SB</th>\n",
       "      <th>away_team_id_SB</th>\n",
       "    </tr>\n",
       "  </thead>\n",
       "  <tbody>\n",
       "    <tr>\n",
       "      <th>0</th>\n",
       "      <td>3894290</td>\n",
       "      <td>136</td>\n",
       "      <td>139</td>\n",
       "    </tr>\n",
       "    <tr>\n",
       "      <th>1</th>\n",
       "      <td>3894367</td>\n",
       "      <td>165</td>\n",
       "      <td>152</td>\n",
       "    </tr>\n",
       "  </tbody>\n",
       "</table>\n",
       "</div>"
      ],
      "text/plain": [
       "   match_id_SB  home_team_id_SB  away_team_id_SB\n",
       "0      3894290              136              139\n",
       "1      3894367              165              152"
      ]
     },
     "execution_count": 31,
     "metadata": {},
     "output_type": "execute_result"
    }
   ],
   "source": [
    "# Aperçu des données\n",
    "SB_matches.head(2)"
   ]
  },
  {
   "cell_type": "markdown",
   "metadata": {},
   "source": [
    "Maintenant que nous avons importé l'ensemble des tables (converties en dataframe) nécessaires, nous allons pouvoir effectuer les jointures entre ces dataframes afin de faire matcher les différents id"
   ]
  },
  {
   "cell_type": "code",
   "execution_count": 32,
   "metadata": {},
   "outputs": [],
   "source": [
    "# Matching des match id SB des données SB_matches avec leur id Skill Corner respectif\n",
    "merge_match_id = pd.merge(SB_matches, matching_matches, on = \"match_id_SB\")"
   ]
  },
  {
   "cell_type": "code",
   "execution_count": 33,
   "metadata": {},
   "outputs": [
    {
     "data": {
      "text/html": [
       "<div>\n",
       "<style scoped>\n",
       "    .dataframe tbody tr th:only-of-type {\n",
       "        vertical-align: middle;\n",
       "    }\n",
       "\n",
       "    .dataframe tbody tr th {\n",
       "        vertical-align: top;\n",
       "    }\n",
       "\n",
       "    .dataframe thead th {\n",
       "        text-align: right;\n",
       "    }\n",
       "</style>\n",
       "<table border=\"1\" class=\"dataframe\">\n",
       "  <thead>\n",
       "    <tr style=\"text-align: right;\">\n",
       "      <th></th>\n",
       "      <th>match_id_SB</th>\n",
       "      <th>home_team_id_SB</th>\n",
       "      <th>away_team_id_SB</th>\n",
       "      <th>match_id_SKC</th>\n",
       "    </tr>\n",
       "  </thead>\n",
       "  <tbody>\n",
       "    <tr>\n",
       "      <th>0</th>\n",
       "      <td>3894290</td>\n",
       "      <td>136</td>\n",
       "      <td>139</td>\n",
       "      <td>1434956</td>\n",
       "    </tr>\n",
       "    <tr>\n",
       "      <th>1</th>\n",
       "      <td>3894367</td>\n",
       "      <td>165</td>\n",
       "      <td>152</td>\n",
       "      <td>1547881</td>\n",
       "    </tr>\n",
       "  </tbody>\n",
       "</table>\n",
       "</div>"
      ],
      "text/plain": [
       "   match_id_SB  home_team_id_SB  away_team_id_SB  match_id_SKC\n",
       "0      3894290              136              139       1434956\n",
       "1      3894367              165              152       1547881"
      ]
     },
     "execution_count": 33,
     "metadata": {},
     "output_type": "execute_result"
    }
   ],
   "source": [
    "# Aperçu des données\n",
    "merge_match_id.head(2)"
   ]
  },
  {
   "cell_type": "code",
   "execution_count": 34,
   "metadata": {},
   "outputs": [],
   "source": [
    "# Matching des id SB des équipes à domicile des données SB_matches avec leur id Skill Corner respectif\n",
    "merge_home_team_id = pd.merge(merge_match_id, matching_teams, left_on = \"home_team_id_SB\", right_on = \"team_id_SB\")"
   ]
  },
  {
   "cell_type": "code",
   "execution_count": 35,
   "metadata": {},
   "outputs": [
    {
     "data": {
      "text/html": [
       "<div>\n",
       "<style scoped>\n",
       "    .dataframe tbody tr th:only-of-type {\n",
       "        vertical-align: middle;\n",
       "    }\n",
       "\n",
       "    .dataframe tbody tr th {\n",
       "        vertical-align: top;\n",
       "    }\n",
       "\n",
       "    .dataframe thead th {\n",
       "        text-align: right;\n",
       "    }\n",
       "</style>\n",
       "<table border=\"1\" class=\"dataframe\">\n",
       "  <thead>\n",
       "    <tr style=\"text-align: right;\">\n",
       "      <th></th>\n",
       "      <th>match_id_SB</th>\n",
       "      <th>home_team_id_SB</th>\n",
       "      <th>away_team_id_SB</th>\n",
       "      <th>match_id_SKC</th>\n",
       "      <th>team_id_SB</th>\n",
       "      <th>team_id_SKC</th>\n",
       "    </tr>\n",
       "  </thead>\n",
       "  <tbody>\n",
       "    <tr>\n",
       "      <th>0</th>\n",
       "      <td>3894290</td>\n",
       "      <td>136</td>\n",
       "      <td>139</td>\n",
       "      <td>1434956</td>\n",
       "      <td>136</td>\n",
       "      <td>70</td>\n",
       "    </tr>\n",
       "    <tr>\n",
       "      <th>1</th>\n",
       "      <td>3894367</td>\n",
       "      <td>165</td>\n",
       "      <td>152</td>\n",
       "      <td>1547881</td>\n",
       "      <td>165</td>\n",
       "      <td>72</td>\n",
       "    </tr>\n",
       "  </tbody>\n",
       "</table>\n",
       "</div>"
      ],
      "text/plain": [
       "   match_id_SB  home_team_id_SB  away_team_id_SB  match_id_SKC  team_id_SB  \\\n",
       "0      3894290              136              139       1434956         136   \n",
       "1      3894367              165              152       1547881         165   \n",
       "\n",
       "   team_id_SKC  \n",
       "0           70  \n",
       "1           72  "
      ]
     },
     "execution_count": 35,
     "metadata": {},
     "output_type": "execute_result"
    }
   ],
   "source": [
    "# Aperçu des données\n",
    "merge_home_team_id.head(2)"
   ]
  },
  {
   "cell_type": "code",
   "execution_count": 36,
   "metadata": {},
   "outputs": [],
   "source": [
    "# On retire donc la colonne team_id_SB qui n'est pas utile\n",
    "merge_home_team_id.drop(\"team_id_SB\", axis = 1, inplace = True)\n",
    "\n",
    "# De plus, on renomme la colonne \"team_id_SKC\" par \"home_team_id_SKC\" car il faut bien spécifier que c'est l'id Skill Corner de l'équipe à domicile\n",
    "merge_home_team_id.rename({\"team_id_SKC\" : \"home_team_id_SKC\"}, axis = 1, inplace = True)\n"
   ]
  },
  {
   "cell_type": "code",
   "execution_count": 37,
   "metadata": {},
   "outputs": [],
   "source": [
    "# Il ne nous reste plus qu'à faire la même chose pour les équipes à l'extérieur\n",
    "matching_home_away_team = pd.merge(merge_home_team_id, matching_teams, left_on = \"away_team_id_SB\", right_on = \"team_id_SB\")\n",
    "matching_home_away_team.drop(\"team_id_SB\", axis = 1, inplace = True)\n",
    "matching_home_away_team.rename({\"team_id_SKC\" : \"away_team_id_SKC\"}, axis = 1, inplace = True)"
   ]
  },
  {
   "cell_type": "code",
   "execution_count": 38,
   "metadata": {},
   "outputs": [
    {
     "data": {
      "text/html": [
       "<div>\n",
       "<style scoped>\n",
       "    .dataframe tbody tr th:only-of-type {\n",
       "        vertical-align: middle;\n",
       "    }\n",
       "\n",
       "    .dataframe tbody tr th {\n",
       "        vertical-align: top;\n",
       "    }\n",
       "\n",
       "    .dataframe thead th {\n",
       "        text-align: right;\n",
       "    }\n",
       "</style>\n",
       "<table border=\"1\" class=\"dataframe\">\n",
       "  <thead>\n",
       "    <tr style=\"text-align: right;\">\n",
       "      <th></th>\n",
       "      <th>match_id_SB</th>\n",
       "      <th>home_team_id_SB</th>\n",
       "      <th>away_team_id_SB</th>\n",
       "      <th>match_id_SKC</th>\n",
       "      <th>home_team_id_SKC</th>\n",
       "      <th>away_team_id_SKC</th>\n",
       "    </tr>\n",
       "  </thead>\n",
       "  <tbody>\n",
       "    <tr>\n",
       "      <th>0</th>\n",
       "      <td>3894290</td>\n",
       "      <td>136</td>\n",
       "      <td>139</td>\n",
       "      <td>1434956</td>\n",
       "      <td>70</td>\n",
       "      <td>86</td>\n",
       "    </tr>\n",
       "    <tr>\n",
       "      <th>1</th>\n",
       "      <td>3894367</td>\n",
       "      <td>165</td>\n",
       "      <td>152</td>\n",
       "      <td>1547881</td>\n",
       "      <td>72</td>\n",
       "      <td>328</td>\n",
       "    </tr>\n",
       "  </tbody>\n",
       "</table>\n",
       "</div>"
      ],
      "text/plain": [
       "   match_id_SB  home_team_id_SB  away_team_id_SB  match_id_SKC  \\\n",
       "0      3894290              136              139       1434956   \n",
       "1      3894367              165              152       1547881   \n",
       "\n",
       "   home_team_id_SKC  away_team_id_SKC  \n",
       "0                70                86  \n",
       "1                72               328  "
      ]
     },
     "execution_count": 38,
     "metadata": {},
     "output_type": "execute_result"
    }
   ],
   "source": [
    "# Aperçu des données\n",
    "matching_home_away_team.head(2)"
   ]
  },
  {
   "cell_type": "markdown",
   "metadata": {},
   "source": [
    "Nous ne souhaitons conserver que les informations qui nous serons utiles pour le matching avec les données de tracking, c'est à dire les colonnes  \"match_id_SKC\", \"home_team_id_SKC\" et \"away_team_id_SKC\"."
   ]
  },
  {
   "cell_type": "code",
   "execution_count": 39,
   "metadata": {},
   "outputs": [],
   "source": [
    "matching_home_away_team = matching_home_away_team[[\"match_id_SKC\", \"home_team_id_SKC\", \"away_team_id_SKC\"]]"
   ]
  },
  {
   "cell_type": "markdown",
   "metadata": {},
   "source": [
    "# Matching des joueurs avec leur équipe (pour chaque match)"
   ]
  },
  {
   "cell_type": "markdown",
   "metadata": {},
   "source": [
    "Nous allons maintenant faire matcher, pour chaque match, l'ensemble des id Stats Bomb des joueurs présents sur la feuille de match avec leur id Skill Corner respectif.  \n",
    "Il est important de bien s'intéresser aux id des joueurs pour chaque match et non sur une saison.  \n",
    "En effet, dans le cas ou un joueur serait transféré d'une équipe à une autre au cours d'une saison, il aurait alors 2 valeurs (dans le cas ou on ferait matcher le joueur avec son équipe sur la saison)"
   ]
  },
  {
   "cell_type": "markdown",
   "metadata": {},
   "source": [
    "Pour obtenir ce matching, nous allons utiliser les données lineup de Stats Bomb qui nous fournissent, pour chaque match, la liste des id des joueurs sur la feuille de match ainsi que les id SB des équipes auxquelles ils appartiennent.  \n",
    "De plus, nous utiliserons les tables de matching pour les id SB et SK des matches, des équipes et des joueurs."
   ]
  },
  {
   "cell_type": "code",
   "execution_count": 40,
   "metadata": {},
   "outputs": [],
   "source": [
    "# Importation des données lineup de Stats Bomb.\n",
    "req = cursor.execute(f\"SELECT player_id_SB, team_id_SB, match_id_SB FROM lineups\")\n",
    "res = req.fetchall()\n",
    "desc = req.description\n",
    "lineups = pd.DataFrame(res)\n",
    "lineups.columns = [i[0] for i in desc]"
   ]
  },
  {
   "cell_type": "code",
   "execution_count": 41,
   "metadata": {},
   "outputs": [
    {
     "data": {
      "text/html": [
       "<div>\n",
       "<style scoped>\n",
       "    .dataframe tbody tr th:only-of-type {\n",
       "        vertical-align: middle;\n",
       "    }\n",
       "\n",
       "    .dataframe tbody tr th {\n",
       "        vertical-align: top;\n",
       "    }\n",
       "\n",
       "    .dataframe thead th {\n",
       "        text-align: right;\n",
       "    }\n",
       "</style>\n",
       "<table border=\"1\" class=\"dataframe\">\n",
       "  <thead>\n",
       "    <tr style=\"text-align: right;\">\n",
       "      <th></th>\n",
       "      <th>player_id_SB</th>\n",
       "      <th>team_id_SB</th>\n",
       "      <th>match_id_SB</th>\n",
       "    </tr>\n",
       "  </thead>\n",
       "  <tbody>\n",
       "    <tr>\n",
       "      <th>0</th>\n",
       "      <td>2941</td>\n",
       "      <td>147</td>\n",
       "      <td>3894037</td>\n",
       "    </tr>\n",
       "    <tr>\n",
       "      <th>1</th>\n",
       "      <td>3044</td>\n",
       "      <td>147</td>\n",
       "      <td>3894037</td>\n",
       "    </tr>\n",
       "  </tbody>\n",
       "</table>\n",
       "</div>"
      ],
      "text/plain": [
       "   player_id_SB  team_id_SB  match_id_SB\n",
       "0          2941         147      3894037\n",
       "1          3044         147      3894037"
      ]
     },
     "execution_count": 41,
     "metadata": {},
     "output_type": "execute_result"
    }
   ],
   "source": [
    "# Aperçu des données\n",
    "lineups.head(2)"
   ]
  },
  {
   "cell_type": "code",
   "execution_count": 42,
   "metadata": {},
   "outputs": [],
   "source": [
    "# Importation des données de matching des id SK et SB des joueurs.\n",
    "# De plus, nous allons aussi importer la colonne \"trackable_object\" qui est utilisée pour identifier les joueurs dans les données de tracking\n",
    "req = cursor.execute(f\"SELECT trackable_object, player_id_SB, player_id_SKC FROM matching_players\")\n",
    "res = req.fetchall()\n",
    "desc = req.description\n",
    "matching_players = pd.DataFrame(res)\n",
    "matching_players.columns = [i[0] for i in desc]"
   ]
  },
  {
   "cell_type": "code",
   "execution_count": 43,
   "metadata": {},
   "outputs": [
    {
     "data": {
      "text/html": [
       "<div>\n",
       "<style scoped>\n",
       "    .dataframe tbody tr th:only-of-type {\n",
       "        vertical-align: middle;\n",
       "    }\n",
       "\n",
       "    .dataframe tbody tr th {\n",
       "        vertical-align: top;\n",
       "    }\n",
       "\n",
       "    .dataframe thead th {\n",
       "        text-align: right;\n",
       "    }\n",
       "</style>\n",
       "<table border=\"1\" class=\"dataframe\">\n",
       "  <thead>\n",
       "    <tr style=\"text-align: right;\">\n",
       "      <th></th>\n",
       "      <th>trackable_object</th>\n",
       "      <th>player_id_SB</th>\n",
       "      <th>player_id_SKC</th>\n",
       "    </tr>\n",
       "  </thead>\n",
       "  <tbody>\n",
       "    <tr>\n",
       "      <th>0</th>\n",
       "      <td>820104</td>\n",
       "      <td>307251.0</td>\n",
       "      <td>818541</td>\n",
       "    </tr>\n",
       "    <tr>\n",
       "      <th>1</th>\n",
       "      <td>39010</td>\n",
       "      <td>66886.0</td>\n",
       "      <td>37889</td>\n",
       "    </tr>\n",
       "  </tbody>\n",
       "</table>\n",
       "</div>"
      ],
      "text/plain": [
       "   trackable_object  player_id_SB  player_id_SKC\n",
       "0            820104      307251.0         818541\n",
       "1             39010       66886.0          37889"
      ]
     },
     "execution_count": 43,
     "metadata": {},
     "output_type": "execute_result"
    }
   ],
   "source": [
    "# Aperçu des données\n",
    "matching_players.head(2)"
   ]
  },
  {
   "cell_type": "markdown",
   "metadata": {},
   "source": [
    "Nous allons maintenant faire matcher les id SB des joueurs, des équipes et des matches avec leur id SK respectif"
   ]
  },
  {
   "cell_type": "code",
   "execution_count": 44,
   "metadata": {},
   "outputs": [],
   "source": [
    "# Matching des id des matches\n",
    "# Nous nous permettons de réutiliser le nom \"merge_match_id\" pour le dataframe, que nous avons déjà utilisé précédemment.\n",
    "# En effet, ce sont des dataframes temporaires que nous ne réutiliserons pas donc on n'a pas besoin de garder leur contenu.\n",
    "merge_match_id = pd.merge(lineups, matching_matches, on = \"match_id_SB\")"
   ]
  },
  {
   "cell_type": "code",
   "execution_count": 45,
   "metadata": {},
   "outputs": [
    {
     "data": {
      "text/html": [
       "<div>\n",
       "<style scoped>\n",
       "    .dataframe tbody tr th:only-of-type {\n",
       "        vertical-align: middle;\n",
       "    }\n",
       "\n",
       "    .dataframe tbody tr th {\n",
       "        vertical-align: top;\n",
       "    }\n",
       "\n",
       "    .dataframe thead th {\n",
       "        text-align: right;\n",
       "    }\n",
       "</style>\n",
       "<table border=\"1\" class=\"dataframe\">\n",
       "  <thead>\n",
       "    <tr style=\"text-align: right;\">\n",
       "      <th></th>\n",
       "      <th>player_id_SB</th>\n",
       "      <th>team_id_SB</th>\n",
       "      <th>match_id_SB</th>\n",
       "      <th>match_id_SKC</th>\n",
       "    </tr>\n",
       "  </thead>\n",
       "  <tbody>\n",
       "    <tr>\n",
       "      <th>0</th>\n",
       "      <td>2941</td>\n",
       "      <td>147</td>\n",
       "      <td>3894037</td>\n",
       "      <td>1020753</td>\n",
       "    </tr>\n",
       "    <tr>\n",
       "      <th>1</th>\n",
       "      <td>3044</td>\n",
       "      <td>147</td>\n",
       "      <td>3894037</td>\n",
       "      <td>1020753</td>\n",
       "    </tr>\n",
       "  </tbody>\n",
       "</table>\n",
       "</div>"
      ],
      "text/plain": [
       "   player_id_SB  team_id_SB  match_id_SB  match_id_SKC\n",
       "0          2941         147      3894037       1020753\n",
       "1          3044         147      3894037       1020753"
      ]
     },
     "execution_count": 45,
     "metadata": {},
     "output_type": "execute_result"
    }
   ],
   "source": [
    "# Aperçu des données\n",
    "merge_match_id.head(2)"
   ]
  },
  {
   "cell_type": "code",
   "execution_count": 46,
   "metadata": {},
   "outputs": [],
   "source": [
    "# Matching des id des joueurs\n",
    "merge_player_id = pd.merge(merge_match_id, matching_players, on = \"player_id_SB\")"
   ]
  },
  {
   "cell_type": "code",
   "execution_count": 47,
   "metadata": {},
   "outputs": [
    {
     "data": {
      "text/html": [
       "<div>\n",
       "<style scoped>\n",
       "    .dataframe tbody tr th:only-of-type {\n",
       "        vertical-align: middle;\n",
       "    }\n",
       "\n",
       "    .dataframe tbody tr th {\n",
       "        vertical-align: top;\n",
       "    }\n",
       "\n",
       "    .dataframe thead th {\n",
       "        text-align: right;\n",
       "    }\n",
       "</style>\n",
       "<table border=\"1\" class=\"dataframe\">\n",
       "  <thead>\n",
       "    <tr style=\"text-align: right;\">\n",
       "      <th></th>\n",
       "      <th>player_id_SB</th>\n",
       "      <th>team_id_SB</th>\n",
       "      <th>match_id_SB</th>\n",
       "      <th>match_id_SKC</th>\n",
       "      <th>trackable_object</th>\n",
       "      <th>player_id_SKC</th>\n",
       "    </tr>\n",
       "  </thead>\n",
       "  <tbody>\n",
       "    <tr>\n",
       "      <th>0</th>\n",
       "      <td>2941</td>\n",
       "      <td>147</td>\n",
       "      <td>3894037</td>\n",
       "      <td>1020753</td>\n",
       "      <td>11308</td>\n",
       "      <td>11274</td>\n",
       "    </tr>\n",
       "    <tr>\n",
       "      <th>1</th>\n",
       "      <td>3044</td>\n",
       "      <td>147</td>\n",
       "      <td>3894037</td>\n",
       "      <td>1020753</td>\n",
       "      <td>1743</td>\n",
       "      <td>1733</td>\n",
       "    </tr>\n",
       "  </tbody>\n",
       "</table>\n",
       "</div>"
      ],
      "text/plain": [
       "   player_id_SB  team_id_SB  match_id_SB  match_id_SKC  trackable_object  \\\n",
       "0          2941         147      3894037       1020753             11308   \n",
       "1          3044         147      3894037       1020753              1743   \n",
       "\n",
       "   player_id_SKC  \n",
       "0          11274  \n",
       "1           1733  "
      ]
     },
     "execution_count": 47,
     "metadata": {},
     "output_type": "execute_result"
    }
   ],
   "source": [
    "# Aperçu des données\n",
    "merge_player_id.head(2)"
   ]
  },
  {
   "cell_type": "code",
   "execution_count": 48,
   "metadata": {},
   "outputs": [],
   "source": [
    "# Enfin, il ne nous reste plus qu'à faire matcher les id des équipes\n",
    "matching_player_team = pd.merge(merge_player_id, matching_teams, on = \"team_id_SB\")"
   ]
  },
  {
   "cell_type": "code",
   "execution_count": 49,
   "metadata": {},
   "outputs": [
    {
     "data": {
      "text/html": [
       "<div>\n",
       "<style scoped>\n",
       "    .dataframe tbody tr th:only-of-type {\n",
       "        vertical-align: middle;\n",
       "    }\n",
       "\n",
       "    .dataframe tbody tr th {\n",
       "        vertical-align: top;\n",
       "    }\n",
       "\n",
       "    .dataframe thead th {\n",
       "        text-align: right;\n",
       "    }\n",
       "</style>\n",
       "<table border=\"1\" class=\"dataframe\">\n",
       "  <thead>\n",
       "    <tr style=\"text-align: right;\">\n",
       "      <th></th>\n",
       "      <th>player_id_SB</th>\n",
       "      <th>team_id_SB</th>\n",
       "      <th>match_id_SB</th>\n",
       "      <th>match_id_SKC</th>\n",
       "      <th>trackable_object</th>\n",
       "      <th>player_id_SKC</th>\n",
       "      <th>team_id_SKC</th>\n",
       "    </tr>\n",
       "  </thead>\n",
       "  <tbody>\n",
       "    <tr>\n",
       "      <th>0</th>\n",
       "      <td>2941</td>\n",
       "      <td>147</td>\n",
       "      <td>3894037</td>\n",
       "      <td>1020753</td>\n",
       "      <td>11308</td>\n",
       "      <td>11274</td>\n",
       "      <td>80</td>\n",
       "    </tr>\n",
       "    <tr>\n",
       "      <th>1</th>\n",
       "      <td>3044</td>\n",
       "      <td>147</td>\n",
       "      <td>3894037</td>\n",
       "      <td>1020753</td>\n",
       "      <td>1743</td>\n",
       "      <td>1733</td>\n",
       "      <td>80</td>\n",
       "    </tr>\n",
       "  </tbody>\n",
       "</table>\n",
       "</div>"
      ],
      "text/plain": [
       "   player_id_SB  team_id_SB  match_id_SB  match_id_SKC  trackable_object  \\\n",
       "0          2941         147      3894037       1020753             11308   \n",
       "1          3044         147      3894037       1020753              1743   \n",
       "\n",
       "   player_id_SKC  team_id_SKC  \n",
       "0          11274           80  \n",
       "1           1733           80  "
      ]
     },
     "execution_count": 49,
     "metadata": {},
     "output_type": "execute_result"
    }
   ],
   "source": [
    "# Aperçu des données\n",
    "matching_player_team.head(2)"
   ]
  },
  {
   "cell_type": "markdown",
   "metadata": {},
   "source": [
    "Nous ne souhaitons conserver que les informations qui nous serons utiles pour le matching avec les données de tracking, c'est à dire les colonnes  \"match_id_SKC\", \"trackable_object\" et \"team_id_SKC\"."
   ]
  },
  {
   "cell_type": "code",
   "execution_count": 50,
   "metadata": {},
   "outputs": [],
   "source": [
    "matching_player_team = matching_player_team[[\"match_id_SKC\", \"trackable_object\", \"team_id_SKC\"]]"
   ]
  },
  {
   "cell_type": "markdown",
   "metadata": {},
   "source": [
    "---"
   ]
  },
  {
   "cell_type": "markdown",
   "metadata": {},
   "source": [
    "Nous avons maintenant terminé de créer les données de matching nécessaire, nous allons donc les appliquer aux données de tracking."
   ]
  },
  {
   "cell_type": "code",
   "execution_count": 51,
   "metadata": {},
   "outputs": [
    {
     "data": {
      "text/html": [
       "<div>\n",
       "<style scoped>\n",
       "    .dataframe tbody tr th:only-of-type {\n",
       "        vertical-align: middle;\n",
       "    }\n",
       "\n",
       "    .dataframe tbody tr th {\n",
       "        vertical-align: top;\n",
       "    }\n",
       "\n",
       "    .dataframe thead th {\n",
       "        text-align: right;\n",
       "    }\n",
       "</style>\n",
       "<table border=\"1\" class=\"dataframe\">\n",
       "  <thead>\n",
       "    <tr style=\"text-align: right;\">\n",
       "      <th></th>\n",
       "      <th>match_id_SKC</th>\n",
       "      <th>frame</th>\n",
       "      <th>centre_id</th>\n",
       "      <th>team_centre</th>\n",
       "      <th>trackable_object</th>\n",
       "      <th>x</th>\n",
       "      <th>y</th>\n",
       "    </tr>\n",
       "  </thead>\n",
       "  <tbody>\n",
       "    <tr>\n",
       "      <th>0</th>\n",
       "      <td>1020089</td>\n",
       "      <td>4820</td>\n",
       "      <td>0</td>\n",
       "      <td>away team</td>\n",
       "      <td>12235.0</td>\n",
       "      <td>45.43</td>\n",
       "      <td>-0.97</td>\n",
       "    </tr>\n",
       "    <tr>\n",
       "      <th>1</th>\n",
       "      <td>1020089</td>\n",
       "      <td>4820</td>\n",
       "      <td>0</td>\n",
       "      <td>away team</td>\n",
       "      <td>12327.0</td>\n",
       "      <td>32.26</td>\n",
       "      <td>-2.78</td>\n",
       "    </tr>\n",
       "  </tbody>\n",
       "</table>\n",
       "</div>"
      ],
      "text/plain": [
       "   match_id_SKC  frame  centre_id team_centre  trackable_object      x     y\n",
       "0       1020089   4820          0   away team           12235.0  45.43 -0.97\n",
       "1       1020089   4820          0   away team           12327.0  32.26 -2.78"
      ]
     },
     "execution_count": 51,
     "metadata": {},
     "output_type": "execute_result"
    }
   ],
   "source": [
    "# Rappel données de tracking\n",
    "td_avant_centre.head(2)"
   ]
  },
  {
   "cell_type": "markdown",
   "metadata": {},
   "source": [
    "Dans un premier temps, nous allons faire matcher les joueurs avec leur équipe"
   ]
  },
  {
   "cell_type": "code",
   "execution_count": 52,
   "metadata": {},
   "outputs": [],
   "source": [
    "# Nous rajoutons le paramètre : how = \"left\" afin d'effectuer un \"left join\" SQL.\n",
    "# En effet, les données de tracking contiennent aussi des informations sur le ballon, qui ne possède pas d'équipe.\n",
    "# En effectuant un inner join (qui est la jointure effectuée par défaut par la commande merge de Pandas), cela ne gardera pas les données de\n",
    "# tracking du ballon car il n'est pas référencé dans les données de matching_player_team\n",
    "matching_player_tdac = pd.merge(td_avant_centre, matching_player_team, on = [\"match_id_SKC\", \"trackable_object\"], how = \"left\")\n",
    "# tdac (de matching_player_tdac) signifie \"tracking data avant centre\""
   ]
  },
  {
   "cell_type": "code",
   "execution_count": 53,
   "metadata": {},
   "outputs": [
    {
     "data": {
      "text/html": [
       "<div>\n",
       "<style scoped>\n",
       "    .dataframe tbody tr th:only-of-type {\n",
       "        vertical-align: middle;\n",
       "    }\n",
       "\n",
       "    .dataframe tbody tr th {\n",
       "        vertical-align: top;\n",
       "    }\n",
       "\n",
       "    .dataframe thead th {\n",
       "        text-align: right;\n",
       "    }\n",
       "</style>\n",
       "<table border=\"1\" class=\"dataframe\">\n",
       "  <thead>\n",
       "    <tr style=\"text-align: right;\">\n",
       "      <th></th>\n",
       "      <th>match_id_SKC</th>\n",
       "      <th>frame</th>\n",
       "      <th>centre_id</th>\n",
       "      <th>team_centre</th>\n",
       "      <th>trackable_object</th>\n",
       "      <th>x</th>\n",
       "      <th>y</th>\n",
       "      <th>team_id_SKC</th>\n",
       "    </tr>\n",
       "  </thead>\n",
       "  <tbody>\n",
       "    <tr>\n",
       "      <th>0</th>\n",
       "      <td>1020089</td>\n",
       "      <td>4820</td>\n",
       "      <td>0</td>\n",
       "      <td>away team</td>\n",
       "      <td>12235.0</td>\n",
       "      <td>45.43</td>\n",
       "      <td>-0.97</td>\n",
       "      <td>70.0</td>\n",
       "    </tr>\n",
       "    <tr>\n",
       "      <th>1</th>\n",
       "      <td>1020089</td>\n",
       "      <td>4820</td>\n",
       "      <td>0</td>\n",
       "      <td>away team</td>\n",
       "      <td>12327.0</td>\n",
       "      <td>32.26</td>\n",
       "      <td>-2.78</td>\n",
       "      <td>70.0</td>\n",
       "    </tr>\n",
       "  </tbody>\n",
       "</table>\n",
       "</div>"
      ],
      "text/plain": [
       "   match_id_SKC  frame  centre_id team_centre  trackable_object      x     y  \\\n",
       "0       1020089   4820          0   away team           12235.0  45.43 -0.97   \n",
       "1       1020089   4820          0   away team           12327.0  32.26 -2.78   \n",
       "\n",
       "   team_id_SKC  \n",
       "0         70.0  \n",
       "1         70.0  "
      ]
     },
     "execution_count": 53,
     "metadata": {},
     "output_type": "execute_result"
    }
   ],
   "source": [
    "# Aperçu des données\n",
    "matching_player_tdac.head(2)"
   ]
  },
  {
   "cell_type": "code",
   "execution_count": 54,
   "metadata": {},
   "outputs": [
    {
     "data": {
      "text/html": [
       "<div>\n",
       "<style scoped>\n",
       "    .dataframe tbody tr th:only-of-type {\n",
       "        vertical-align: middle;\n",
       "    }\n",
       "\n",
       "    .dataframe tbody tr th {\n",
       "        vertical-align: top;\n",
       "    }\n",
       "\n",
       "    .dataframe thead th {\n",
       "        text-align: right;\n",
       "    }\n",
       "</style>\n",
       "<table border=\"1\" class=\"dataframe\">\n",
       "  <thead>\n",
       "    <tr style=\"text-align: right;\">\n",
       "      <th></th>\n",
       "      <th>match_id_SKC</th>\n",
       "      <th>home_team_id_SKC</th>\n",
       "      <th>away_team_id_SKC</th>\n",
       "    </tr>\n",
       "  </thead>\n",
       "  <tbody>\n",
       "    <tr>\n",
       "      <th>0</th>\n",
       "      <td>1434956</td>\n",
       "      <td>70</td>\n",
       "      <td>86</td>\n",
       "    </tr>\n",
       "    <tr>\n",
       "      <th>1</th>\n",
       "      <td>1547881</td>\n",
       "      <td>72</td>\n",
       "      <td>328</td>\n",
       "    </tr>\n",
       "  </tbody>\n",
       "</table>\n",
       "</div>"
      ],
      "text/plain": [
       "   match_id_SKC  home_team_id_SKC  away_team_id_SKC\n",
       "0       1434956                70                86\n",
       "1       1547881                72               328"
      ]
     },
     "execution_count": 54,
     "metadata": {},
     "output_type": "execute_result"
    }
   ],
   "source": [
    "# Rappel des données de matching des équipes (à domicile et extérieur) pour chaque match\n",
    "matching_home_away_team.head(2)"
   ]
  },
  {
   "cell_type": "markdown",
   "metadata": {},
   "source": [
    "Nous allons maintenant effectuer le matching des id des équipes à domicile et extérieur.  \n",
    "Cependant, nous souhaiterions effectuer un merge au niveau des colonnes \"match_id_SKC\" et \"team_centre\", ce qui n'est pas possible actuellement au vu du format des données de matching des équipes  \n",
    "Pour cela, nous allons créer deux nouveaus dataframes \"matching_home_team\" et \"matching_away_team\"."
   ]
  },
  {
   "cell_type": "code",
   "execution_count": 55,
   "metadata": {},
   "outputs": [],
   "source": [
    "# Création des deux nouveaux dataframes\n",
    "matching_home_team = matching_home_away_team[[\"match_id_SKC\", \"home_team_id_SKC\"]]\n",
    "matching_away_team = matching_home_away_team[[\"match_id_SKC\", \"away_team_id_SKC\"]]"
   ]
  },
  {
   "cell_type": "code",
   "execution_count": 56,
   "metadata": {},
   "outputs": [],
   "source": [
    "# Création des colonnes \"team_centre\" à ces deux dataframes qui seront utilisées pour la jointure\n",
    "matching_home_team[\"team_centre\"] = \"home team\"\n",
    "matching_away_team[\"team_centre\"] = \"away team\""
   ]
  },
  {
   "cell_type": "code",
   "execution_count": 57,
   "metadata": {},
   "outputs": [
    {
     "data": {
      "text/html": [
       "<div>\n",
       "<style scoped>\n",
       "    .dataframe tbody tr th:only-of-type {\n",
       "        vertical-align: middle;\n",
       "    }\n",
       "\n",
       "    .dataframe tbody tr th {\n",
       "        vertical-align: top;\n",
       "    }\n",
       "\n",
       "    .dataframe thead th {\n",
       "        text-align: right;\n",
       "    }\n",
       "</style>\n",
       "<table border=\"1\" class=\"dataframe\">\n",
       "  <thead>\n",
       "    <tr style=\"text-align: right;\">\n",
       "      <th></th>\n",
       "      <th>match_id_SKC</th>\n",
       "      <th>home_team_id_SKC</th>\n",
       "      <th>team_centre</th>\n",
       "    </tr>\n",
       "  </thead>\n",
       "  <tbody>\n",
       "    <tr>\n",
       "      <th>0</th>\n",
       "      <td>1434956</td>\n",
       "      <td>70</td>\n",
       "      <td>home team</td>\n",
       "    </tr>\n",
       "  </tbody>\n",
       "</table>\n",
       "</div>"
      ],
      "text/plain": [
       "   match_id_SKC  home_team_id_SKC team_centre\n",
       "0       1434956                70   home team"
      ]
     },
     "execution_count": 57,
     "metadata": {},
     "output_type": "execute_result"
    }
   ],
   "source": [
    "# Aperçu des données\n",
    "matching_home_team.head(1)"
   ]
  },
  {
   "cell_type": "code",
   "execution_count": 58,
   "metadata": {},
   "outputs": [
    {
     "data": {
      "text/html": [
       "<div>\n",
       "<style scoped>\n",
       "    .dataframe tbody tr th:only-of-type {\n",
       "        vertical-align: middle;\n",
       "    }\n",
       "\n",
       "    .dataframe tbody tr th {\n",
       "        vertical-align: top;\n",
       "    }\n",
       "\n",
       "    .dataframe thead th {\n",
       "        text-align: right;\n",
       "    }\n",
       "</style>\n",
       "<table border=\"1\" class=\"dataframe\">\n",
       "  <thead>\n",
       "    <tr style=\"text-align: right;\">\n",
       "      <th></th>\n",
       "      <th>match_id_SKC</th>\n",
       "      <th>away_team_id_SKC</th>\n",
       "      <th>team_centre</th>\n",
       "    </tr>\n",
       "  </thead>\n",
       "  <tbody>\n",
       "    <tr>\n",
       "      <th>0</th>\n",
       "      <td>1434956</td>\n",
       "      <td>86</td>\n",
       "      <td>away team</td>\n",
       "    </tr>\n",
       "  </tbody>\n",
       "</table>\n",
       "</div>"
      ],
      "text/plain": [
       "   match_id_SKC  away_team_id_SKC team_centre\n",
       "0       1434956                86   away team"
      ]
     },
     "execution_count": 58,
     "metadata": {},
     "output_type": "execute_result"
    }
   ],
   "source": [
    "# Aperçu des données\n",
    "matching_away_team.head(1)"
   ]
  },
  {
   "cell_type": "code",
   "execution_count": 59,
   "metadata": {},
   "outputs": [],
   "source": [
    "# Jointure de ces deux dataframes au dataframe des données de tracking\n",
    "# Le paramètre : how = \"left\" nous permettra de vérifier si on a bien l'information des équipes à domicile\n",
    "# pour l'ensemble des matches dont nous étudions les tracking data\n",
    "# En effet, si on a une valeur Null, cela voudra dire qu'il nous manque l'information\n",
    "matching_player_home_team_tdac = pd.merge(matching_player_tdac, matching_home_team, how = \"left\", on = [\"match_id_SKC\", \"team_centre\"])\n",
    "\n",
    "# De même pour les équipes à l'extérieur\n",
    "matching_player_home_away_team_tdac = pd.merge(matching_player_home_team_tdac, matching_away_team, how = \"left\",\n",
    "                                               on = [\"match_id_SKC\", \"team_centre\"])"
   ]
  },
  {
   "cell_type": "code",
   "execution_count": 61,
   "metadata": {},
   "outputs": [
    {
     "data": {
      "text/html": [
       "<div>\n",
       "<style scoped>\n",
       "    .dataframe tbody tr th:only-of-type {\n",
       "        vertical-align: middle;\n",
       "    }\n",
       "\n",
       "    .dataframe tbody tr th {\n",
       "        vertical-align: top;\n",
       "    }\n",
       "\n",
       "    .dataframe thead th {\n",
       "        text-align: right;\n",
       "    }\n",
       "</style>\n",
       "<table border=\"1\" class=\"dataframe\">\n",
       "  <thead>\n",
       "    <tr style=\"text-align: right;\">\n",
       "      <th></th>\n",
       "      <th>match_id_SKC</th>\n",
       "      <th>frame</th>\n",
       "      <th>centre_id</th>\n",
       "      <th>team_centre</th>\n",
       "      <th>trackable_object</th>\n",
       "      <th>x</th>\n",
       "      <th>y</th>\n",
       "      <th>team_id_SKC</th>\n",
       "      <th>home_team_id_SKC</th>\n",
       "      <th>away_team_id_SKC</th>\n",
       "    </tr>\n",
       "  </thead>\n",
       "  <tbody>\n",
       "    <tr>\n",
       "      <th>0</th>\n",
       "      <td>1020089</td>\n",
       "      <td>4820</td>\n",
       "      <td>0</td>\n",
       "      <td>away team</td>\n",
       "      <td>12235.0</td>\n",
       "      <td>45.43</td>\n",
       "      <td>-0.97</td>\n",
       "      <td>70.0</td>\n",
       "      <td>NaN</td>\n",
       "      <td>78.0</td>\n",
       "    </tr>\n",
       "    <tr>\n",
       "      <th>1</th>\n",
       "      <td>1020089</td>\n",
       "      <td>4820</td>\n",
       "      <td>0</td>\n",
       "      <td>away team</td>\n",
       "      <td>12327.0</td>\n",
       "      <td>32.26</td>\n",
       "      <td>-2.78</td>\n",
       "      <td>70.0</td>\n",
       "      <td>NaN</td>\n",
       "      <td>78.0</td>\n",
       "    </tr>\n",
       "    <tr>\n",
       "      <th>2</th>\n",
       "      <td>1020089</td>\n",
       "      <td>4820</td>\n",
       "      <td>0</td>\n",
       "      <td>away team</td>\n",
       "      <td>2340.0</td>\n",
       "      <td>33.55</td>\n",
       "      <td>-16.15</td>\n",
       "      <td>70.0</td>\n",
       "      <td>NaN</td>\n",
       "      <td>78.0</td>\n",
       "    </tr>\n",
       "    <tr>\n",
       "      <th>3</th>\n",
       "      <td>1020089</td>\n",
       "      <td>4820</td>\n",
       "      <td>0</td>\n",
       "      <td>away team</td>\n",
       "      <td>12788.0</td>\n",
       "      <td>30.18</td>\n",
       "      <td>5.24</td>\n",
       "      <td>70.0</td>\n",
       "      <td>NaN</td>\n",
       "      <td>78.0</td>\n",
       "    </tr>\n",
       "    <tr>\n",
       "      <th>4</th>\n",
       "      <td>1020089</td>\n",
       "      <td>4820</td>\n",
       "      <td>0</td>\n",
       "      <td>away team</td>\n",
       "      <td>25539.0</td>\n",
       "      <td>30.43</td>\n",
       "      <td>-24.45</td>\n",
       "      <td>70.0</td>\n",
       "      <td>NaN</td>\n",
       "      <td>78.0</td>\n",
       "    </tr>\n",
       "    <tr>\n",
       "      <th>5</th>\n",
       "      <td>1020089</td>\n",
       "      <td>4820</td>\n",
       "      <td>0</td>\n",
       "      <td>away team</td>\n",
       "      <td>28826.0</td>\n",
       "      <td>25.73</td>\n",
       "      <td>-17.81</td>\n",
       "      <td>70.0</td>\n",
       "      <td>NaN</td>\n",
       "      <td>78.0</td>\n",
       "    </tr>\n",
       "    <tr>\n",
       "      <th>6</th>\n",
       "      <td>1020089</td>\n",
       "      <td>4820</td>\n",
       "      <td>0</td>\n",
       "      <td>away team</td>\n",
       "      <td>20395.0</td>\n",
       "      <td>13.19</td>\n",
       "      <td>-18.72</td>\n",
       "      <td>70.0</td>\n",
       "      <td>NaN</td>\n",
       "      <td>78.0</td>\n",
       "    </tr>\n",
       "    <tr>\n",
       "      <th>7</th>\n",
       "      <td>1020089</td>\n",
       "      <td>4820</td>\n",
       "      <td>0</td>\n",
       "      <td>away team</td>\n",
       "      <td>7771.0</td>\n",
       "      <td>19.47</td>\n",
       "      <td>-12.85</td>\n",
       "      <td>70.0</td>\n",
       "      <td>NaN</td>\n",
       "      <td>78.0</td>\n",
       "    </tr>\n",
       "    <tr>\n",
       "      <th>8</th>\n",
       "      <td>1020089</td>\n",
       "      <td>4820</td>\n",
       "      <td>0</td>\n",
       "      <td>away team</td>\n",
       "      <td>11721.0</td>\n",
       "      <td>6.75</td>\n",
       "      <td>2.53</td>\n",
       "      <td>70.0</td>\n",
       "      <td>NaN</td>\n",
       "      <td>78.0</td>\n",
       "    </tr>\n",
       "    <tr>\n",
       "      <th>9</th>\n",
       "      <td>1020089</td>\n",
       "      <td>4820</td>\n",
       "      <td>0</td>\n",
       "      <td>away team</td>\n",
       "      <td>4930.0</td>\n",
       "      <td>18.14</td>\n",
       "      <td>-24.22</td>\n",
       "      <td>70.0</td>\n",
       "      <td>NaN</td>\n",
       "      <td>78.0</td>\n",
       "    </tr>\n",
       "    <tr>\n",
       "      <th>10</th>\n",
       "      <td>1020089</td>\n",
       "      <td>4820</td>\n",
       "      <td>0</td>\n",
       "      <td>away team</td>\n",
       "      <td>28768.0</td>\n",
       "      <td>2.38</td>\n",
       "      <td>-11.71</td>\n",
       "      <td>70.0</td>\n",
       "      <td>NaN</td>\n",
       "      <td>78.0</td>\n",
       "    </tr>\n",
       "    <tr>\n",
       "      <th>11</th>\n",
       "      <td>1020089</td>\n",
       "      <td>4820</td>\n",
       "      <td>0</td>\n",
       "      <td>away team</td>\n",
       "      <td>32039.0</td>\n",
       "      <td>-33.11</td>\n",
       "      <td>-2.82</td>\n",
       "      <td>78.0</td>\n",
       "      <td>NaN</td>\n",
       "      <td>78.0</td>\n",
       "    </tr>\n",
       "    <tr>\n",
       "      <th>12</th>\n",
       "      <td>1020089</td>\n",
       "      <td>4820</td>\n",
       "      <td>0</td>\n",
       "      <td>away team</td>\n",
       "      <td>20407.0</td>\n",
       "      <td>-2.83</td>\n",
       "      <td>-17.30</td>\n",
       "      <td>78.0</td>\n",
       "      <td>NaN</td>\n",
       "      <td>78.0</td>\n",
       "    </tr>\n",
       "    <tr>\n",
       "      <th>13</th>\n",
       "      <td>1020089</td>\n",
       "      <td>4820</td>\n",
       "      <td>0</td>\n",
       "      <td>away team</td>\n",
       "      <td>181549.0</td>\n",
       "      <td>-4.84</td>\n",
       "      <td>-0.70</td>\n",
       "      <td>78.0</td>\n",
       "      <td>NaN</td>\n",
       "      <td>78.0</td>\n",
       "    </tr>\n",
       "    <tr>\n",
       "      <th>14</th>\n",
       "      <td>1020089</td>\n",
       "      <td>4820</td>\n",
       "      <td>0</td>\n",
       "      <td>away team</td>\n",
       "      <td>159756.0</td>\n",
       "      <td>32.63</td>\n",
       "      <td>-25.68</td>\n",
       "      <td>78.0</td>\n",
       "      <td>NaN</td>\n",
       "      <td>78.0</td>\n",
       "    </tr>\n",
       "    <tr>\n",
       "      <th>15</th>\n",
       "      <td>1020089</td>\n",
       "      <td>4820</td>\n",
       "      <td>0</td>\n",
       "      <td>away team</td>\n",
       "      <td>4510.0</td>\n",
       "      <td>12.05</td>\n",
       "      <td>19.92</td>\n",
       "      <td>78.0</td>\n",
       "      <td>NaN</td>\n",
       "      <td>78.0</td>\n",
       "    </tr>\n",
       "    <tr>\n",
       "      <th>16</th>\n",
       "      <td>1020089</td>\n",
       "      <td>4820</td>\n",
       "      <td>0</td>\n",
       "      <td>away team</td>\n",
       "      <td>1277.0</td>\n",
       "      <td>7.48</td>\n",
       "      <td>-10.47</td>\n",
       "      <td>78.0</td>\n",
       "      <td>NaN</td>\n",
       "      <td>78.0</td>\n",
       "    </tr>\n",
       "    <tr>\n",
       "      <th>17</th>\n",
       "      <td>1020089</td>\n",
       "      <td>4820</td>\n",
       "      <td>0</td>\n",
       "      <td>away team</td>\n",
       "      <td>44445.0</td>\n",
       "      <td>21.47</td>\n",
       "      <td>-2.46</td>\n",
       "      <td>78.0</td>\n",
       "      <td>NaN</td>\n",
       "      <td>78.0</td>\n",
       "    </tr>\n",
       "    <tr>\n",
       "      <th>18</th>\n",
       "      <td>1020089</td>\n",
       "      <td>4820</td>\n",
       "      <td>0</td>\n",
       "      <td>away team</td>\n",
       "      <td>141799.0</td>\n",
       "      <td>15.36</td>\n",
       "      <td>-12.70</td>\n",
       "      <td>78.0</td>\n",
       "      <td>NaN</td>\n",
       "      <td>78.0</td>\n",
       "    </tr>\n",
       "    <tr>\n",
       "      <th>19</th>\n",
       "      <td>1020089</td>\n",
       "      <td>4820</td>\n",
       "      <td>0</td>\n",
       "      <td>away team</td>\n",
       "      <td>8933.0</td>\n",
       "      <td>18.82</td>\n",
       "      <td>-19.92</td>\n",
       "      <td>78.0</td>\n",
       "      <td>NaN</td>\n",
       "      <td>78.0</td>\n",
       "    </tr>\n",
       "    <tr>\n",
       "      <th>20</th>\n",
       "      <td>1020089</td>\n",
       "      <td>4820</td>\n",
       "      <td>0</td>\n",
       "      <td>away team</td>\n",
       "      <td>34316.0</td>\n",
       "      <td>24.63</td>\n",
       "      <td>-23.99</td>\n",
       "      <td>78.0</td>\n",
       "      <td>NaN</td>\n",
       "      <td>78.0</td>\n",
       "    </tr>\n",
       "    <tr>\n",
       "      <th>21</th>\n",
       "      <td>1020089</td>\n",
       "      <td>4820</td>\n",
       "      <td>0</td>\n",
       "      <td>away team</td>\n",
       "      <td>12592.0</td>\n",
       "      <td>30.98</td>\n",
       "      <td>0.82</td>\n",
       "      <td>78.0</td>\n",
       "      <td>NaN</td>\n",
       "      <td>78.0</td>\n",
       "    </tr>\n",
       "    <tr>\n",
       "      <th>22</th>\n",
       "      <td>1020089</td>\n",
       "      <td>4820</td>\n",
       "      <td>0</td>\n",
       "      <td>away team</td>\n",
       "      <td>55.0</td>\n",
       "      <td>32.96</td>\n",
       "      <td>-28.64</td>\n",
       "      <td>NaN</td>\n",
       "      <td>NaN</td>\n",
       "      <td>78.0</td>\n",
       "    </tr>\n",
       "    <tr>\n",
       "      <th>23</th>\n",
       "      <td>1020089</td>\n",
       "      <td>5946</td>\n",
       "      <td>2</td>\n",
       "      <td>home team</td>\n",
       "      <td>12235.0</td>\n",
       "      <td>29.03</td>\n",
       "      <td>1.14</td>\n",
       "      <td>70.0</td>\n",
       "      <td>70.0</td>\n",
       "      <td>NaN</td>\n",
       "    </tr>\n",
       "  </tbody>\n",
       "</table>\n",
       "</div>"
      ],
      "text/plain": [
       "    match_id_SKC  frame  centre_id team_centre  trackable_object      x  \\\n",
       "0        1020089   4820          0   away team           12235.0  45.43   \n",
       "1        1020089   4820          0   away team           12327.0  32.26   \n",
       "2        1020089   4820          0   away team            2340.0  33.55   \n",
       "3        1020089   4820          0   away team           12788.0  30.18   \n",
       "4        1020089   4820          0   away team           25539.0  30.43   \n",
       "5        1020089   4820          0   away team           28826.0  25.73   \n",
       "6        1020089   4820          0   away team           20395.0  13.19   \n",
       "7        1020089   4820          0   away team            7771.0  19.47   \n",
       "8        1020089   4820          0   away team           11721.0   6.75   \n",
       "9        1020089   4820          0   away team            4930.0  18.14   \n",
       "10       1020089   4820          0   away team           28768.0   2.38   \n",
       "11       1020089   4820          0   away team           32039.0 -33.11   \n",
       "12       1020089   4820          0   away team           20407.0  -2.83   \n",
       "13       1020089   4820          0   away team          181549.0  -4.84   \n",
       "14       1020089   4820          0   away team          159756.0  32.63   \n",
       "15       1020089   4820          0   away team            4510.0  12.05   \n",
       "16       1020089   4820          0   away team            1277.0   7.48   \n",
       "17       1020089   4820          0   away team           44445.0  21.47   \n",
       "18       1020089   4820          0   away team          141799.0  15.36   \n",
       "19       1020089   4820          0   away team            8933.0  18.82   \n",
       "20       1020089   4820          0   away team           34316.0  24.63   \n",
       "21       1020089   4820          0   away team           12592.0  30.98   \n",
       "22       1020089   4820          0   away team              55.0  32.96   \n",
       "23       1020089   5946          2   home team           12235.0  29.03   \n",
       "\n",
       "        y  team_id_SKC  home_team_id_SKC  away_team_id_SKC  \n",
       "0   -0.97         70.0               NaN              78.0  \n",
       "1   -2.78         70.0               NaN              78.0  \n",
       "2  -16.15         70.0               NaN              78.0  \n",
       "3    5.24         70.0               NaN              78.0  \n",
       "4  -24.45         70.0               NaN              78.0  \n",
       "5  -17.81         70.0               NaN              78.0  \n",
       "6  -18.72         70.0               NaN              78.0  \n",
       "7  -12.85         70.0               NaN              78.0  \n",
       "8    2.53         70.0               NaN              78.0  \n",
       "9  -24.22         70.0               NaN              78.0  \n",
       "10 -11.71         70.0               NaN              78.0  \n",
       "11  -2.82         78.0               NaN              78.0  \n",
       "12 -17.30         78.0               NaN              78.0  \n",
       "13  -0.70         78.0               NaN              78.0  \n",
       "14 -25.68         78.0               NaN              78.0  \n",
       "15  19.92         78.0               NaN              78.0  \n",
       "16 -10.47         78.0               NaN              78.0  \n",
       "17  -2.46         78.0               NaN              78.0  \n",
       "18 -12.70         78.0               NaN              78.0  \n",
       "19 -19.92         78.0               NaN              78.0  \n",
       "20 -23.99         78.0               NaN              78.0  \n",
       "21   0.82         78.0               NaN              78.0  \n",
       "22 -28.64          NaN               NaN              78.0  \n",
       "23   1.14         70.0              70.0               NaN  "
      ]
     },
     "execution_count": 61,
     "metadata": {},
     "output_type": "execute_result"
    }
   ],
   "source": [
    "matching_player_home_away_team_tdac.head(24)"
   ]
  },
  {
   "cell_type": "code",
   "execution_count": null,
   "metadata": {},
   "outputs": [],
   "source": []
  },
  {
   "cell_type": "code",
   "execution_count": null,
   "metadata": {},
   "outputs": [],
   "source": []
  },
  {
   "cell_type": "code",
   "execution_count": null,
   "metadata": {},
   "outputs": [],
   "source": []
  },
  {
   "cell_type": "code",
   "execution_count": null,
   "metadata": {},
   "outputs": [],
   "source": []
  },
  {
   "cell_type": "code",
   "execution_count": null,
   "metadata": {},
   "outputs": [],
   "source": []
  }
 ],
 "metadata": {
  "kernelspec": {
   "display_name": "env_PROJET",
   "language": "python",
   "name": "python3"
  },
  "language_info": {
   "codemirror_mode": {
    "name": "ipython",
    "version": 3
   },
   "file_extension": ".py",
   "mimetype": "text/x-python",
   "name": "python",
   "nbconvert_exporter": "python",
   "pygments_lexer": "ipython3",
   "version": "3.12.6"
  }
 },
 "nbformat": 4,
 "nbformat_minor": 2
}
