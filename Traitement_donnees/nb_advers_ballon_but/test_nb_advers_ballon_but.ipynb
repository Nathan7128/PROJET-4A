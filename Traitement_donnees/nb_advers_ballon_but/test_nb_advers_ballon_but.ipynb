{
 "cells": [
  {
   "cell_type": "markdown",
   "metadata": {},
   "source": [
    "---\n",
    "Via ce programme, nous souhaitons étudier le nombre d'adversaires entre le ballon et le but sur les actions précédant des centres.  \n",
    "En d'autres termes, nous souhaitons savoir lorsqu'une équipe effectue un centre, combien d'adversaires se trouvaient derrière le ballon sur l'action précédant le centre.\n",
    "\n",
    "\n",
    "---"
   ]
  },
  {
   "cell_type": "markdown",
   "metadata": {},
   "source": [
    "## Importation des bliblothèques"
   ]
  },
  {
   "cell_type": "code",
   "execution_count": 1,
   "metadata": {},
   "outputs": [],
   "source": [
    "import sqlite3\n",
    "import pandas as pd"
   ]
  },
  {
   "cell_type": "markdown",
   "metadata": {},
   "source": [
    "## Connection à la base de données"
   ]
  },
  {
   "cell_type": "code",
   "execution_count": 2,
   "metadata": {},
   "outputs": [],
   "source": [
    "connect = sqlite3.connect(\"../../Databases/raw-database.db\")\n",
    "cursor = connect.cursor()"
   ]
  },
  {
   "cell_type": "markdown",
   "metadata": {},
   "source": [
    "## Importation des données freeze frames"
   ]
  },
  {
   "cell_type": "code",
   "execution_count": 3,
   "metadata": {},
   "outputs": [],
   "source": [
    "req = cursor.execute(f\"SELECT frame, event_id, match_id_SKC, period FROM freeze_frames\")\n",
    "res = req.fetchall()\n",
    "desc = req.description\n",
    "freeze_frames = pd.DataFrame(res)\n",
    "freeze_frames.columns = [i[0] for i in desc]"
   ]
  },
  {
   "cell_type": "code",
   "execution_count": 4,
   "metadata": {},
   "outputs": [
    {
     "data": {
      "text/html": [
       "<div>\n",
       "<style scoped>\n",
       "    .dataframe tbody tr th:only-of-type {\n",
       "        vertical-align: middle;\n",
       "    }\n",
       "\n",
       "    .dataframe tbody tr th {\n",
       "        vertical-align: top;\n",
       "    }\n",
       "\n",
       "    .dataframe thead th {\n",
       "        text-align: right;\n",
       "    }\n",
       "</style>\n",
       "<table border=\"1\" class=\"dataframe\">\n",
       "  <thead>\n",
       "    <tr style=\"text-align: right;\">\n",
       "      <th></th>\n",
       "      <th>frame</th>\n",
       "      <th>event_id</th>\n",
       "      <th>match_id_SKC</th>\n",
       "      <th>period</th>\n",
       "    </tr>\n",
       "  </thead>\n",
       "  <tbody>\n",
       "    <tr>\n",
       "      <th>0</th>\n",
       "      <td>4820</td>\n",
       "      <td>54cbad0c-1f05-4708-9b7f-2cadeae0636b</td>\n",
       "      <td>1020089</td>\n",
       "      <td>1.0</td>\n",
       "    </tr>\n",
       "    <tr>\n",
       "      <th>1</th>\n",
       "      <td>4834</td>\n",
       "      <td>28239a7e-4d65-4618-99f3-2763088e5e92</td>\n",
       "      <td>1020089</td>\n",
       "      <td>1.0</td>\n",
       "    </tr>\n",
       "    <tr>\n",
       "      <th>2</th>\n",
       "      <td>4854</td>\n",
       "      <td>3ea6ecd9-bc39-4ce5-9b47-1eda239f2705</td>\n",
       "      <td>1020089</td>\n",
       "      <td>1.0</td>\n",
       "    </tr>\n",
       "  </tbody>\n",
       "</table>\n",
       "</div>"
      ],
      "text/plain": [
       "   frame                              event_id  match_id_SKC  period\n",
       "0   4820  54cbad0c-1f05-4708-9b7f-2cadeae0636b       1020089     1.0\n",
       "1   4834  28239a7e-4d65-4618-99f3-2763088e5e92       1020089     1.0\n",
       "2   4854  3ea6ecd9-bc39-4ce5-9b47-1eda239f2705       1020089     1.0"
      ]
     },
     "execution_count": 4,
     "metadata": {},
     "output_type": "execute_result"
    }
   ],
   "source": [
    "# Aperçu des données\n",
    "freeze_frames.head(3)"
   ]
  },
  {
   "cell_type": "markdown",
   "metadata": {},
   "source": [
    "## Importation des données events"
   ]
  },
  {
   "cell_type": "code",
   "execution_count": 5,
   "metadata": {},
   "outputs": [],
   "source": [
    "# On récupère les event_id SB des frames à notre disposition pour pouvoir importer uniquement ceux qui nous intéressent depuis la table events\n",
    "# Ces frames à notre disposition correspondent soit à des actions précédant des centres, des centres ou bien des actions suivant des centres\n",
    "event_id_freeze_frames = freeze_frames.event_id.unique().tolist()"
   ]
  },
  {
   "cell_type": "code",
   "execution_count": 6,
   "metadata": {},
   "outputs": [],
   "source": [
    "req = cursor.execute(f\"SELECT event_id, pass_cross, pass_type, team_id_SB FROM events WHERE event_id IN ({', '.join('?' * len(event_id_freeze_frames))})\",\n",
    "                     event_id_freeze_frames)\n",
    "res = req.fetchall()\n",
    "desc = req.description\n",
    "events = pd.DataFrame(res)\n",
    "events.columns = [i[0] for i in desc]"
   ]
  },
  {
   "cell_type": "code",
   "execution_count": 7,
   "metadata": {},
   "outputs": [
    {
     "data": {
      "text/html": [
       "<div>\n",
       "<style scoped>\n",
       "    .dataframe tbody tr th:only-of-type {\n",
       "        vertical-align: middle;\n",
       "    }\n",
       "\n",
       "    .dataframe tbody tr th {\n",
       "        vertical-align: top;\n",
       "    }\n",
       "\n",
       "    .dataframe thead th {\n",
       "        text-align: right;\n",
       "    }\n",
       "</style>\n",
       "<table border=\"1\" class=\"dataframe\">\n",
       "  <thead>\n",
       "    <tr style=\"text-align: right;\">\n",
       "      <th></th>\n",
       "      <th>event_id</th>\n",
       "      <th>pass_cross</th>\n",
       "      <th>pass_type</th>\n",
       "      <th>team_id_SB</th>\n",
       "    </tr>\n",
       "  </thead>\n",
       "  <tbody>\n",
       "    <tr>\n",
       "      <th>0</th>\n",
       "      <td>2e85ad3e-59c4-479a-a478-4c98174f686b</td>\n",
       "      <td>NaN</td>\n",
       "      <td>None</td>\n",
       "      <td>156</td>\n",
       "    </tr>\n",
       "    <tr>\n",
       "      <th>1</th>\n",
       "      <td>872df8f3-a750-4b61-8890-61a35e96b4a4</td>\n",
       "      <td>1.0</td>\n",
       "      <td>None</td>\n",
       "      <td>147</td>\n",
       "    </tr>\n",
       "    <tr>\n",
       "      <th>2</th>\n",
       "      <td>0f842e18-1363-4af3-8faa-6c9cce55b118</td>\n",
       "      <td>NaN</td>\n",
       "      <td>None</td>\n",
       "      <td>147</td>\n",
       "    </tr>\n",
       "  </tbody>\n",
       "</table>\n",
       "</div>"
      ],
      "text/plain": [
       "                               event_id  pass_cross pass_type  team_id_SB\n",
       "0  2e85ad3e-59c4-479a-a478-4c98174f686b         NaN      None         156\n",
       "1  872df8f3-a750-4b61-8890-61a35e96b4a4         1.0      None         147\n",
       "2  0f842e18-1363-4af3-8faa-6c9cce55b118         NaN      None         147"
      ]
     },
     "execution_count": 7,
     "metadata": {},
     "output_type": "execute_result"
    }
   ],
   "source": [
    "# Aperçu des données\n",
    "events.head(3)"
   ]
  },
  {
   "cell_type": "markdown",
   "metadata": {},
   "source": [
    "## Jointure des events avec les freeze frames"
   ]
  },
  {
   "cell_type": "code",
   "execution_count": 8,
   "metadata": {},
   "outputs": [],
   "source": [
    "# Nous effectuons cette jointure pour pouvoir associer les données events aux données freeze frames\n",
    "# Le merge se réalise au niveau de l'event_id SB, qui identifie de manière unique chaque ligne des dataframes \"freeze_frames\" et \"events\"\n",
    "freeze_frames_events = pd.merge(freeze_frames, events, on = \"event_id\")\n",
    "\n",
    "# On trie par ordre chronologique les données\n",
    "freeze_frames_events.sort_values(by = [\"match_id_SKC\", \"frame\"], inplace = True)"
   ]
  },
  {
   "cell_type": "code",
   "execution_count": 9,
   "metadata": {},
   "outputs": [
    {
     "data": {
      "text/html": [
       "<div>\n",
       "<style scoped>\n",
       "    .dataframe tbody tr th:only-of-type {\n",
       "        vertical-align: middle;\n",
       "    }\n",
       "\n",
       "    .dataframe tbody tr th {\n",
       "        vertical-align: top;\n",
       "    }\n",
       "\n",
       "    .dataframe thead th {\n",
       "        text-align: right;\n",
       "    }\n",
       "</style>\n",
       "<table border=\"1\" class=\"dataframe\">\n",
       "  <thead>\n",
       "    <tr style=\"text-align: right;\">\n",
       "      <th></th>\n",
       "      <th>frame</th>\n",
       "      <th>event_id</th>\n",
       "      <th>match_id_SKC</th>\n",
       "      <th>period</th>\n",
       "      <th>pass_cross</th>\n",
       "      <th>pass_type</th>\n",
       "      <th>team_id_SB</th>\n",
       "    </tr>\n",
       "  </thead>\n",
       "  <tbody>\n",
       "    <tr>\n",
       "      <th>0</th>\n",
       "      <td>4820</td>\n",
       "      <td>54cbad0c-1f05-4708-9b7f-2cadeae0636b</td>\n",
       "      <td>1020089</td>\n",
       "      <td>1.0</td>\n",
       "      <td>NaN</td>\n",
       "      <td>None</td>\n",
       "      <td>143</td>\n",
       "    </tr>\n",
       "    <tr>\n",
       "      <th>1</th>\n",
       "      <td>4834</td>\n",
       "      <td>28239a7e-4d65-4618-99f3-2763088e5e92</td>\n",
       "      <td>1020089</td>\n",
       "      <td>1.0</td>\n",
       "      <td>1.0</td>\n",
       "      <td>None</td>\n",
       "      <td>143</td>\n",
       "    </tr>\n",
       "    <tr>\n",
       "      <th>2</th>\n",
       "      <td>4854</td>\n",
       "      <td>3ea6ecd9-bc39-4ce5-9b47-1eda239f2705</td>\n",
       "      <td>1020089</td>\n",
       "      <td>1.0</td>\n",
       "      <td>NaN</td>\n",
       "      <td>None</td>\n",
       "      <td>143</td>\n",
       "    </tr>\n",
       "  </tbody>\n",
       "</table>\n",
       "</div>"
      ],
      "text/plain": [
       "   frame                              event_id  match_id_SKC  period  \\\n",
       "0   4820  54cbad0c-1f05-4708-9b7f-2cadeae0636b       1020089     1.0   \n",
       "1   4834  28239a7e-4d65-4618-99f3-2763088e5e92       1020089     1.0   \n",
       "2   4854  3ea6ecd9-bc39-4ce5-9b47-1eda239f2705       1020089     1.0   \n",
       "\n",
       "   pass_cross pass_type  team_id_SB  \n",
       "0         NaN      None         143  \n",
       "1         1.0      None         143  \n",
       "2         NaN      None         143  "
      ]
     },
     "execution_count": 9,
     "metadata": {},
     "output_type": "execute_result"
    }
   ],
   "source": [
    "# Aperçu des données\n",
    "freeze_frames_events.head(3)"
   ]
  },
  {
   "cell_type": "markdown",
   "metadata": {},
   "source": [
    "La colonne \"team_id_SB\" contient donc l'id des équipes liées aux events.  \n",
    "Étant donné que nous travaillons avec des données Skill Corner, il est plus logique de travailler avec les id SK des équipes.  \n",
    "Nous allons donc faire matcher ces id SB avec les id SK grâce à la table de matching des équipes."
   ]
  },
  {
   "cell_type": "code",
   "execution_count": 10,
   "metadata": {},
   "outputs": [],
   "source": [
    "# Importation des données de matching entre les id Skill Corner et Stats Bomb des équipes\n",
    "req = cursor.execute(f\"SELECT * FROM matching_teams\")\n",
    "res = req.fetchall()\n",
    "desc = req.description\n",
    "matching_teams = pd.DataFrame(res)\n",
    "matching_teams.columns = [i[0] for i in desc]"
   ]
  },
  {
   "cell_type": "code",
   "execution_count": 11,
   "metadata": {},
   "outputs": [
    {
     "data": {
      "text/html": [
       "<div>\n",
       "<style scoped>\n",
       "    .dataframe tbody tr th:only-of-type {\n",
       "        vertical-align: middle;\n",
       "    }\n",
       "\n",
       "    .dataframe tbody tr th {\n",
       "        vertical-align: top;\n",
       "    }\n",
       "\n",
       "    .dataframe thead th {\n",
       "        text-align: right;\n",
       "    }\n",
       "</style>\n",
       "<table border=\"1\" class=\"dataframe\">\n",
       "  <thead>\n",
       "    <tr style=\"text-align: right;\">\n",
       "      <th></th>\n",
       "      <th>team_id_SB</th>\n",
       "      <th>team_id_SKC</th>\n",
       "    </tr>\n",
       "  </thead>\n",
       "  <tbody>\n",
       "    <tr>\n",
       "      <th>0</th>\n",
       "      <td>168</td>\n",
       "      <td>85</td>\n",
       "    </tr>\n",
       "    <tr>\n",
       "      <th>1</th>\n",
       "      <td>144</td>\n",
       "      <td>66</td>\n",
       "    </tr>\n",
       "  </tbody>\n",
       "</table>\n",
       "</div>"
      ],
      "text/plain": [
       "   team_id_SB  team_id_SKC\n",
       "0         168           85\n",
       "1         144           66"
      ]
     },
     "execution_count": 11,
     "metadata": {},
     "output_type": "execute_result"
    }
   ],
   "source": [
    "# Aperçu des données\n",
    "matching_teams.head(2)"
   ]
  },
  {
   "cell_type": "code",
   "execution_count": 12,
   "metadata": {},
   "outputs": [],
   "source": [
    "freeze_frames_events = pd.merge(freeze_frames_events, matching_teams, on = \"team_id_SB\")"
   ]
  },
  {
   "cell_type": "code",
   "execution_count": 13,
   "metadata": {},
   "outputs": [
    {
     "data": {
      "text/html": [
       "<div>\n",
       "<style scoped>\n",
       "    .dataframe tbody tr th:only-of-type {\n",
       "        vertical-align: middle;\n",
       "    }\n",
       "\n",
       "    .dataframe tbody tr th {\n",
       "        vertical-align: top;\n",
       "    }\n",
       "\n",
       "    .dataframe thead th {\n",
       "        text-align: right;\n",
       "    }\n",
       "</style>\n",
       "<table border=\"1\" class=\"dataframe\">\n",
       "  <thead>\n",
       "    <tr style=\"text-align: right;\">\n",
       "      <th></th>\n",
       "      <th>frame</th>\n",
       "      <th>event_id</th>\n",
       "      <th>match_id_SKC</th>\n",
       "      <th>period</th>\n",
       "      <th>pass_cross</th>\n",
       "      <th>pass_type</th>\n",
       "      <th>team_id_SB</th>\n",
       "      <th>team_id_SKC</th>\n",
       "    </tr>\n",
       "  </thead>\n",
       "  <tbody>\n",
       "    <tr>\n",
       "      <th>0</th>\n",
       "      <td>4820</td>\n",
       "      <td>54cbad0c-1f05-4708-9b7f-2cadeae0636b</td>\n",
       "      <td>1020089</td>\n",
       "      <td>1.0</td>\n",
       "      <td>NaN</td>\n",
       "      <td>None</td>\n",
       "      <td>143</td>\n",
       "      <td>78</td>\n",
       "    </tr>\n",
       "    <tr>\n",
       "      <th>1</th>\n",
       "      <td>4834</td>\n",
       "      <td>28239a7e-4d65-4618-99f3-2763088e5e92</td>\n",
       "      <td>1020089</td>\n",
       "      <td>1.0</td>\n",
       "      <td>1.0</td>\n",
       "      <td>None</td>\n",
       "      <td>143</td>\n",
       "      <td>78</td>\n",
       "    </tr>\n",
       "  </tbody>\n",
       "</table>\n",
       "</div>"
      ],
      "text/plain": [
       "   frame                              event_id  match_id_SKC  period  \\\n",
       "0   4820  54cbad0c-1f05-4708-9b7f-2cadeae0636b       1020089     1.0   \n",
       "1   4834  28239a7e-4d65-4618-99f3-2763088e5e92       1020089     1.0   \n",
       "\n",
       "   pass_cross pass_type  team_id_SB  team_id_SKC  \n",
       "0         NaN      None         143           78  \n",
       "1         1.0      None         143           78  "
      ]
     },
     "execution_count": 13,
     "metadata": {},
     "output_type": "execute_result"
    }
   ],
   "source": [
    "freeze_frames_events.head(2)"
   ]
  },
  {
   "cell_type": "code",
   "execution_count": 14,
   "metadata": {},
   "outputs": [],
   "source": [
    "# Nous pouvons supprimer la colonne \"team_id_SB\" qui ne nous est plus utile à présent\n",
    "freeze_frames_events.drop(\"team_id_SB\", axis = 1, inplace = True)"
   ]
  },
  {
   "cell_type": "markdown",
   "metadata": {},
   "source": [
    "## Analyse des centres"
   ]
  },
  {
   "cell_type": "markdown",
   "metadata": {},
   "source": [
    "Nous allons maintenant créer un dataframe ne gardant que les lignes (données) dont l'event correspond à un centre"
   ]
  },
  {
   "cell_type": "code",
   "execution_count": 15,
   "metadata": {},
   "outputs": [],
   "source": [
    "# Création d'un dataframe ne comprenant que les centres du dataframe initial\n",
    "centres = freeze_frames_events[freeze_frames_events.pass_cross == 1]"
   ]
  },
  {
   "cell_type": "markdown",
   "metadata": {},
   "source": [
    "On souhaite maintenant identifier chaque centre et chaque évènement précédant un centre par un centre_id.  \n",
    "Chaque couple (event précédant le centre, centre) sera alors identifié par un unique centre_id.  "
   ]
  },
  {
   "cell_type": "markdown",
   "metadata": {},
   "source": [
    "De plus, on part du principe qu'on dispose bien de chaque évènement précédant les centres.  \n",
    "En effet, étant donné que nous ne nous sommes pas chargé de fusionner les évènements précédant et suivant les centres aux évènements correspondant aux centres, nous ne pouvons pas gérer ces erreurs."
   ]
  },
  {
   "cell_type": "markdown",
   "metadata": {},
   "source": [
    "Pour gérer les cas ou l'évènement suivant un centre (centre1) est également un centre (centre2), nous partons du principe que ces centres ne sont pas dupliqués mais plutôt que ces centres se suivent en terme d'event.  \n",
    "En effet, nous n'aurons pas 2 couples (event avant centre1, centre1, centre2) et (centre1, centre2, event après centre2) mais plutot un couple (event avant centre1, centre1, centre2, event après centre2)"
   ]
  },
  {
   "cell_type": "code",
   "execution_count": 16,
   "metadata": {},
   "outputs": [
    {
     "name": "stdout",
     "output_type": "stream",
     "text": [
      "True\n"
     ]
    }
   ],
   "source": [
    "# Nous partons de ce principe car nous n'avons pas de valeur dupliquée pour la colonne event_id :\n",
    "print(freeze_frames_events.event_id.is_unique)"
   ]
  },
  {
   "cell_type": "markdown",
   "metadata": {},
   "source": [
    "Enfin, il est nécessaire des supprimer les events correspondants à des coups de pied arretés car ce n'est pas cohérent d'étudier les évènements précédant des CPA."
   ]
  },
  {
   "cell_type": "code",
   "execution_count": 17,
   "metadata": {},
   "outputs": [],
   "source": [
    "# Liste des CPA définis par Stats Bomb\n",
    "CPA = [\"Corner\", \"Free Kick\", \"Goal Kick\", \"Kick Off\"]\n",
    "\n",
    "# Supression des CPA des centres\n",
    "centres = centres[~centres.pass_type.isin(CPA)]"
   ]
  },
  {
   "cell_type": "code",
   "execution_count": 18,
   "metadata": {},
   "outputs": [
    {
     "data": {
      "text/html": [
       "<div>\n",
       "<style scoped>\n",
       "    .dataframe tbody tr th:only-of-type {\n",
       "        vertical-align: middle;\n",
       "    }\n",
       "\n",
       "    .dataframe tbody tr th {\n",
       "        vertical-align: top;\n",
       "    }\n",
       "\n",
       "    .dataframe thead th {\n",
       "        text-align: right;\n",
       "    }\n",
       "</style>\n",
       "<table border=\"1\" class=\"dataframe\">\n",
       "  <thead>\n",
       "    <tr style=\"text-align: right;\">\n",
       "      <th></th>\n",
       "      <th>frame</th>\n",
       "      <th>event_id</th>\n",
       "      <th>match_id_SKC</th>\n",
       "      <th>period</th>\n",
       "      <th>pass_cross</th>\n",
       "      <th>pass_type</th>\n",
       "      <th>team_id_SKC</th>\n",
       "    </tr>\n",
       "  </thead>\n",
       "  <tbody>\n",
       "    <tr>\n",
       "      <th>1</th>\n",
       "      <td>4834</td>\n",
       "      <td>28239a7e-4d65-4618-99f3-2763088e5e92</td>\n",
       "      <td>1020089</td>\n",
       "      <td>1.0</td>\n",
       "      <td>1.0</td>\n",
       "      <td>None</td>\n",
       "      <td>78</td>\n",
       "    </tr>\n",
       "    <tr>\n",
       "      <th>4</th>\n",
       "      <td>5755</td>\n",
       "      <td>d3b91062-3398-4235-8bbc-3571d2fd2d9c</td>\n",
       "      <td>1020089</td>\n",
       "      <td>1.0</td>\n",
       "      <td>1.0</td>\n",
       "      <td>None</td>\n",
       "      <td>70</td>\n",
       "    </tr>\n",
       "  </tbody>\n",
       "</table>\n",
       "</div>"
      ],
      "text/plain": [
       "   frame                              event_id  match_id_SKC  period  \\\n",
       "1   4834  28239a7e-4d65-4618-99f3-2763088e5e92       1020089     1.0   \n",
       "4   5755  d3b91062-3398-4235-8bbc-3571d2fd2d9c       1020089     1.0   \n",
       "\n",
       "   pass_cross pass_type  team_id_SKC  \n",
       "1         1.0      None           78  \n",
       "4         1.0      None           70  "
      ]
     },
     "execution_count": 18,
     "metadata": {},
     "output_type": "execute_result"
    }
   ],
   "source": [
    "centres.head(2)"
   ]
  },
  {
   "cell_type": "code",
   "execution_count": 19,
   "metadata": {},
   "outputs": [
    {
     "name": "stdout",
     "output_type": "stream",
     "text": [
      "Nombre de centres pour lesquels nous ne connaissons pas l'équipe qui les a effectués : 0\n"
     ]
    }
   ],
   "source": [
    "# La colonne team_id_SKC contient donc les id SKC des équipes qui ont effectué les centres\n",
    "# Nous allons renommer cette colonne \"team_centre_id_SKC\" pour bien indiquer qu'elle correspond aux équipes ayant effectué les centres\n",
    "centres.rename({\"team_id_SKC\" : \"team_centre_id_SKC\"}, axis = 1, inplace = True)\n",
    "\n",
    "print(\"Nombre de centres pour lesquels nous ne connaissons pas l'équipe qui les a effectués :\", len(centres[centres.team_centre_id_SKC.isna()]))"
   ]
  },
  {
   "cell_type": "code",
   "execution_count": 20,
   "metadata": {},
   "outputs": [],
   "source": [
    "# identification des évènements précédant les centres\n",
    "index_events_avant_centre = centres.index - 1"
   ]
  },
  {
   "cell_type": "code",
   "execution_count": 21,
   "metadata": {},
   "outputs": [
    {
     "name": "stdout",
     "output_type": "stream",
     "text": [
      "RangeIndex(start=0, stop=20132, step=1)\n"
     ]
    }
   ],
   "source": [
    "# Nous pouvons simplement soustraire 1 aux index des centres car les events sont triés par ordre chronologique dans le dataframe et les index\n",
    "# sont une suite d'entiers allant de 0 à (nombre de lignes - 1) :\n",
    "print(freeze_frames_events.index)"
   ]
  },
  {
   "cell_type": "code",
   "execution_count": 22,
   "metadata": {},
   "outputs": [],
   "source": [
    "# Création d'un dataframe ne comprenant que les actions précédents les centres\n",
    "events_avant_centre = freeze_frames_events.loc[index_events_avant_centre]"
   ]
  },
  {
   "cell_type": "code",
   "execution_count": 23,
   "metadata": {},
   "outputs": [
    {
     "data": {
      "text/html": [
       "<div>\n",
       "<style scoped>\n",
       "    .dataframe tbody tr th:only-of-type {\n",
       "        vertical-align: middle;\n",
       "    }\n",
       "\n",
       "    .dataframe tbody tr th {\n",
       "        vertical-align: top;\n",
       "    }\n",
       "\n",
       "    .dataframe thead th {\n",
       "        text-align: right;\n",
       "    }\n",
       "</style>\n",
       "<table border=\"1\" class=\"dataframe\">\n",
       "  <thead>\n",
       "    <tr style=\"text-align: right;\">\n",
       "      <th></th>\n",
       "      <th>frame</th>\n",
       "      <th>event_id</th>\n",
       "      <th>match_id_SKC</th>\n",
       "      <th>period</th>\n",
       "      <th>pass_cross</th>\n",
       "      <th>pass_type</th>\n",
       "      <th>team_id_SKC</th>\n",
       "    </tr>\n",
       "  </thead>\n",
       "  <tbody>\n",
       "  </tbody>\n",
       "</table>\n",
       "</div>"
      ],
      "text/plain": [
       "Empty DataFrame\n",
       "Columns: [frame, event_id, match_id_SKC, period, pass_cross, pass_type, team_id_SKC]\n",
       "Index: []"
      ]
     },
     "execution_count": 23,
     "metadata": {},
     "output_type": "execute_result"
    }
   ],
   "source": [
    "# On regarde si il y'a des évènements précédents des centres qui correspondent à des centres\n",
    "events_avant_centre[events_avant_centre.pass_cross == 1]"
   ]
  },
  {
   "cell_type": "code",
   "execution_count": 24,
   "metadata": {},
   "outputs": [
    {
     "name": "stdout",
     "output_type": "stream",
     "text": [
      "0\n"
     ]
    }
   ],
   "source": [
    "# Autre moyen de vérifier\n",
    "print(len(index_events_avant_centre.intersection(centres.index)))"
   ]
  },
  {
   "cell_type": "markdown",
   "metadata": {},
   "source": [
    "Il n'y en a pas"
   ]
  },
  {
   "cell_type": "code",
   "execution_count": 25,
   "metadata": {},
   "outputs": [],
   "source": [
    "# Attribution des centre_id à chaque events précédant les centres et à chaque centre\n",
    "events_avant_centre[\"centre_id\"] = range(len(events_avant_centre))\n",
    "centres[\"centre_id\"] = range(len(events_avant_centre))"
   ]
  },
  {
   "cell_type": "code",
   "execution_count": 26,
   "metadata": {},
   "outputs": [],
   "source": [
    "# On attribue aux events précédant les centres l'équipe qui a effectué le centre (suivant ces events)\n",
    "# En effet, il est possible que l'équipe en possession du ballon lors de l'évènement précédant un centre ne soit pas la même\n",
    "# que celle qui a effectué le centre en question\n",
    "# De ce fait, il est nécessaire de remplacer l'équipe actuellement attribuée aux events précédant les centres par les équipes ayant effectué \n",
    "# les centres\n",
    "events_avant_centre.drop(\"team_id_SKC\", axis = 1, inplace = True)\n",
    "events_avant_centre = pd.merge(events_avant_centre, centres[[\"team_centre_id_SKC\", \"centre_id\"]], on = \"centre_id\")"
   ]
  },
  {
   "cell_type": "code",
   "execution_count": 27,
   "metadata": {},
   "outputs": [
    {
     "data": {
      "text/html": [
       "<div>\n",
       "<style scoped>\n",
       "    .dataframe tbody tr th:only-of-type {\n",
       "        vertical-align: middle;\n",
       "    }\n",
       "\n",
       "    .dataframe tbody tr th {\n",
       "        vertical-align: top;\n",
       "    }\n",
       "\n",
       "    .dataframe thead th {\n",
       "        text-align: right;\n",
       "    }\n",
       "</style>\n",
       "<table border=\"1\" class=\"dataframe\">\n",
       "  <thead>\n",
       "    <tr style=\"text-align: right;\">\n",
       "      <th></th>\n",
       "      <th>frame</th>\n",
       "      <th>event_id</th>\n",
       "      <th>match_id_SKC</th>\n",
       "      <th>period</th>\n",
       "      <th>pass_cross</th>\n",
       "      <th>pass_type</th>\n",
       "      <th>centre_id</th>\n",
       "      <th>team_centre_id_SKC</th>\n",
       "    </tr>\n",
       "  </thead>\n",
       "  <tbody>\n",
       "    <tr>\n",
       "      <th>0</th>\n",
       "      <td>4820</td>\n",
       "      <td>54cbad0c-1f05-4708-9b7f-2cadeae0636b</td>\n",
       "      <td>1020089</td>\n",
       "      <td>1.0</td>\n",
       "      <td>NaN</td>\n",
       "      <td>None</td>\n",
       "      <td>0</td>\n",
       "      <td>78</td>\n",
       "    </tr>\n",
       "    <tr>\n",
       "      <th>1</th>\n",
       "      <td>5752</td>\n",
       "      <td>c1a7a598-9690-4a32-a733-b7b3b585df83</td>\n",
       "      <td>1020089</td>\n",
       "      <td>1.0</td>\n",
       "      <td>NaN</td>\n",
       "      <td>None</td>\n",
       "      <td>1</td>\n",
       "      <td>70</td>\n",
       "    </tr>\n",
       "  </tbody>\n",
       "</table>\n",
       "</div>"
      ],
      "text/plain": [
       "   frame                              event_id  match_id_SKC  period  \\\n",
       "0   4820  54cbad0c-1f05-4708-9b7f-2cadeae0636b       1020089     1.0   \n",
       "1   5752  c1a7a598-9690-4a32-a733-b7b3b585df83       1020089     1.0   \n",
       "\n",
       "   pass_cross pass_type  centre_id  team_centre_id_SKC  \n",
       "0         NaN      None          0                  78  \n",
       "1         NaN      None          1                  70  "
      ]
     },
     "execution_count": 27,
     "metadata": {},
     "output_type": "execute_result"
    }
   ],
   "source": [
    "# Aperçu des données\n",
    "events_avant_centre.head(2)"
   ]
  },
  {
   "cell_type": "markdown",
   "metadata": {},
   "source": [
    "Nous avons terminé cette première étape qui nous a permis d'analyser et extraire les centres ainsi que les évènements les précédant.  \n",
    "Nous obtenons finalement un dataframe composé de l'ensemble des events précédant les centres dont nous disposons.  \n",
    "Ce dataframe contient des informations cruciales telles que la période durant laquelle est survenu l'action, l'identifiant de l'event SB (\"event_id\") ou encore l'identifiant du centre que nous avons créé dans le but de pouvoir retrouver le centre auquel correspond l'event précédant un centre."
   ]
  },
  {
   "cell_type": "markdown",
   "metadata": {},
   "source": [
    "Nous allons maintenant passer à l'analyse de la position des joueurs au moment de l'event précédant le centre.  \n",
    "Pour cela, nous allons utiliser les données de tracking que nous avions au préalable importées dans la BDD SQLite grâce à nos programmes d'importation."
   ]
  },
  {
   "cell_type": "markdown",
   "metadata": {},
   "source": [
    "# Importation des données de tracking"
   ]
  },
  {
   "cell_type": "code",
   "execution_count": 28,
   "metadata": {},
   "outputs": [],
   "source": [
    "req = cursor.execute(f\"SELECT trackable_object, x, y, event_id FROM tracking_data\")\n",
    "res = req.fetchall()\n",
    "desc = req.description\n",
    "tracking_data = pd.DataFrame(res)\n",
    "tracking_data.columns = [i[0] for i in desc]"
   ]
  },
  {
   "cell_type": "code",
   "execution_count": 29,
   "metadata": {},
   "outputs": [
    {
     "data": {
      "text/html": [
       "<div>\n",
       "<style scoped>\n",
       "    .dataframe tbody tr th:only-of-type {\n",
       "        vertical-align: middle;\n",
       "    }\n",
       "\n",
       "    .dataframe tbody tr th {\n",
       "        vertical-align: top;\n",
       "    }\n",
       "\n",
       "    .dataframe thead th {\n",
       "        text-align: right;\n",
       "    }\n",
       "</style>\n",
       "<table border=\"1\" class=\"dataframe\">\n",
       "  <thead>\n",
       "    <tr style=\"text-align: right;\">\n",
       "      <th></th>\n",
       "      <th>trackable_object</th>\n",
       "      <th>x</th>\n",
       "      <th>y</th>\n",
       "      <th>event_id</th>\n",
       "    </tr>\n",
       "  </thead>\n",
       "  <tbody>\n",
       "    <tr>\n",
       "      <th>0</th>\n",
       "      <td>12235.0</td>\n",
       "      <td>45.43</td>\n",
       "      <td>-0.97</td>\n",
       "      <td>54cbad0c-1f05-4708-9b7f-2cadeae0636b</td>\n",
       "    </tr>\n",
       "    <tr>\n",
       "      <th>1</th>\n",
       "      <td>12327.0</td>\n",
       "      <td>32.26</td>\n",
       "      <td>-2.78</td>\n",
       "      <td>54cbad0c-1f05-4708-9b7f-2cadeae0636b</td>\n",
       "    </tr>\n",
       "  </tbody>\n",
       "</table>\n",
       "</div>"
      ],
      "text/plain": [
       "   trackable_object      x     y                              event_id\n",
       "0           12235.0  45.43 -0.97  54cbad0c-1f05-4708-9b7f-2cadeae0636b\n",
       "1           12327.0  32.26 -2.78  54cbad0c-1f05-4708-9b7f-2cadeae0636b"
      ]
     },
     "execution_count": 29,
     "metadata": {},
     "output_type": "execute_result"
    }
   ],
   "source": [
    "# Aperçu des données\n",
    "tracking_data.head(2)"
   ]
  },
  {
   "cell_type": "markdown",
   "metadata": {},
   "source": [
    "Nous allons maintenant fusionner le dataframe des events précédant les centres avec le dataframe des données de tracking.  \n",
    "En effet, on souhaite étudier seulement les positions des joueurs sur les events précédant des centres, or le dataframe tracking_data actuel contient les données de toutes les frames disponibles.  \n",
    "Pour effectuer ce merge, nous allons joindre les deux dataframes par rapport à la colonne \"event_id\" qui identifie de manière unique chaque event SB, et nous partons du principe qu'il n'y a aucun event dupliqué dans les données.  \n",
    "Pour cette jointure, nous n'utilisons pas le couple [\"match_id_SKC\", \"frame\"], qui identifie de manière unique chaque frame, car dans le cas ou Stats Bomb recenserait 2 events correspondant à la même frame SK (ie. qui se déroulent au même instant), alors la même frame serait présente 2 fois dans les données."
   ]
  },
  {
   "cell_type": "code",
   "execution_count": 30,
   "metadata": {},
   "outputs": [],
   "source": [
    "td_avant_centre = pd.merge(events_avant_centre[[\"match_id_SKC\", \"event_id\", \"period\", \"centre_id\", \"team_centre_id_SKC\"]], tracking_data,\n",
    "                           on = \"event_id\")\n",
    "# td_avant_centre correspond à \"tracking data des events avant les centres\""
   ]
  },
  {
   "cell_type": "code",
   "execution_count": 31,
   "metadata": {},
   "outputs": [
    {
     "data": {
      "text/html": [
       "<div>\n",
       "<style scoped>\n",
       "    .dataframe tbody tr th:only-of-type {\n",
       "        vertical-align: middle;\n",
       "    }\n",
       "\n",
       "    .dataframe tbody tr th {\n",
       "        vertical-align: top;\n",
       "    }\n",
       "\n",
       "    .dataframe thead th {\n",
       "        text-align: right;\n",
       "    }\n",
       "</style>\n",
       "<table border=\"1\" class=\"dataframe\">\n",
       "  <thead>\n",
       "    <tr style=\"text-align: right;\">\n",
       "      <th></th>\n",
       "      <th>match_id_SKC</th>\n",
       "      <th>event_id</th>\n",
       "      <th>period</th>\n",
       "      <th>centre_id</th>\n",
       "      <th>team_centre_id_SKC</th>\n",
       "      <th>trackable_object</th>\n",
       "      <th>x</th>\n",
       "      <th>y</th>\n",
       "    </tr>\n",
       "  </thead>\n",
       "  <tbody>\n",
       "    <tr>\n",
       "      <th>0</th>\n",
       "      <td>1020089</td>\n",
       "      <td>54cbad0c-1f05-4708-9b7f-2cadeae0636b</td>\n",
       "      <td>1.0</td>\n",
       "      <td>0</td>\n",
       "      <td>78</td>\n",
       "      <td>12235.0</td>\n",
       "      <td>45.43</td>\n",
       "      <td>-0.97</td>\n",
       "    </tr>\n",
       "    <tr>\n",
       "      <th>1</th>\n",
       "      <td>1020089</td>\n",
       "      <td>54cbad0c-1f05-4708-9b7f-2cadeae0636b</td>\n",
       "      <td>1.0</td>\n",
       "      <td>0</td>\n",
       "      <td>78</td>\n",
       "      <td>12327.0</td>\n",
       "      <td>32.26</td>\n",
       "      <td>-2.78</td>\n",
       "    </tr>\n",
       "  </tbody>\n",
       "</table>\n",
       "</div>"
      ],
      "text/plain": [
       "   match_id_SKC                              event_id  period  centre_id  \\\n",
       "0       1020089  54cbad0c-1f05-4708-9b7f-2cadeae0636b     1.0          0   \n",
       "1       1020089  54cbad0c-1f05-4708-9b7f-2cadeae0636b     1.0          0   \n",
       "\n",
       "   team_centre_id_SKC  trackable_object      x     y  \n",
       "0                  78           12235.0  45.43 -0.97  \n",
       "1                  78           12327.0  32.26 -2.78  "
      ]
     },
     "execution_count": 31,
     "metadata": {},
     "output_type": "execute_result"
    }
   ],
   "source": [
    "# Aperçu des données\n",
    "td_avant_centre.head(2)"
   ]
  },
  {
   "cell_type": "markdown",
   "metadata": {},
   "source": [
    "Nous allons maintenant regarder s'il y'a des events précédant les centres pour lesquels nous n'avons pas de tracking data"
   ]
  },
  {
   "cell_type": "code",
   "execution_count": 32,
   "metadata": {},
   "outputs": [
    {
     "name": "stdout",
     "output_type": "stream",
     "text": [
      "Nombre de centres pour lesquels nous n'avons pas d'information sur la frame de l'event précédent le centre dans les données de tracking : 40\n",
      "Nombre total de frames correspondant à des events précédant un centre : 6181\n"
     ]
    }
   ],
   "source": [
    "print(\"Nombre de centres pour lesquels nous n'avons pas d'information sur la frame de l'event précédent le centre dans les données de tracking :\",\n",
    "      len(events_avant_centre[~events_avant_centre.centre_id.isin(td_avant_centre.centre_id)]))\n",
    "print(\"Nombre total de frames correspondant à des events précédant un centre :\", len(events_avant_centre))"
   ]
  },
  {
   "cell_type": "markdown",
   "metadata": {},
   "source": [
    "On remarque qu'il y'a seulement 40 des 6181 frames pour lesquelles nous n'avons pas de données de tracking, ce qui reste raisonnablement faible."
   ]
  },
  {
   "cell_type": "markdown",
   "metadata": {},
   "source": [
    "---"
   ]
  },
  {
   "cell_type": "markdown",
   "metadata": {},
   "source": [
    "Rappel : nous souhaitons étudier le nombre d'adversaires entre le ballon et le but pendant l'évènement précédant le centre.  \n",
    "Or, pour l'instant, nous ne savons pas à quelles équipes appartiennent les joueurs (qui sont identifiés par la colonne \"trackable_object\").  \n",
    "Dans la prochaine section, nous allons donc faire matcher les joueurs avec l'id SK de leur équipe"
   ]
  },
  {
   "cell_type": "markdown",
   "metadata": {},
   "source": [
    "# Matching des joueurs avec leur équipe (pour chaque match)"
   ]
  },
  {
   "cell_type": "markdown",
   "metadata": {},
   "source": [
    "Nous allons faire matcher, pour chaque match, l'ensemble des id Stats Bomb des joueurs présents sur la feuille de match avec l'id Skill Corner de leur équipe respectif.  \n",
    "Il est important de bien s'intéresser aux id des joueurs pour chaque match et non sur une saison.  \n",
    "En effet, dans le cas ou un joueur serait transféré d'une équipe à une autre au cours d'une saison, il aurait alors 2 valeurs (dans le cas ou on ferait matcher le joueur avec son équipe sur la saison)"
   ]
  },
  {
   "cell_type": "markdown",
   "metadata": {},
   "source": [
    "Pour obtenir ce matching, nous allons utiliser les données lineup de Stats Bomb qui nous fournissent, pour chaque match, la liste des id des joueurs sur la feuille de match ainsi que les id SB des équipes auxquelles ils appartiennent.  \n",
    "De plus, nous utiliserons les tables de matching pour les id SB et SK des matches, des équipes et des joueurs."
   ]
  },
  {
   "cell_type": "markdown",
   "metadata": {},
   "source": [
    "Rappel : nous avons déjà importé la table de matching des id SK et SB des équipes"
   ]
  },
  {
   "cell_type": "code",
   "execution_count": 33,
   "metadata": {},
   "outputs": [],
   "source": [
    "# Importation des données de matching entre les id Skill Corner et Stats Bomb des matches\n",
    "req = cursor.execute(f\"SELECT * FROM matching_matches\")\n",
    "res = req.fetchall()\n",
    "desc = req.description\n",
    "matching_matches = pd.DataFrame(res)\n",
    "matching_matches.columns = [i[0] for i in desc]"
   ]
  },
  {
   "cell_type": "code",
   "execution_count": 34,
   "metadata": {},
   "outputs": [
    {
     "data": {
      "text/html": [
       "<div>\n",
       "<style scoped>\n",
       "    .dataframe tbody tr th:only-of-type {\n",
       "        vertical-align: middle;\n",
       "    }\n",
       "\n",
       "    .dataframe tbody tr th {\n",
       "        vertical-align: top;\n",
       "    }\n",
       "\n",
       "    .dataframe thead th {\n",
       "        text-align: right;\n",
       "    }\n",
       "</style>\n",
       "<table border=\"1\" class=\"dataframe\">\n",
       "  <thead>\n",
       "    <tr style=\"text-align: right;\">\n",
       "      <th></th>\n",
       "      <th>match_id_SB</th>\n",
       "      <th>match_id_SKC</th>\n",
       "    </tr>\n",
       "  </thead>\n",
       "  <tbody>\n",
       "    <tr>\n",
       "      <th>0</th>\n",
       "      <td>3894366.0</td>\n",
       "      <td>1547880</td>\n",
       "    </tr>\n",
       "    <tr>\n",
       "      <th>1</th>\n",
       "      <td>3894367.0</td>\n",
       "      <td>1547881</td>\n",
       "    </tr>\n",
       "  </tbody>\n",
       "</table>\n",
       "</div>"
      ],
      "text/plain": [
       "   match_id_SB  match_id_SKC\n",
       "0    3894366.0       1547880\n",
       "1    3894367.0       1547881"
      ]
     },
     "execution_count": 34,
     "metadata": {},
     "output_type": "execute_result"
    }
   ],
   "source": [
    "# Aperçu des données\n",
    "matching_matches.head(2)"
   ]
  },
  {
   "cell_type": "code",
   "execution_count": 35,
   "metadata": {},
   "outputs": [],
   "source": [
    "# Importation des données lineup de Stats Bomb.\n",
    "req = cursor.execute(f\"SELECT player_id_SB, team_id_SB, match_id_SB FROM lineups\")\n",
    "res = req.fetchall()\n",
    "desc = req.description\n",
    "lineups = pd.DataFrame(res)\n",
    "lineups.columns = [i[0] for i in desc]"
   ]
  },
  {
   "cell_type": "code",
   "execution_count": 36,
   "metadata": {},
   "outputs": [
    {
     "data": {
      "text/html": [
       "<div>\n",
       "<style scoped>\n",
       "    .dataframe tbody tr th:only-of-type {\n",
       "        vertical-align: middle;\n",
       "    }\n",
       "\n",
       "    .dataframe tbody tr th {\n",
       "        vertical-align: top;\n",
       "    }\n",
       "\n",
       "    .dataframe thead th {\n",
       "        text-align: right;\n",
       "    }\n",
       "</style>\n",
       "<table border=\"1\" class=\"dataframe\">\n",
       "  <thead>\n",
       "    <tr style=\"text-align: right;\">\n",
       "      <th></th>\n",
       "      <th>player_id_SB</th>\n",
       "      <th>team_id_SB</th>\n",
       "      <th>match_id_SB</th>\n",
       "    </tr>\n",
       "  </thead>\n",
       "  <tbody>\n",
       "    <tr>\n",
       "      <th>0</th>\n",
       "      <td>2941</td>\n",
       "      <td>147</td>\n",
       "      <td>3894037</td>\n",
       "    </tr>\n",
       "    <tr>\n",
       "      <th>1</th>\n",
       "      <td>3044</td>\n",
       "      <td>147</td>\n",
       "      <td>3894037</td>\n",
       "    </tr>\n",
       "  </tbody>\n",
       "</table>\n",
       "</div>"
      ],
      "text/plain": [
       "   player_id_SB  team_id_SB  match_id_SB\n",
       "0          2941         147      3894037\n",
       "1          3044         147      3894037"
      ]
     },
     "execution_count": 36,
     "metadata": {},
     "output_type": "execute_result"
    }
   ],
   "source": [
    "# Aperçu des données\n",
    "lineups.head(2)"
   ]
  },
  {
   "cell_type": "code",
   "execution_count": 37,
   "metadata": {},
   "outputs": [],
   "source": [
    "# Importation des données de matching des id SK et SB des joueurs.\n",
    "# De plus, nous allons aussi importer la colonne \"trackable_object\" qui est utilisée pour identifier les joueurs dans les données de tracking\n",
    "req = cursor.execute(f\"SELECT trackable_object, player_id_SB, player_id_SKC FROM matching_players\")\n",
    "res = req.fetchall()\n",
    "desc = req.description\n",
    "matching_players = pd.DataFrame(res)\n",
    "matching_players.columns = [i[0] for i in desc]"
   ]
  },
  {
   "cell_type": "code",
   "execution_count": 38,
   "metadata": {},
   "outputs": [
    {
     "data": {
      "text/html": [
       "<div>\n",
       "<style scoped>\n",
       "    .dataframe tbody tr th:only-of-type {\n",
       "        vertical-align: middle;\n",
       "    }\n",
       "\n",
       "    .dataframe tbody tr th {\n",
       "        vertical-align: top;\n",
       "    }\n",
       "\n",
       "    .dataframe thead th {\n",
       "        text-align: right;\n",
       "    }\n",
       "</style>\n",
       "<table border=\"1\" class=\"dataframe\">\n",
       "  <thead>\n",
       "    <tr style=\"text-align: right;\">\n",
       "      <th></th>\n",
       "      <th>trackable_object</th>\n",
       "      <th>player_id_SB</th>\n",
       "      <th>player_id_SKC</th>\n",
       "    </tr>\n",
       "  </thead>\n",
       "  <tbody>\n",
       "    <tr>\n",
       "      <th>0</th>\n",
       "      <td>820104</td>\n",
       "      <td>307251.0</td>\n",
       "      <td>818541</td>\n",
       "    </tr>\n",
       "    <tr>\n",
       "      <th>1</th>\n",
       "      <td>39010</td>\n",
       "      <td>66886.0</td>\n",
       "      <td>37889</td>\n",
       "    </tr>\n",
       "  </tbody>\n",
       "</table>\n",
       "</div>"
      ],
      "text/plain": [
       "   trackable_object  player_id_SB  player_id_SKC\n",
       "0            820104      307251.0         818541\n",
       "1             39010       66886.0          37889"
      ]
     },
     "execution_count": 38,
     "metadata": {},
     "output_type": "execute_result"
    }
   ],
   "source": [
    "# Aperçu des données\n",
    "matching_players.head(2)"
   ]
  },
  {
   "cell_type": "markdown",
   "metadata": {},
   "source": [
    "Nous allons maintenant faire matcher les id SB des joueurs, des équipes et des matches avec leur id SK respectif"
   ]
  },
  {
   "cell_type": "code",
   "execution_count": 39,
   "metadata": {},
   "outputs": [],
   "source": [
    "# Matching des id des matches\n",
    "merge_match_id = pd.merge(lineups, matching_matches, on = \"match_id_SB\")"
   ]
  },
  {
   "cell_type": "code",
   "execution_count": 40,
   "metadata": {},
   "outputs": [
    {
     "data": {
      "text/html": [
       "<div>\n",
       "<style scoped>\n",
       "    .dataframe tbody tr th:only-of-type {\n",
       "        vertical-align: middle;\n",
       "    }\n",
       "\n",
       "    .dataframe tbody tr th {\n",
       "        vertical-align: top;\n",
       "    }\n",
       "\n",
       "    .dataframe thead th {\n",
       "        text-align: right;\n",
       "    }\n",
       "</style>\n",
       "<table border=\"1\" class=\"dataframe\">\n",
       "  <thead>\n",
       "    <tr style=\"text-align: right;\">\n",
       "      <th></th>\n",
       "      <th>player_id_SB</th>\n",
       "      <th>team_id_SB</th>\n",
       "      <th>match_id_SB</th>\n",
       "      <th>match_id_SKC</th>\n",
       "    </tr>\n",
       "  </thead>\n",
       "  <tbody>\n",
       "    <tr>\n",
       "      <th>0</th>\n",
       "      <td>2941</td>\n",
       "      <td>147</td>\n",
       "      <td>3894037</td>\n",
       "      <td>1020753</td>\n",
       "    </tr>\n",
       "    <tr>\n",
       "      <th>1</th>\n",
       "      <td>3044</td>\n",
       "      <td>147</td>\n",
       "      <td>3894037</td>\n",
       "      <td>1020753</td>\n",
       "    </tr>\n",
       "  </tbody>\n",
       "</table>\n",
       "</div>"
      ],
      "text/plain": [
       "   player_id_SB  team_id_SB  match_id_SB  match_id_SKC\n",
       "0          2941         147      3894037       1020753\n",
       "1          3044         147      3894037       1020753"
      ]
     },
     "execution_count": 40,
     "metadata": {},
     "output_type": "execute_result"
    }
   ],
   "source": [
    "# Aperçu des données\n",
    "merge_match_id.head(2)"
   ]
  },
  {
   "cell_type": "code",
   "execution_count": 41,
   "metadata": {},
   "outputs": [],
   "source": [
    "# Matching des id des joueurs\n",
    "merge_player_id = pd.merge(merge_match_id, matching_players, on = \"player_id_SB\")"
   ]
  },
  {
   "cell_type": "code",
   "execution_count": 42,
   "metadata": {},
   "outputs": [
    {
     "data": {
      "text/html": [
       "<div>\n",
       "<style scoped>\n",
       "    .dataframe tbody tr th:only-of-type {\n",
       "        vertical-align: middle;\n",
       "    }\n",
       "\n",
       "    .dataframe tbody tr th {\n",
       "        vertical-align: top;\n",
       "    }\n",
       "\n",
       "    .dataframe thead th {\n",
       "        text-align: right;\n",
       "    }\n",
       "</style>\n",
       "<table border=\"1\" class=\"dataframe\">\n",
       "  <thead>\n",
       "    <tr style=\"text-align: right;\">\n",
       "      <th></th>\n",
       "      <th>player_id_SB</th>\n",
       "      <th>team_id_SB</th>\n",
       "      <th>match_id_SB</th>\n",
       "      <th>match_id_SKC</th>\n",
       "      <th>trackable_object</th>\n",
       "      <th>player_id_SKC</th>\n",
       "    </tr>\n",
       "  </thead>\n",
       "  <tbody>\n",
       "    <tr>\n",
       "      <th>0</th>\n",
       "      <td>2941</td>\n",
       "      <td>147</td>\n",
       "      <td>3894037</td>\n",
       "      <td>1020753</td>\n",
       "      <td>11308</td>\n",
       "      <td>11274</td>\n",
       "    </tr>\n",
       "    <tr>\n",
       "      <th>1</th>\n",
       "      <td>3044</td>\n",
       "      <td>147</td>\n",
       "      <td>3894037</td>\n",
       "      <td>1020753</td>\n",
       "      <td>1743</td>\n",
       "      <td>1733</td>\n",
       "    </tr>\n",
       "  </tbody>\n",
       "</table>\n",
       "</div>"
      ],
      "text/plain": [
       "   player_id_SB  team_id_SB  match_id_SB  match_id_SKC  trackable_object  \\\n",
       "0          2941         147      3894037       1020753             11308   \n",
       "1          3044         147      3894037       1020753              1743   \n",
       "\n",
       "   player_id_SKC  \n",
       "0          11274  \n",
       "1           1733  "
      ]
     },
     "execution_count": 42,
     "metadata": {},
     "output_type": "execute_result"
    }
   ],
   "source": [
    "# Aperçu des données\n",
    "merge_player_id.head(2)"
   ]
  },
  {
   "cell_type": "code",
   "execution_count": 43,
   "metadata": {},
   "outputs": [],
   "source": [
    "# Enfin, il ne nous reste plus qu'à faire matcher les id des équipes\n",
    "matching_player_team = pd.merge(merge_player_id, matching_teams, on = \"team_id_SB\")"
   ]
  },
  {
   "cell_type": "code",
   "execution_count": 44,
   "metadata": {},
   "outputs": [
    {
     "data": {
      "text/html": [
       "<div>\n",
       "<style scoped>\n",
       "    .dataframe tbody tr th:only-of-type {\n",
       "        vertical-align: middle;\n",
       "    }\n",
       "\n",
       "    .dataframe tbody tr th {\n",
       "        vertical-align: top;\n",
       "    }\n",
       "\n",
       "    .dataframe thead th {\n",
       "        text-align: right;\n",
       "    }\n",
       "</style>\n",
       "<table border=\"1\" class=\"dataframe\">\n",
       "  <thead>\n",
       "    <tr style=\"text-align: right;\">\n",
       "      <th></th>\n",
       "      <th>player_id_SB</th>\n",
       "      <th>team_id_SB</th>\n",
       "      <th>match_id_SB</th>\n",
       "      <th>match_id_SKC</th>\n",
       "      <th>trackable_object</th>\n",
       "      <th>player_id_SKC</th>\n",
       "      <th>team_id_SKC</th>\n",
       "    </tr>\n",
       "  </thead>\n",
       "  <tbody>\n",
       "    <tr>\n",
       "      <th>0</th>\n",
       "      <td>2941</td>\n",
       "      <td>147</td>\n",
       "      <td>3894037</td>\n",
       "      <td>1020753</td>\n",
       "      <td>11308</td>\n",
       "      <td>11274</td>\n",
       "      <td>80</td>\n",
       "    </tr>\n",
       "    <tr>\n",
       "      <th>1</th>\n",
       "      <td>3044</td>\n",
       "      <td>147</td>\n",
       "      <td>3894037</td>\n",
       "      <td>1020753</td>\n",
       "      <td>1743</td>\n",
       "      <td>1733</td>\n",
       "      <td>80</td>\n",
       "    </tr>\n",
       "  </tbody>\n",
       "</table>\n",
       "</div>"
      ],
      "text/plain": [
       "   player_id_SB  team_id_SB  match_id_SB  match_id_SKC  trackable_object  \\\n",
       "0          2941         147      3894037       1020753             11308   \n",
       "1          3044         147      3894037       1020753              1743   \n",
       "\n",
       "   player_id_SKC  team_id_SKC  \n",
       "0          11274           80  \n",
       "1           1733           80  "
      ]
     },
     "execution_count": 44,
     "metadata": {},
     "output_type": "execute_result"
    }
   ],
   "source": [
    "# Aperçu des données\n",
    "matching_player_team.head(2)"
   ]
  },
  {
   "cell_type": "markdown",
   "metadata": {},
   "source": [
    "Nous ne souhaitons conserver que les informations qui nous serons utiles pour le matching avec les données de tracking, c'est à dire les colonnes  \"match_id_SKC\", \"trackable_object\" et \"team_id_SKC\"."
   ]
  },
  {
   "cell_type": "code",
   "execution_count": 45,
   "metadata": {},
   "outputs": [],
   "source": [
    "matching_player_team = matching_player_team[[\"match_id_SKC\", \"trackable_object\", \"team_id_SKC\"]]"
   ]
  },
  {
   "cell_type": "code",
   "execution_count": 46,
   "metadata": {},
   "outputs": [],
   "source": [
    "# De plus, nous renommons la colonne \"team_id_SKC\" par \"team_player_id_SKC\" afin d'éviter toute confusion\n",
    "matching_player_team.rename({\"team_id_SKC\" : \"team_player_id_SKC\"}, axis = 1, inplace = True)"
   ]
  },
  {
   "cell_type": "markdown",
   "metadata": {},
   "source": [
    "---"
   ]
  },
  {
   "cell_type": "markdown",
   "metadata": {},
   "source": [
    "Nous avons maintenant terminé de créer les données de matching nécessaire, nous allons donc les appliquer aux données de tracking."
   ]
  },
  {
   "cell_type": "code",
   "execution_count": 47,
   "metadata": {},
   "outputs": [
    {
     "data": {
      "text/html": [
       "<div>\n",
       "<style scoped>\n",
       "    .dataframe tbody tr th:only-of-type {\n",
       "        vertical-align: middle;\n",
       "    }\n",
       "\n",
       "    .dataframe tbody tr th {\n",
       "        vertical-align: top;\n",
       "    }\n",
       "\n",
       "    .dataframe thead th {\n",
       "        text-align: right;\n",
       "    }\n",
       "</style>\n",
       "<table border=\"1\" class=\"dataframe\">\n",
       "  <thead>\n",
       "    <tr style=\"text-align: right;\">\n",
       "      <th></th>\n",
       "      <th>match_id_SKC</th>\n",
       "      <th>event_id</th>\n",
       "      <th>period</th>\n",
       "      <th>centre_id</th>\n",
       "      <th>team_centre_id_SKC</th>\n",
       "      <th>trackable_object</th>\n",
       "      <th>x</th>\n",
       "      <th>y</th>\n",
       "    </tr>\n",
       "  </thead>\n",
       "  <tbody>\n",
       "    <tr>\n",
       "      <th>0</th>\n",
       "      <td>1020089</td>\n",
       "      <td>54cbad0c-1f05-4708-9b7f-2cadeae0636b</td>\n",
       "      <td>1.0</td>\n",
       "      <td>0</td>\n",
       "      <td>78</td>\n",
       "      <td>12235.0</td>\n",
       "      <td>45.43</td>\n",
       "      <td>-0.97</td>\n",
       "    </tr>\n",
       "    <tr>\n",
       "      <th>1</th>\n",
       "      <td>1020089</td>\n",
       "      <td>54cbad0c-1f05-4708-9b7f-2cadeae0636b</td>\n",
       "      <td>1.0</td>\n",
       "      <td>0</td>\n",
       "      <td>78</td>\n",
       "      <td>12327.0</td>\n",
       "      <td>32.26</td>\n",
       "      <td>-2.78</td>\n",
       "    </tr>\n",
       "  </tbody>\n",
       "</table>\n",
       "</div>"
      ],
      "text/plain": [
       "   match_id_SKC                              event_id  period  centre_id  \\\n",
       "0       1020089  54cbad0c-1f05-4708-9b7f-2cadeae0636b     1.0          0   \n",
       "1       1020089  54cbad0c-1f05-4708-9b7f-2cadeae0636b     1.0          0   \n",
       "\n",
       "   team_centre_id_SKC  trackable_object      x     y  \n",
       "0                  78           12235.0  45.43 -0.97  \n",
       "1                  78           12327.0  32.26 -2.78  "
      ]
     },
     "execution_count": 47,
     "metadata": {},
     "output_type": "execute_result"
    }
   ],
   "source": [
    "# Rappel données de tracking\n",
    "td_avant_centre.head(2)"
   ]
  },
  {
   "cell_type": "markdown",
   "metadata": {},
   "source": [
    "Nous allons faire matcher les joueurs avec leur équipe"
   ]
  },
  {
   "cell_type": "code",
   "execution_count": 48,
   "metadata": {},
   "outputs": [],
   "source": [
    "# Nous rajoutons le paramètre : how = \"left\" afin d'effectuer un \"left join\" SQL.\n",
    "# En effet, les données de tracking contiennent aussi des informations sur le ballon, qui ne possède pas d'équipe.\n",
    "# En effectuant un inner join (qui est la jointure effectuée par défaut par la commande merge de Pandas), cela ne gardera pas les données de\n",
    "# tracking du ballon car il n'est pas référencé dans les données de matching_player_team\n",
    "tracking_data = pd.merge(td_avant_centre, matching_player_team, on = [\"match_id_SKC\", \"trackable_object\"], how = \"left\")"
   ]
  },
  {
   "cell_type": "code",
   "execution_count": 49,
   "metadata": {},
   "outputs": [
    {
     "data": {
      "text/html": [
       "<div>\n",
       "<style scoped>\n",
       "    .dataframe tbody tr th:only-of-type {\n",
       "        vertical-align: middle;\n",
       "    }\n",
       "\n",
       "    .dataframe tbody tr th {\n",
       "        vertical-align: top;\n",
       "    }\n",
       "\n",
       "    .dataframe thead th {\n",
       "        text-align: right;\n",
       "    }\n",
       "</style>\n",
       "<table border=\"1\" class=\"dataframe\">\n",
       "  <thead>\n",
       "    <tr style=\"text-align: right;\">\n",
       "      <th></th>\n",
       "      <th>match_id_SKC</th>\n",
       "      <th>event_id</th>\n",
       "      <th>period</th>\n",
       "      <th>centre_id</th>\n",
       "      <th>team_centre_id_SKC</th>\n",
       "      <th>trackable_object</th>\n",
       "      <th>x</th>\n",
       "      <th>y</th>\n",
       "      <th>team_player_id_SKC</th>\n",
       "    </tr>\n",
       "  </thead>\n",
       "  <tbody>\n",
       "    <tr>\n",
       "      <th>0</th>\n",
       "      <td>1020089</td>\n",
       "      <td>54cbad0c-1f05-4708-9b7f-2cadeae0636b</td>\n",
       "      <td>1.0</td>\n",
       "      <td>0</td>\n",
       "      <td>78</td>\n",
       "      <td>12235.0</td>\n",
       "      <td>45.43</td>\n",
       "      <td>-0.97</td>\n",
       "      <td>70.0</td>\n",
       "    </tr>\n",
       "    <tr>\n",
       "      <th>1</th>\n",
       "      <td>1020089</td>\n",
       "      <td>54cbad0c-1f05-4708-9b7f-2cadeae0636b</td>\n",
       "      <td>1.0</td>\n",
       "      <td>0</td>\n",
       "      <td>78</td>\n",
       "      <td>12327.0</td>\n",
       "      <td>32.26</td>\n",
       "      <td>-2.78</td>\n",
       "      <td>70.0</td>\n",
       "    </tr>\n",
       "  </tbody>\n",
       "</table>\n",
       "</div>"
      ],
      "text/plain": [
       "   match_id_SKC                              event_id  period  centre_id  \\\n",
       "0       1020089  54cbad0c-1f05-4708-9b7f-2cadeae0636b     1.0          0   \n",
       "1       1020089  54cbad0c-1f05-4708-9b7f-2cadeae0636b     1.0          0   \n",
       "\n",
       "   team_centre_id_SKC  trackable_object      x     y  team_player_id_SKC  \n",
       "0                  78           12235.0  45.43 -0.97                70.0  \n",
       "1                  78           12327.0  32.26 -2.78                70.0  "
      ]
     },
     "execution_count": 49,
     "metadata": {},
     "output_type": "execute_result"
    }
   ],
   "source": [
    "# Aperçu des données\n",
    "tracking_data.head(2)"
   ]
  },
  {
   "cell_type": "code",
   "execution_count": 50,
   "metadata": {},
   "outputs": [
    {
     "data": {
      "text/plain": [
       "match_id_SKC          False\n",
       "event_id              False\n",
       "period                False\n",
       "centre_id             False\n",
       "team_centre_id_SKC    False\n",
       "trackable_object      False\n",
       "x                     False\n",
       "y                     False\n",
       "team_player_id_SKC     True\n",
       "dtype: bool"
      ]
     },
     "execution_count": 50,
     "metadata": {},
     "output_type": "execute_result"
    }
   ],
   "source": [
    "# Colonnes pour lesquelles on a des données manquantes\n",
    "tracking_data.isna().any()"
   ]
  },
  {
   "cell_type": "markdown",
   "metadata": {},
   "source": [
    "On peut voir qu'il y'a des joueurs pour lesquels nous ne connaissons pas l'id SK de leur équipe (pour un ou plusieurs matchs).  "
   ]
  },
  {
   "cell_type": "code",
   "execution_count": 51,
   "metadata": {},
   "outputs": [
    {
     "data": {
      "text/plain": [
       "22            55.0\n",
       "1965       32283.0\n",
       "44099     797972.0\n",
       "83337     812065.0\n",
       "90784      93910.0\n",
       "112917    818917.0\n",
       "139112    828435.0\n",
       "Name: trackable_object, dtype: float64"
      ]
     },
     "execution_count": 51,
     "metadata": {},
     "output_type": "execute_result"
    }
   ],
   "source": [
    "# On regarde les joueurs (trackable_object) dont on ne connait pas leur équipe sur un match\n",
    "tracking_data[tracking_data.team_player_id_SKC.isna()].trackable_object.drop_duplicates()"
   ]
  },
  {
   "cell_type": "markdown",
   "metadata": {},
   "source": [
    "On remarque qu'il y'a le trackable_object 55, qui correspond au ballon, c'est donc normal qu'on ne connaisse pas son équipe"
   ]
  },
  {
   "cell_type": "code",
   "execution_count": 52,
   "metadata": {},
   "outputs": [
    {
     "name": "stdout",
     "output_type": "stream",
     "text": [
      "Nombre de tracks liées à des joueurs dont on ne connait pas l'id SK de leur équipe pour le match en question : 490\n",
      "Ratio par rapport au nombre total de tracks disponibles : 0.35 %\n"
     ]
    }
   ],
   "source": [
    "# On regarde le nombre de tracks liées à des joueurs dont on ne connait pas l'id SK de leur équipe pour le match en question\n",
    "nb_tracks_team_na = len(tracking_data[(tracking_data.team_player_id_SKC.isna()) & (tracking_data.trackable_object != 55)])\n",
    "print(\"Nombre de tracks liées à des joueurs dont on ne connait pas l'id SK de leur équipe pour le match en question :\", nb_tracks_team_na)\n",
    "print(\"Ratio par rapport au nombre total de tracks disponibles :\", round(nb_tracks_team_na*100/len(tracking_data), 2), \"%\")"
   ]
  },
  {
   "cell_type": "markdown",
   "metadata": {},
   "source": [
    "Il n'y a que 490 tracks qui correspondent à ce cas, ce qui est minoritaire par rapport au nombre de tracks disponibles"
   ]
  },
  {
   "cell_type": "code",
   "execution_count": 53,
   "metadata": {},
   "outputs": [],
   "source": [
    "# On décide donc de retirer ces tracks du dataframe\n",
    "# Cependant, il faut bien faire attention à ne pas retirer les tracks du ballon (trackable object 55)\n",
    "tracking_data = tracking_data[(~tracking_data.team_player_id_SKC.isna()) | (tracking_data.trackable_object == 55)]"
   ]
  },
  {
   "cell_type": "markdown",
   "metadata": {},
   "source": [
    "---\n",
    "Nous pouvons maintenant passer à la dernière partie qui consiste à étudier la position des joueurs adverses (à l'équipe qui a centré) lors de l'évènement précédant le centre.  "
   ]
  },
  {
   "cell_type": "markdown",
   "metadata": {},
   "source": [
    "# Étude de la position des adversaires lors de l'action précédant le centre"
   ]
  },
  {
   "cell_type": "markdown",
   "metadata": {},
   "source": [
    "Nous allons regarder pour chaque centre, le nombre d'adversaires entre le ballon et le but sur l'action précédant le centre.  \n",
    "Pour cela, nous allons entre autre nous servir de la variable centre_id qui permet d'identifier de manière unique chaque centre disponible.  \n",
    "Nous souhaitons donc étudier uniquement les tracks liées au joueur pour lesquels l'id SK de leur équipe est différent de l'id SK de l'équipe ayant effectué le centre"
   ]
  },
  {
   "cell_type": "code",
   "execution_count": 54,
   "metadata": {},
   "outputs": [],
   "source": [
    "# Nous récupérons toutes les tracks liées au ballon\n",
    "positions_ballon = tracking_data[tracking_data.trackable_object == 55]"
   ]
  },
  {
   "cell_type": "code",
   "execution_count": 55,
   "metadata": {},
   "outputs": [],
   "source": [
    "# Nous gardons seulement les adversaires de l'équipe qui a centré\n",
    "# Il faut bien penser à ne pas prendre les tracks liées au ballon \n",
    "tracking_data_adv = tracking_data[(tracking_data.team_centre_id_SKC != tracking_data.team_player_id_SKC) & (tracking_data.trackable_object != 55)]"
   ]
  },
  {
   "cell_type": "code",
   "execution_count": 56,
   "metadata": {},
   "outputs": [
    {
     "data": {
      "text/html": [
       "<div>\n",
       "<style scoped>\n",
       "    .dataframe tbody tr th:only-of-type {\n",
       "        vertical-align: middle;\n",
       "    }\n",
       "\n",
       "    .dataframe tbody tr th {\n",
       "        vertical-align: top;\n",
       "    }\n",
       "\n",
       "    .dataframe thead th {\n",
       "        text-align: right;\n",
       "    }\n",
       "</style>\n",
       "<table border=\"1\" class=\"dataframe\">\n",
       "  <thead>\n",
       "    <tr style=\"text-align: right;\">\n",
       "      <th></th>\n",
       "      <th>match_id_SKC</th>\n",
       "      <th>event_id</th>\n",
       "      <th>period</th>\n",
       "      <th>centre_id</th>\n",
       "      <th>team_centre_id_SKC</th>\n",
       "      <th>trackable_object</th>\n",
       "      <th>x</th>\n",
       "      <th>y</th>\n",
       "      <th>team_player_id_SKC</th>\n",
       "    </tr>\n",
       "  </thead>\n",
       "  <tbody>\n",
       "  </tbody>\n",
       "</table>\n",
       "</div>"
      ],
      "text/plain": [
       "Empty DataFrame\n",
       "Columns: [match_id_SKC, event_id, period, centre_id, team_centre_id_SKC, trackable_object, x, y, team_player_id_SKC]\n",
       "Index: []"
      ]
     },
     "execution_count": 56,
     "metadata": {},
     "output_type": "execute_result"
    }
   ],
   "source": [
    "# On regarde s'il y a des tracks liées au ballon pour lesquels on a aucun track de joueur adverse (par rapport au centre_id)\n",
    "positions_ballon[~positions_ballon.centre_id.isin(tracking_data_adv.centre_id)]"
   ]
  },
  {
   "cell_type": "code",
   "execution_count": 57,
   "metadata": {},
   "outputs": [
    {
     "data": {
      "text/html": [
       "<div>\n",
       "<style scoped>\n",
       "    .dataframe tbody tr th:only-of-type {\n",
       "        vertical-align: middle;\n",
       "    }\n",
       "\n",
       "    .dataframe tbody tr th {\n",
       "        vertical-align: top;\n",
       "    }\n",
       "\n",
       "    .dataframe thead th {\n",
       "        text-align: right;\n",
       "    }\n",
       "</style>\n",
       "<table border=\"1\" class=\"dataframe\">\n",
       "  <thead>\n",
       "    <tr style=\"text-align: right;\">\n",
       "      <th></th>\n",
       "      <th>match_id_SKC</th>\n",
       "      <th>event_id</th>\n",
       "      <th>period</th>\n",
       "      <th>centre_id</th>\n",
       "      <th>team_centre_id_SKC</th>\n",
       "      <th>trackable_object</th>\n",
       "      <th>x</th>\n",
       "      <th>y</th>\n",
       "      <th>team_player_id_SKC</th>\n",
       "    </tr>\n",
       "  </thead>\n",
       "  <tbody>\n",
       "  </tbody>\n",
       "</table>\n",
       "</div>"
      ],
      "text/plain": [
       "Empty DataFrame\n",
       "Columns: [match_id_SKC, event_id, period, centre_id, team_centre_id_SKC, trackable_object, x, y, team_player_id_SKC]\n",
       "Index: []"
      ]
     },
     "execution_count": 57,
     "metadata": {},
     "output_type": "execute_result"
    }
   ],
   "source": [
    "# Et inversement, s'il y a des tracks de joueurs adverses pour lesquels on n'a pas de track de ballon associé\n",
    "tracking_data_adv[~tracking_data_adv.centre_id.isin(positions_ballon.centre_id)]"
   ]
  },
  {
   "cell_type": "code",
   "execution_count": 58,
   "metadata": {},
   "outputs": [],
   "source": [
    "# Pour pouvoir facilement détecter la position des joueurs adverses par rapport au ballon, nous allons ajouter à chaque ligne la position du ballon\n",
    "# lors de l'event précédant un centre auquel la ligne fait référence.\n",
    "# Pour ce faire, nous allons effectuer une jointure au niveau du centre_id\n",
    "tracking_data_adv = pd.merge(tracking_data_adv, positions_ballon[[\"centre_id\", \"x\", \"y\"]], on = \"centre_id\", suffixes = (None, \"_ballon\"))"
   ]
  },
  {
   "cell_type": "code",
   "execution_count": 59,
   "metadata": {},
   "outputs": [
    {
     "data": {
      "text/html": [
       "<div>\n",
       "<style scoped>\n",
       "    .dataframe tbody tr th:only-of-type {\n",
       "        vertical-align: middle;\n",
       "    }\n",
       "\n",
       "    .dataframe tbody tr th {\n",
       "        vertical-align: top;\n",
       "    }\n",
       "\n",
       "    .dataframe thead th {\n",
       "        text-align: right;\n",
       "    }\n",
       "</style>\n",
       "<table border=\"1\" class=\"dataframe\">\n",
       "  <thead>\n",
       "    <tr style=\"text-align: right;\">\n",
       "      <th></th>\n",
       "      <th>match_id_SKC</th>\n",
       "      <th>event_id</th>\n",
       "      <th>period</th>\n",
       "      <th>centre_id</th>\n",
       "      <th>team_centre_id_SKC</th>\n",
       "      <th>trackable_object</th>\n",
       "      <th>x</th>\n",
       "      <th>y</th>\n",
       "      <th>team_player_id_SKC</th>\n",
       "      <th>x_ballon</th>\n",
       "      <th>y_ballon</th>\n",
       "    </tr>\n",
       "  </thead>\n",
       "  <tbody>\n",
       "    <tr>\n",
       "      <th>0</th>\n",
       "      <td>1020089</td>\n",
       "      <td>54cbad0c-1f05-4708-9b7f-2cadeae0636b</td>\n",
       "      <td>1.0</td>\n",
       "      <td>0</td>\n",
       "      <td>78</td>\n",
       "      <td>12235.0</td>\n",
       "      <td>45.43</td>\n",
       "      <td>-0.97</td>\n",
       "      <td>70.0</td>\n",
       "      <td>32.96</td>\n",
       "      <td>-28.64</td>\n",
       "    </tr>\n",
       "    <tr>\n",
       "      <th>1</th>\n",
       "      <td>1020089</td>\n",
       "      <td>54cbad0c-1f05-4708-9b7f-2cadeae0636b</td>\n",
       "      <td>1.0</td>\n",
       "      <td>0</td>\n",
       "      <td>78</td>\n",
       "      <td>12327.0</td>\n",
       "      <td>32.26</td>\n",
       "      <td>-2.78</td>\n",
       "      <td>70.0</td>\n",
       "      <td>32.96</td>\n",
       "      <td>-28.64</td>\n",
       "    </tr>\n",
       "  </tbody>\n",
       "</table>\n",
       "</div>"
      ],
      "text/plain": [
       "   match_id_SKC                              event_id  period  centre_id  \\\n",
       "0       1020089  54cbad0c-1f05-4708-9b7f-2cadeae0636b     1.0          0   \n",
       "1       1020089  54cbad0c-1f05-4708-9b7f-2cadeae0636b     1.0          0   \n",
       "\n",
       "   team_centre_id_SKC  trackable_object      x     y  team_player_id_SKC  \\\n",
       "0                  78           12235.0  45.43 -0.97                70.0   \n",
       "1                  78           12327.0  32.26 -2.78                70.0   \n",
       "\n",
       "   x_ballon  y_ballon  \n",
       "0     32.96    -28.64  \n",
       "1     32.96    -28.64  "
      ]
     },
     "execution_count": 59,
     "metadata": {},
     "output_type": "execute_result"
    }
   ],
   "source": [
    "# Aperçu des données\n",
    "tracking_data_adv.head(2)"
   ]
  },
  {
   "cell_type": "markdown",
   "metadata": {},
   "source": [
    "---\n",
    "Avant de passer à la partie finale qui nous permettra de connaitre le nombre d'adversaires entre le ballon et le but sur les actions précédant des centres, il est nécessaire de régler un problème lié aux coordonnées Skill Corner.  \n",
    "En effet, pour savoir quelle est la partie du terrain correspondant à la zone entre le ballon et le but, il est nécessaire de savoir vers quel coté attaque l'équipe qui a centré, c-à-d savoir de quel coté défendent les joueurs adverses.  \n",
    "Or, nous n'avons pas cette information actuellement, cependant nous savons grâce aux données \"SKC_cote_attaque_home_team\", pour chaque match id SK, vers quels cotés l'équipe à domicile attaque en 1ère et 2nd période.  \n",
    "Grâce à différentes jointures/matching, nous allons pouvoir retrouver cette information qu'il nous manque."
   ]
  },
  {
   "cell_type": "markdown",
   "metadata": {},
   "source": [
    "### Standardisation des coordonnées Skill Corner"
   ]
  },
  {
   "cell_type": "markdown",
   "metadata": {},
   "source": [
    "Nous allons dans un premier temps importer les données \"SKC_cote_attaque_home_team\""
   ]
  },
  {
   "cell_type": "code",
   "execution_count": 60,
   "metadata": {},
   "outputs": [],
   "source": [
    "req = cursor.execute(f\"SELECT * FROM SKC_cote_attaque_home_team\")\n",
    "res = req.fetchall()\n",
    "desc = req.description\n",
    "SKC_cote_attaque_home_team = pd.DataFrame(res)\n",
    "SKC_cote_attaque_home_team.columns = [i[0] for i in desc]"
   ]
  },
  {
   "cell_type": "code",
   "execution_count": 61,
   "metadata": {},
   "outputs": [
    {
     "data": {
      "text/html": [
       "<div>\n",
       "<style scoped>\n",
       "    .dataframe tbody tr th:only-of-type {\n",
       "        vertical-align: middle;\n",
       "    }\n",
       "\n",
       "    .dataframe tbody tr th {\n",
       "        vertical-align: top;\n",
       "    }\n",
       "\n",
       "    .dataframe thead th {\n",
       "        text-align: right;\n",
       "    }\n",
       "</style>\n",
       "<table border=\"1\" class=\"dataframe\">\n",
       "  <thead>\n",
       "    <tr style=\"text-align: right;\">\n",
       "      <th></th>\n",
       "      <th>match_id_SKC</th>\n",
       "      <th>premiere_periode</th>\n",
       "      <th>seconde_periode</th>\n",
       "    </tr>\n",
       "  </thead>\n",
       "  <tbody>\n",
       "    <tr>\n",
       "      <th>0</th>\n",
       "      <td>1547880</td>\n",
       "      <td>left_to_right</td>\n",
       "      <td>right_to_left</td>\n",
       "    </tr>\n",
       "    <tr>\n",
       "      <th>1</th>\n",
       "      <td>1547881</td>\n",
       "      <td>right_to_left</td>\n",
       "      <td>left_to_right</td>\n",
       "    </tr>\n",
       "  </tbody>\n",
       "</table>\n",
       "</div>"
      ],
      "text/plain": [
       "   match_id_SKC premiere_periode seconde_periode\n",
       "0       1547880    left_to_right   right_to_left\n",
       "1       1547881    right_to_left   left_to_right"
      ]
     },
     "execution_count": 61,
     "metadata": {},
     "output_type": "execute_result"
    }
   ],
   "source": [
    "# APerçu des données\n",
    "SKC_cote_attaque_home_team.head(2)"
   ]
  },
  {
   "cell_type": "markdown",
   "metadata": {},
   "source": [
    "Nous aimerions savoir, pour l'ensemble des matchs disponible, pour les 2 équipes de chaque match, vers quels cotés elles attaques en 1ère et 2nd période.  \n",
    "Dans un premier temps, si nous savons de quels cotés attaque l'équipe à domicile, nous pouvons en déduire les cotés vers lesquels défend l'équipe à l'extérieur.  \n",
    "Nous allons donc créer un second dataframe pour les équipes à l'extérieur, ou nous inverserons le contenu des colonnes \"premiere_periode\" et \"seconde_periode\"."
   ]
  },
  {
   "cell_type": "code",
   "execution_count": 62,
   "metadata": {},
   "outputs": [],
   "source": [
    "# Copie du dataframe des équipes à domicile en inversant l'ordre des colonnes\n",
    "cote_attaque_away_team = SKC_cote_attaque_home_team[[\"match_id_SKC\", \"seconde_periode\", \"premiere_periode\"]]\n",
    "# On renomme les colonnes pour que ce soit cohérent\n",
    "cote_attaque_away_team.rename({\"seconde_periode\" : \"premiere_periode\", \"premiere_periode\" : \"seconde_periode\"}, axis = 1, inplace = True)"
   ]
  },
  {
   "cell_type": "markdown",
   "metadata": {},
   "source": [
    "Maintenant, nous aimerions savoir à quel team id SK correspondent les équipes à domicile et à l'extérieur de chaque match id SK, dans le but de pouvoir effectuer une jointure avec les joueurs (trackable_object) du dataframe \"tracking_data\" au niveau de la colonne \"team_player_id_SKC\".  \n",
    "Nous avons cette information via Stats Bomb, grâce aux données SB_matches"
   ]
  },
  {
   "cell_type": "code",
   "execution_count": 63,
   "metadata": {},
   "outputs": [],
   "source": [
    "# Importation des données SB_matches\n",
    "req = cursor.execute(f\"SELECT match_id_SB, home_team_id_SB, away_team_id_SB FROM SB_matches\")\n",
    "res = req.fetchall()\n",
    "desc = req.description\n",
    "SB_matches = pd.DataFrame(res)\n",
    "SB_matches.columns = [i[0] for i in desc]"
   ]
  },
  {
   "cell_type": "code",
   "execution_count": 64,
   "metadata": {},
   "outputs": [
    {
     "data": {
      "text/html": [
       "<div>\n",
       "<style scoped>\n",
       "    .dataframe tbody tr th:only-of-type {\n",
       "        vertical-align: middle;\n",
       "    }\n",
       "\n",
       "    .dataframe tbody tr th {\n",
       "        vertical-align: top;\n",
       "    }\n",
       "\n",
       "    .dataframe thead th {\n",
       "        text-align: right;\n",
       "    }\n",
       "</style>\n",
       "<table border=\"1\" class=\"dataframe\">\n",
       "  <thead>\n",
       "    <tr style=\"text-align: right;\">\n",
       "      <th></th>\n",
       "      <th>match_id_SB</th>\n",
       "      <th>home_team_id_SB</th>\n",
       "      <th>away_team_id_SB</th>\n",
       "    </tr>\n",
       "  </thead>\n",
       "  <tbody>\n",
       "    <tr>\n",
       "      <th>0</th>\n",
       "      <td>3894290</td>\n",
       "      <td>136</td>\n",
       "      <td>139</td>\n",
       "    </tr>\n",
       "    <tr>\n",
       "      <th>1</th>\n",
       "      <td>3894367</td>\n",
       "      <td>165</td>\n",
       "      <td>152</td>\n",
       "    </tr>\n",
       "  </tbody>\n",
       "</table>\n",
       "</div>"
      ],
      "text/plain": [
       "   match_id_SB  home_team_id_SB  away_team_id_SB\n",
       "0      3894290              136              139\n",
       "1      3894367              165              152"
      ]
     },
     "execution_count": 64,
     "metadata": {},
     "output_type": "execute_result"
    }
   ],
   "source": [
    "# Aperçu des données\n",
    "SB_matches.head(2)"
   ]
  },
  {
   "cell_type": "markdown",
   "metadata": {},
   "source": [
    "En effectuant un matching des match_id du dataframe SB_matches avec les deux dataframes \"SKC_cote_attaque_home_team\" et \"cote_attaque_away_team\", puis entre les team id SK et SB, nous allons pouvoir retrouver l'information sur les team id SK des équipes à domicile et à l'extérieur pour chaque match"
   ]
  },
  {
   "cell_type": "code",
   "execution_count": 65,
   "metadata": {},
   "outputs": [],
   "source": [
    "# Matching des match id\n",
    "cote_attaque_home_team = pd.merge(SKC_cote_attaque_home_team, matching_matches)\n",
    "\n",
    "# On récupère l'id SB des équipes à domicile\n",
    "cote_attaque_home_team = pd.merge(cote_attaque_home_team, SB_matches[[\"match_id_SB\", \"home_team_id_SB\"]])\n",
    "\n",
    "# On renomme la colonne \"home_team_id_SB\" en \"team_id_SB\"\n",
    "cote_attaque_home_team.rename({\"home_team_id_SB\" : \"team_id_SB\"}, axis = 1, inplace = True)\n",
    "\n",
    "# Matching des teams id\n",
    "cote_attaque_home_team = pd.merge(cote_attaque_home_team, matching_teams)\n",
    "\n",
    "# Nous supprimons les colonnes \"match_id_SB\" et \"team_id_SB\" qui ne nous sont pas utiles\n",
    "cote_attaque_home_team.drop([\"match_id_SB\", \"team_id_SB\"], axis = 1, inplace = True)"
   ]
  },
  {
   "cell_type": "code",
   "execution_count": 66,
   "metadata": {},
   "outputs": [
    {
     "data": {
      "text/html": [
       "<div>\n",
       "<style scoped>\n",
       "    .dataframe tbody tr th:only-of-type {\n",
       "        vertical-align: middle;\n",
       "    }\n",
       "\n",
       "    .dataframe tbody tr th {\n",
       "        vertical-align: top;\n",
       "    }\n",
       "\n",
       "    .dataframe thead th {\n",
       "        text-align: right;\n",
       "    }\n",
       "</style>\n",
       "<table border=\"1\" class=\"dataframe\">\n",
       "  <thead>\n",
       "    <tr style=\"text-align: right;\">\n",
       "      <th></th>\n",
       "      <th>match_id_SKC</th>\n",
       "      <th>premiere_periode</th>\n",
       "      <th>seconde_periode</th>\n",
       "      <th>team_id_SKC</th>\n",
       "    </tr>\n",
       "  </thead>\n",
       "  <tbody>\n",
       "    <tr>\n",
       "      <th>0</th>\n",
       "      <td>1547880</td>\n",
       "      <td>left_to_right</td>\n",
       "      <td>right_to_left</td>\n",
       "      <td>74</td>\n",
       "    </tr>\n",
       "    <tr>\n",
       "      <th>1</th>\n",
       "      <td>1547881</td>\n",
       "      <td>right_to_left</td>\n",
       "      <td>left_to_right</td>\n",
       "      <td>72</td>\n",
       "    </tr>\n",
       "  </tbody>\n",
       "</table>\n",
       "</div>"
      ],
      "text/plain": [
       "   match_id_SKC premiere_periode seconde_periode  team_id_SKC\n",
       "0       1547880    left_to_right   right_to_left           74\n",
       "1       1547881    right_to_left   left_to_right           72"
      ]
     },
     "execution_count": 66,
     "metadata": {},
     "output_type": "execute_result"
    }
   ],
   "source": [
    "# Aperçu des données\n",
    "cote_attaque_home_team.head(2)"
   ]
  },
  {
   "cell_type": "markdown",
   "metadata": {},
   "source": [
    "Il nous reste maintenant à faire la même chose pour les équipes à l'extérieur"
   ]
  },
  {
   "cell_type": "code",
   "execution_count": 67,
   "metadata": {},
   "outputs": [],
   "source": [
    "# Matching des match id\n",
    "cote_attaque_away_team = pd.merge(cote_attaque_away_team, matching_matches)\n",
    "\n",
    "# On récupère l'id SB des équipes à l'extérieur\n",
    "cote_attaque_away_team = pd.merge(cote_attaque_away_team, SB_matches[[\"match_id_SB\", \"away_team_id_SB\"]])\n",
    "\n",
    "# On renomme la colonne \"away_team_id_SB\" en \"team_id_SB\"\n",
    "cote_attaque_away_team.rename({\"away_team_id_SB\" : \"team_id_SB\"}, axis = 1, inplace = True)\n",
    "\n",
    "# Matching des teams id\n",
    "cote_attaque_away_team = pd.merge(cote_attaque_away_team, matching_teams)\n",
    "\n",
    "# Nous supprimons les colonnes \"match_id_SB\" et \"team_id_SB\" qui ne nous sont pas utiles\n",
    "cote_attaque_away_team.drop([\"match_id_SB\", \"team_id_SB\"], axis = 1, inplace = True)"
   ]
  },
  {
   "cell_type": "code",
   "execution_count": 68,
   "metadata": {},
   "outputs": [
    {
     "data": {
      "text/html": [
       "<div>\n",
       "<style scoped>\n",
       "    .dataframe tbody tr th:only-of-type {\n",
       "        vertical-align: middle;\n",
       "    }\n",
       "\n",
       "    .dataframe tbody tr th {\n",
       "        vertical-align: top;\n",
       "    }\n",
       "\n",
       "    .dataframe thead th {\n",
       "        text-align: right;\n",
       "    }\n",
       "</style>\n",
       "<table border=\"1\" class=\"dataframe\">\n",
       "  <thead>\n",
       "    <tr style=\"text-align: right;\">\n",
       "      <th></th>\n",
       "      <th>match_id_SKC</th>\n",
       "      <th>premiere_periode</th>\n",
       "      <th>seconde_periode</th>\n",
       "      <th>team_id_SKC</th>\n",
       "    </tr>\n",
       "  </thead>\n",
       "  <tbody>\n",
       "    <tr>\n",
       "      <th>0</th>\n",
       "      <td>1547880</td>\n",
       "      <td>right_to_left</td>\n",
       "      <td>left_to_right</td>\n",
       "      <td>89</td>\n",
       "    </tr>\n",
       "    <tr>\n",
       "      <th>1</th>\n",
       "      <td>1547881</td>\n",
       "      <td>left_to_right</td>\n",
       "      <td>right_to_left</td>\n",
       "      <td>328</td>\n",
       "    </tr>\n",
       "  </tbody>\n",
       "</table>\n",
       "</div>"
      ],
      "text/plain": [
       "   match_id_SKC premiere_periode seconde_periode  team_id_SKC\n",
       "0       1547880    right_to_left   left_to_right           89\n",
       "1       1547881    left_to_right   right_to_left          328"
      ]
     },
     "execution_count": 68,
     "metadata": {},
     "output_type": "execute_result"
    }
   ],
   "source": [
    "# Aperçu des données\n",
    "cote_attaque_away_team.head(2)"
   ]
  },
  {
   "cell_type": "markdown",
   "metadata": {},
   "source": [
    "Il ne nous reste plus qu'à concaténer ces deux dataframes l'un en dessous de l'autre afin d'avoir les informations des cotés d'attaque en 1ere et 2nd periode de chaque team id SK pour chaque match id SK"
   ]
  },
  {
   "cell_type": "code",
   "execution_count": 69,
   "metadata": {},
   "outputs": [],
   "source": [
    "# Nous trions le dataframe concaténé en fonction des matchs id pour + de lisibilité\n",
    "cote_attaque_team = pd.concat([cote_attaque_home_team, cote_attaque_away_team], axis = 0, ignore_index = True).sort_values(\"match_id_SKC\")"
   ]
  },
  {
   "cell_type": "code",
   "execution_count": 70,
   "metadata": {},
   "outputs": [
    {
     "data": {
      "text/html": [
       "<div>\n",
       "<style scoped>\n",
       "    .dataframe tbody tr th:only-of-type {\n",
       "        vertical-align: middle;\n",
       "    }\n",
       "\n",
       "    .dataframe tbody tr th {\n",
       "        vertical-align: top;\n",
       "    }\n",
       "\n",
       "    .dataframe thead th {\n",
       "        text-align: right;\n",
       "    }\n",
       "</style>\n",
       "<table border=\"1\" class=\"dataframe\">\n",
       "  <thead>\n",
       "    <tr style=\"text-align: right;\">\n",
       "      <th></th>\n",
       "      <th>match_id_SKC</th>\n",
       "      <th>premiere_periode</th>\n",
       "      <th>seconde_periode</th>\n",
       "      <th>team_id_SKC</th>\n",
       "    </tr>\n",
       "  </thead>\n",
       "  <tbody>\n",
       "    <tr>\n",
       "      <th>609</th>\n",
       "      <td>1020089</td>\n",
       "      <td>left_to_right</td>\n",
       "      <td>right_to_left</td>\n",
       "      <td>78</td>\n",
       "    </tr>\n",
       "    <tr>\n",
       "      <th>304</th>\n",
       "      <td>1020089</td>\n",
       "      <td>right_to_left</td>\n",
       "      <td>left_to_right</td>\n",
       "      <td>70</td>\n",
       "    </tr>\n",
       "    <tr>\n",
       "      <th>303</th>\n",
       "      <td>1020753</td>\n",
       "      <td>left_to_right</td>\n",
       "      <td>right_to_left</td>\n",
       "      <td>80</td>\n",
       "    </tr>\n",
       "    <tr>\n",
       "      <th>608</th>\n",
       "      <td>1020753</td>\n",
       "      <td>right_to_left</td>\n",
       "      <td>left_to_right</td>\n",
       "      <td>93</td>\n",
       "    </tr>\n",
       "  </tbody>\n",
       "</table>\n",
       "</div>"
      ],
      "text/plain": [
       "     match_id_SKC premiere_periode seconde_periode  team_id_SKC\n",
       "609       1020089    left_to_right   right_to_left           78\n",
       "304       1020089    right_to_left   left_to_right           70\n",
       "303       1020753    left_to_right   right_to_left           80\n",
       "608       1020753    right_to_left   left_to_right           93"
      ]
     },
     "execution_count": 70,
     "metadata": {},
     "output_type": "execute_result"
    }
   ],
   "source": [
    "# Aperçu des données\n",
    "cote_attaque_team.head(4)"
   ]
  },
  {
   "cell_type": "code",
   "execution_count": 71,
   "metadata": {},
   "outputs": [],
   "source": [
    "# Renommage de la colonne \"team_id_SKC\" en \"team_player_id_SKC\" pour faciliter la jointure avec les tracking data\n",
    "cote_attaque_team.rename({\"team_id_SKC\" : \"team_player_id_SKC\"}, axis = 1, inplace = True)"
   ]
  },
  {
   "cell_type": "code",
   "execution_count": 72,
   "metadata": {},
   "outputs": [],
   "source": [
    "# Nous allons donc pouvoir effectuer la jointure finale avec les tracking data\n",
    "tracking_data_adv = pd.merge(tracking_data_adv, cote_attaque_team, on = [\"match_id_SKC\", \"team_player_id_SKC\"])"
   ]
  },
  {
   "cell_type": "code",
   "execution_count": 73,
   "metadata": {},
   "outputs": [
    {
     "data": {
      "text/html": [
       "<div>\n",
       "<style scoped>\n",
       "    .dataframe tbody tr th:only-of-type {\n",
       "        vertical-align: middle;\n",
       "    }\n",
       "\n",
       "    .dataframe tbody tr th {\n",
       "        vertical-align: top;\n",
       "    }\n",
       "\n",
       "    .dataframe thead th {\n",
       "        text-align: right;\n",
       "    }\n",
       "</style>\n",
       "<table border=\"1\" class=\"dataframe\">\n",
       "  <thead>\n",
       "    <tr style=\"text-align: right;\">\n",
       "      <th></th>\n",
       "      <th>match_id_SKC</th>\n",
       "      <th>event_id</th>\n",
       "      <th>period</th>\n",
       "      <th>centre_id</th>\n",
       "      <th>team_centre_id_SKC</th>\n",
       "      <th>trackable_object</th>\n",
       "      <th>x</th>\n",
       "      <th>y</th>\n",
       "      <th>team_player_id_SKC</th>\n",
       "      <th>x_ballon</th>\n",
       "      <th>y_ballon</th>\n",
       "      <th>premiere_periode</th>\n",
       "      <th>seconde_periode</th>\n",
       "    </tr>\n",
       "  </thead>\n",
       "  <tbody>\n",
       "    <tr>\n",
       "      <th>0</th>\n",
       "      <td>1020089</td>\n",
       "      <td>54cbad0c-1f05-4708-9b7f-2cadeae0636b</td>\n",
       "      <td>1.0</td>\n",
       "      <td>0</td>\n",
       "      <td>78</td>\n",
       "      <td>12235.0</td>\n",
       "      <td>45.43</td>\n",
       "      <td>-0.97</td>\n",
       "      <td>70.0</td>\n",
       "      <td>32.96</td>\n",
       "      <td>-28.64</td>\n",
       "      <td>right_to_left</td>\n",
       "      <td>left_to_right</td>\n",
       "    </tr>\n",
       "    <tr>\n",
       "      <th>1</th>\n",
       "      <td>1020089</td>\n",
       "      <td>54cbad0c-1f05-4708-9b7f-2cadeae0636b</td>\n",
       "      <td>1.0</td>\n",
       "      <td>0</td>\n",
       "      <td>78</td>\n",
       "      <td>12327.0</td>\n",
       "      <td>32.26</td>\n",
       "      <td>-2.78</td>\n",
       "      <td>70.0</td>\n",
       "      <td>32.96</td>\n",
       "      <td>-28.64</td>\n",
       "      <td>right_to_left</td>\n",
       "      <td>left_to_right</td>\n",
       "    </tr>\n",
       "  </tbody>\n",
       "</table>\n",
       "</div>"
      ],
      "text/plain": [
       "   match_id_SKC                              event_id  period  centre_id  \\\n",
       "0       1020089  54cbad0c-1f05-4708-9b7f-2cadeae0636b     1.0          0   \n",
       "1       1020089  54cbad0c-1f05-4708-9b7f-2cadeae0636b     1.0          0   \n",
       "\n",
       "   team_centre_id_SKC  trackable_object      x     y  team_player_id_SKC  \\\n",
       "0                  78           12235.0  45.43 -0.97                70.0   \n",
       "1                  78           12327.0  32.26 -2.78                70.0   \n",
       "\n",
       "   x_ballon  y_ballon premiere_periode seconde_periode  \n",
       "0     32.96    -28.64    right_to_left   left_to_right  \n",
       "1     32.96    -28.64    right_to_left   left_to_right  "
      ]
     },
     "execution_count": 73,
     "metadata": {},
     "output_type": "execute_result"
    }
   ],
   "source": [
    "# Aperçu des données\n",
    "tracking_data_adv.head(2)"
   ]
  },
  {
   "cell_type": "markdown",
   "metadata": {},
   "source": [
    "Enfin, nous partirons du principe que toutes les équipes attaquent de gauche à droite (left_to_right), quelque soit la période et l'équipe en\n",
    "question. C'est cette logique qu'utilise Stats Bomb.  \n",
    "De ce fait, nous devons donc effectuer une \"normalisation\" des coordonnées.  \n",
    "C'est à dire, pour tous les trackable_object qui ont à la fois la valeur \"right_to_left\" pour la colonne \"premiere_période\" et la valeur 1 pour la colonne \"period\", nous devrons effectuer la symétrie de leurs coordonnées.  \n",
    "De même pour les trackable_object qui ont à la fois la valeur \"right_to_left\" pour la colonne \"seconde_période\" et la valeur 2 pour la colonne \"period\"."
   ]
  },
  {
   "cell_type": "markdown",
   "metadata": {},
   "source": [
    "Pour effectuer cette symétrie, nous allons simplement multiplier par -1 les x (abscisses) et les y (ordonnées).  \n",
    "De plus, il ne faut pas oublier de modifier les coordonnées du ballon \"x_ballon\" et \"y_ballon\", pour les joueurs pour lesquels on effectue la symétrie.  "
   ]
  },
  {
   "cell_type": "code",
   "execution_count": 74,
   "metadata": {},
   "outputs": [],
   "source": [
    "# On définit les colonnes sur lesquelles effectuer la symétrie\n",
    "col_sym = [\"x\", \"y\", \"x_ballon\", \"y_ballon\"]"
   ]
  },
  {
   "cell_type": "code",
   "execution_count": 75,
   "metadata": {},
   "outputs": [],
   "source": [
    "# Pour la première période\n",
    "\n",
    "# On récupère les index des lignes à modifier (en filtrant à partir des conditions expliquées dans la paragraphe précédent)\n",
    "filtre_prem_periode = tracking_data_adv[(tracking_data_adv.period == 1) & (tracking_data_adv.premiere_periode == \"right_to_left\")].index\n",
    "\n",
    "# On effectue la symétrie des coordonnées\n",
    "tracking_data_adv.loc[filtre_prem_periode, col_sym] = -tracking_data_adv.loc[filtre_prem_periode, col_sym]"
   ]
  },
  {
   "cell_type": "code",
   "execution_count": 76,
   "metadata": {},
   "outputs": [],
   "source": [
    "# Pour la seconde période\n",
    "\n",
    "# On récupère les index des lignes à modifier\n",
    "filtre_sec_periode = tracking_data_adv[(tracking_data_adv.period == 2) & (tracking_data_adv.seconde_periode == \"right_to_left\")].index\n",
    "\n",
    "# On effectue la symétrie des coordonnées\n",
    "tracking_data_adv.loc[filtre_sec_periode, col_sym] = -tracking_data_adv.loc[filtre_sec_periode, col_sym]"
   ]
  },
  {
   "cell_type": "code",
   "execution_count": 77,
   "metadata": {},
   "outputs": [],
   "source": [
    "# Nous supprimons les colonnes \"event_id\", \"period\", \"premiere_periode\" et \"seconde_periode\" qui ne nous sont plus utiles\n",
    "tracking_data_adv.drop([\"event_id\", \"period\", \"premiere_periode\", \"seconde_periode\"], axis = 1, inplace = True)"
   ]
  },
  {
   "cell_type": "code",
   "execution_count": 78,
   "metadata": {},
   "outputs": [
    {
     "data": {
      "text/html": [
       "<div>\n",
       "<style scoped>\n",
       "    .dataframe tbody tr th:only-of-type {\n",
       "        vertical-align: middle;\n",
       "    }\n",
       "\n",
       "    .dataframe tbody tr th {\n",
       "        vertical-align: top;\n",
       "    }\n",
       "\n",
       "    .dataframe thead th {\n",
       "        text-align: right;\n",
       "    }\n",
       "</style>\n",
       "<table border=\"1\" class=\"dataframe\">\n",
       "  <thead>\n",
       "    <tr style=\"text-align: right;\">\n",
       "      <th></th>\n",
       "      <th>match_id_SKC</th>\n",
       "      <th>centre_id</th>\n",
       "      <th>team_centre_id_SKC</th>\n",
       "      <th>trackable_object</th>\n",
       "      <th>x</th>\n",
       "      <th>y</th>\n",
       "      <th>team_player_id_SKC</th>\n",
       "      <th>x_ballon</th>\n",
       "      <th>y_ballon</th>\n",
       "    </tr>\n",
       "  </thead>\n",
       "  <tbody>\n",
       "    <tr>\n",
       "      <th>0</th>\n",
       "      <td>1020089</td>\n",
       "      <td>0</td>\n",
       "      <td>78</td>\n",
       "      <td>12235.0</td>\n",
       "      <td>-45.43</td>\n",
       "      <td>0.97</td>\n",
       "      <td>70.0</td>\n",
       "      <td>-32.96</td>\n",
       "      <td>28.64</td>\n",
       "    </tr>\n",
       "    <tr>\n",
       "      <th>1</th>\n",
       "      <td>1020089</td>\n",
       "      <td>0</td>\n",
       "      <td>78</td>\n",
       "      <td>12327.0</td>\n",
       "      <td>-32.26</td>\n",
       "      <td>2.78</td>\n",
       "      <td>70.0</td>\n",
       "      <td>-32.96</td>\n",
       "      <td>28.64</td>\n",
       "    </tr>\n",
       "  </tbody>\n",
       "</table>\n",
       "</div>"
      ],
      "text/plain": [
       "   match_id_SKC  centre_id  team_centre_id_SKC  trackable_object      x     y  \\\n",
       "0       1020089          0                  78           12235.0 -45.43  0.97   \n",
       "1       1020089          0                  78           12327.0 -32.26  2.78   \n",
       "\n",
       "   team_player_id_SKC  x_ballon  y_ballon  \n",
       "0                70.0    -32.96     28.64  \n",
       "1                70.0    -32.96     28.64  "
      ]
     },
     "execution_count": 78,
     "metadata": {},
     "output_type": "execute_result"
    }
   ],
   "source": [
    "# Aperçu des données\n",
    "tracking_data_adv.head(2)"
   ]
  },
  {
   "cell_type": "markdown",
   "metadata": {},
   "source": [
    "---\n",
    "Nous allons maintenant passer à la dernière partie qui consiste simplement à compter, pour chaque centre, le nombre d'adversaires entre le ballon et le but sur l'action précédant le centre.  \n",
    "Étant donné que les équipes attaquent de gauche à droite, cela veut dire que la zone entre le ballon et le but de l'équipe qui défend est l'ensemble des x <= x_ballon."
   ]
  },
  {
   "cell_type": "markdown",
   "metadata": {},
   "source": [
    "# Nombre d'adversaires entre le ballon et le but"
   ]
  },
  {
   "cell_type": "code",
   "execution_count": 79,
   "metadata": {},
   "outputs": [],
   "source": [
    "# Dans un premier temps, nous gardons seulement les adversaires qui sont entre le ballon et le but\n",
    "adv_ballon_but = tracking_data_adv[tracking_data_adv.x <= tracking_data_adv.x_ballon]"
   ]
  },
  {
   "cell_type": "markdown",
   "metadata": {},
   "source": [
    "Il est important de noter que, lorsque nous effectuons ce filtre, nous ne gardons pas les centres pour lesquels il n'y a aucun adversaire entre le ballon et le but sur l'action précédente.  \n",
    "Or, ces centres nous intéressent aussi, nous devrons donc les récupérer plus tard."
   ]
  },
  {
   "cell_type": "markdown",
   "metadata": {},
   "source": [
    "Maintenant, nous comptons le nombre d'adversaires pour chaque centre (identifiés par la colonen \"centre_id\").  \n",
    "Pour ce faire, nous utilisons la commande \"groupby\" qui permet de regrouper les données par centre (i.e en fonction de leur \"centre_id\")."
   ]
  },
  {
   "cell_type": "code",
   "execution_count": 80,
   "metadata": {},
   "outputs": [
    {
     "name": "stderr",
     "output_type": "stream",
     "text": [
      "C:\\Users\\natha\\AppData\\Local\\Temp\\ipykernel_14984\\2917823497.py:3: DeprecationWarning: DataFrameGroupBy.apply operated on the grouping columns. This behavior is deprecated, and in a future version of pandas the grouping columns will be excluded from the operation. Either pass `include_groups=False` to exclude the groupings or explicitly select the grouping columns after groupby to silence this warning.\n",
      "  nb_adv_ballon_but = adv_ballon_but.groupby(\"centre_id\", as_index = False, dropna = False).apply(len)\n"
     ]
    }
   ],
   "source": [
    "# Nous utilisons le paramètre \"as_index = False\" pour créer une colonne \"centre_id\" dans le dataframe résultant du groupby\n",
    "# La commande \".apply(len)\" permet de calculer la taille de chaque groupe (1 groupe = 1 centre)\n",
    "nb_adv_ballon_but = adv_ballon_but.groupby(\"centre_id\", as_index = False, dropna = False).apply(len)"
   ]
  },
  {
   "cell_type": "code",
   "execution_count": 81,
   "metadata": {},
   "outputs": [
    {
     "data": {
      "text/html": [
       "<div>\n",
       "<style scoped>\n",
       "    .dataframe tbody tr th:only-of-type {\n",
       "        vertical-align: middle;\n",
       "    }\n",
       "\n",
       "    .dataframe tbody tr th {\n",
       "        vertical-align: top;\n",
       "    }\n",
       "\n",
       "    .dataframe thead th {\n",
       "        text-align: right;\n",
       "    }\n",
       "</style>\n",
       "<table border=\"1\" class=\"dataframe\">\n",
       "  <thead>\n",
       "    <tr style=\"text-align: right;\">\n",
       "      <th></th>\n",
       "      <th>centre_id</th>\n",
       "      <th>None</th>\n",
       "    </tr>\n",
       "  </thead>\n",
       "  <tbody>\n",
       "    <tr>\n",
       "      <th>0</th>\n",
       "      <td>0</td>\n",
       "      <td>2</td>\n",
       "    </tr>\n",
       "    <tr>\n",
       "      <th>1</th>\n",
       "      <td>2</td>\n",
       "      <td>1</td>\n",
       "    </tr>\n",
       "  </tbody>\n",
       "</table>\n",
       "</div>"
      ],
      "text/plain": [
       "   centre_id  None\n",
       "0          0     2\n",
       "1          2     1"
      ]
     },
     "execution_count": 81,
     "metadata": {},
     "output_type": "execute_result"
    }
   ],
   "source": [
    "# Aperçu des données\n",
    "nb_adv_ballon_but.head(2)"
   ]
  },
  {
   "cell_type": "markdown",
   "metadata": {},
   "source": [
    "La colonne \"None\" correspond donc au nombre d'adversaires entre le ballon et le but, nous allons la renommer"
   ]
  },
  {
   "cell_type": "code",
   "execution_count": 82,
   "metadata": {},
   "outputs": [],
   "source": [
    "nb_adv_ballon_but.columns = [\"centre_id\", \"nb_adv_ballon_but\"]"
   ]
  },
  {
   "cell_type": "markdown",
   "metadata": {},
   "source": [
    "Pour finir, nous souhaitons récupérer les centres pour lesquels il n'y a aucun adversaire entre le ballon et le but sur l'action précédente.  \n",
    "Ces centres ne sont donc pas référencés dans le dataframe \"nb_adv_ballon_but\" (i.e leur \"centre_id\" n'est pas présent dans les \"centre_id\" du dataframe \"nb_adv_ballon_but\").  \n",
    "Pour ce faire, nous allons effectuer un left join des \"centre_id\" (unique) des données de tracking de l'ensemble des joueurs adverses avec les \"centre_id\" du dataframe \"nb_adv_ballon_but\""
   ]
  },
  {
   "cell_type": "code",
   "execution_count": 83,
   "metadata": {},
   "outputs": [],
   "source": [
    "# On récupère les \"centre_id\" des données de tracking des joueurs adverses\n",
    "serie_centre_id = tracking_data_adv.centre_id.drop_duplicates()\n",
    "\n",
    "# On effectue le left join\n",
    "nb_adv_ballon_but = pd.merge(serie_centre_id, nb_adv_ballon_but, how = \"left\")\n"
   ]
  },
  {
   "cell_type": "markdown",
   "metadata": {},
   "source": [
    "Nous regardons si nous avons des valeurs manquantes pour la colonne \"nb_adv_ballon_but\", c-à-d s'il y a bien des centres pour lesquels il n'y avait aucun adversaire entre le ballon et le but sur l'action précédente"
   ]
  },
  {
   "cell_type": "code",
   "execution_count": 84,
   "metadata": {},
   "outputs": [
    {
     "name": "stdout",
     "output_type": "stream",
     "text": [
      "True\n"
     ]
    }
   ],
   "source": [
    "print(nb_adv_ballon_but.nb_adv_ballon_but.isna().any())"
   ]
  },
  {
   "cell_type": "code",
   "execution_count": 85,
   "metadata": {},
   "outputs": [
    {
     "name": "stdout",
     "output_type": "stream",
     "text": [
      "Il y en a : 63\n"
     ]
    }
   ],
   "source": [
    "print(\"Il y en a :\", len(nb_adv_ballon_but[nb_adv_ballon_but.nb_adv_ballon_but.isna()]))"
   ]
  },
  {
   "cell_type": "code",
   "execution_count": 86,
   "metadata": {},
   "outputs": [],
   "source": [
    "# Il nous suffit finalement de remplacer ces valeurs manquantes par des 0\n",
    "nb_adv_ballon_but.fillna(0, inplace = True)"
   ]
  }
 ],
 "metadata": {
  "kernelspec": {
   "display_name": "env_PROJET",
   "language": "python",
   "name": "python3"
  },
  "language_info": {
   "codemirror_mode": {
    "name": "ipython",
    "version": 3
   },
   "file_extension": ".py",
   "mimetype": "text/x-python",
   "name": "python",
   "nbconvert_exporter": "python",
   "pygments_lexer": "ipython3",
   "version": "3.12.6"
  }
 },
 "nbformat": 4,
 "nbformat_minor": 2
}
