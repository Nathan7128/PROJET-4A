{
 "cells": [
  {
   "cell_type": "code",
   "execution_count": 1,
   "metadata": {},
   "outputs": [
    {
     "ename": "ModuleNotFoundError",
     "evalue": "No module named 'statsbombpy'",
     "output_type": "error",
     "traceback": [
      "\u001b[1;31m---------------------------------------------------------------------------\u001b[0m",
      "\u001b[1;31mModuleNotFoundError\u001b[0m                       Traceback (most recent call last)",
      "Cell \u001b[1;32mIn[1], line 1\u001b[0m\n\u001b[1;32m----> 1\u001b[0m \u001b[38;5;28;01mfrom\u001b[39;00m \u001b[38;5;21;01mstatsbombpy\u001b[39;00m \u001b[38;5;28;01mimport\u001b[39;00m sb\n\u001b[0;32m      2\u001b[0m \u001b[38;5;28;01mimport\u001b[39;00m \u001b[38;5;21;01mos\u001b[39;00m\n\u001b[0;32m      3\u001b[0m \u001b[38;5;28;01mimport\u001b[39;00m \u001b[38;5;21;01mpandas\u001b[39;00m \u001b[38;5;28;01mas\u001b[39;00m \u001b[38;5;21;01mpd\u001b[39;00m\n",
      "\u001b[1;31mModuleNotFoundError\u001b[0m: No module named 'statsbombpy'"
     ]
    }
   ],
   "source": [
    "from statsbombpy import sb\n",
    "import os\n",
    "import pandas as pd\n",
    "import sqlite3\n",
    "import warnings\n",
    "\n",
    "warnings.filterwarnings(\"ignore\")\n",
    "\n",
    "connect = sqlite3.connect(\"../../raw-database.db\")\n",
    "\n",
    "email = \"nathan.talbot@etu.uca.fr\"\n",
    "password = os.environ[\"mdp_statsbomb\"]\n",
    "creds = {\"user\" : email, \"passwd\" : password}\n",
    "\n",
    "liste_saison = [\"2023/2024\", \"2022/2023\", \"2021/2022\", \"2020/2021\"]\n",
    "\n",
    "data = pd.concat([sb.competition_events(country = \"France\", division = \"Ligue 2\", season = saison, gender = \"male\", creds = creds)\n",
    "                for saison in liste_saison])"
   ]
  },
  {
   "cell_type": "code",
   "execution_count": 4,
   "metadata": {},
   "outputs": [],
   "source": [
    "colonnes = [\"shot_type\", \"shot_outcome\", \"type\", \"match_id\", \"period\", \"possession\", \"location\", \"team\", \"pass_cross\", \"pass_type\", \"index\",\n",
    "            \"pass_end_location\", \"minute\", \"player\", \"shot_end_location\", \"pass_body_part\"]\n",
    "\n",
    "df = data[colonnes].reset_index().rename({\"index\" : \"index_event\"}, axis = 1)\n",
    "\n",
    "df_loc = df.pop(\"location\").dropna()\n",
    "df_loc = pd.DataFrame(df_loc.tolist(), index = df_loc.index, columns = [\"x_loc\", \"y_loc\", \"z_loc\"])\n",
    "\n",
    "df_pass_loc = df.pop(\"pass_end_location\").dropna()\n",
    "df_pass_loc = pd.DataFrame(df_pass_loc.tolist(), index = df_pass_loc.index, columns = [\"x_pass\", \"y_pass\"])\n",
    "\n",
    "df_shot_loc = df.pop(\"shot_end_location\").dropna()\n",
    "df_shot_loc = pd.DataFrame(df_shot_loc.tolist(), index = df_shot_loc.index, columns = [\"x_shot\", \"y_shot\", \"z_shot\"])\n",
    "\n",
    "df = pd.concat([df, df_loc, df_pass_loc, df_shot_loc], axis = 1)\n",
    "\n",
    "df.to_sql(name = \"raw_data_heatmap\", con = connect, if_exists = \"replace\", index = False)\n",
    "\n",
    "connect.close()"
   ]
  }
 ],
 "metadata": {
  "kernelspec": {
   "display_name": "env_PROJET",
   "language": "python",
   "name": "python3"
  },
  "language_info": {
   "codemirror_mode": {
    "name": "ipython",
    "version": 3
   },
   "file_extension": ".py",
   "mimetype": "text/x-python",
   "name": "python",
   "nbconvert_exporter": "python",
   "pygments_lexer": "ipython3",
   "version": "3.12.6"
  }
 },
 "nbformat": 4,
 "nbformat_minor": 2
}
