{
 "cells": [
  {
   "cell_type": "code",
   "execution_count": 1,
   "metadata": {},
   "outputs": [],
   "source": [
    "import pandas as pd\n",
    "import sqlite3"
   ]
  },
  {
   "cell_type": "code",
   "execution_count": 12,
   "metadata": {},
   "outputs": [],
   "source": [
    "connect = sqlite3.connect(\"raw-database.db\")"
   ]
  },
  {
   "cell_type": "code",
   "execution_count": 2,
   "metadata": {},
   "outputs": [
    {
     "name": "stderr",
     "output_type": "stream",
     "text": [
      "C:\\Users\\natha\\AppData\\Local\\Temp\\ipykernel_21284\\343757373.py:1: FutureWarning: The behavior of 'to_datetime' with 'unit' when parsing strings is deprecated. In a future version, strings will be parsed as datetime strings, matching the behavior without a 'unit'. To retain the old behavior, explicitly cast ints or floats to numeric type before calling to_datetime.\n",
      "  data = pd.read_json(\"Projet_centres_data/SB_events/3894037.json\")\n",
      "C:\\Users\\natha\\AppData\\Local\\Temp\\ipykernel_21284\\343757373.py:1: FutureWarning: The behavior of 'to_datetime' with 'unit' when parsing strings is deprecated. In a future version, strings will be parsed as datetime strings, matching the behavior without a 'unit'. To retain the old behavior, explicitly cast ints or floats to numeric type before calling to_datetime.\n",
      "  data = pd.read_json(\"Projet_centres_data/SB_events/3894037.json\")\n",
      "C:\\Users\\natha\\AppData\\Local\\Temp\\ipykernel_21284\\343757373.py:1: FutureWarning: The behavior of 'to_datetime' with 'unit' when parsing strings is deprecated. In a future version, strings will be parsed as datetime strings, matching the behavior without a 'unit'. To retain the old behavior, explicitly cast ints or floats to numeric type before calling to_datetime.\n",
      "  data = pd.read_json(\"Projet_centres_data/SB_events/3894037.json\")\n"
     ]
    }
   ],
   "source": [
    "data = pd.read_json(\"Projet_centres_data/SB_events/3894037.json\")"
   ]
  },
  {
   "cell_type": "code",
   "execution_count": 7,
   "metadata": {},
   "outputs": [],
   "source": [
    "frame = pd.read_json(\"Projet_centres_data/SKC_crosses_freeze_frames/1020753.json\")"
   ]
  },
  {
   "cell_type": "code",
   "execution_count": 11,
   "metadata": {},
   "outputs": [
    {
     "data": {
      "text/plain": [
       "0     NaN\n",
       "1     1.0\n",
       "2     NaN\n",
       "3     NaN\n",
       "4     1.0\n",
       "5     NaN\n",
       "6     NaN\n",
       "7     1.0\n",
       "8     NaN\n",
       "9     NaN\n",
       "10    1.0\n",
       "11    NaN\n",
       "12    NaN\n",
       "13    1.0\n",
       "14    NaN\n",
       "15    NaN\n",
       "16    1.0\n",
       "17    NaN\n",
       "18    NaN\n",
       "19    1.0\n",
       "Name: pass_cross, dtype: float64"
      ]
     },
     "execution_count": 11,
     "metadata": {},
     "output_type": "execute_result"
    }
   ],
   "source": [
    "pd.merge(frame, data, left_on = \"event_id\", right_on = \"id\").pass_cross.head(20)"
   ]
  },
  {
   "cell_type": "code",
   "execution_count": 5,
   "metadata": {},
   "outputs": [
    {
     "data": {
      "text/plain": [
       "0       02591dfb-4789-442f-ae99-53ac3f3aca81\n",
       "1       a5620f61-b542-46c8-b0b4-8e2daf267e84\n",
       "2       bbd8311a-1edb-4798-8e7a-5ff7d354a4d3\n",
       "3       ff601794-6a77-45ae-a6e5-c748c233c454\n",
       "4       8b59fc6a-ad7f-4d6e-a6d5-8973057972c0\n",
       "                        ...                 \n",
       "3141    43647a17-93a4-46a9-b89b-655438ede887\n",
       "3142    6f4c1ea0-68c8-4473-8178-39013f501946\n",
       "3143    7d1d16a1-7854-4804-b73b-54887de62f3c\n",
       "3144    04e7a531-16f5-4999-a699-d7df16afb5f9\n",
       "3145    a7086974-eeda-4fe5-8dad-20ed85806cf1\n",
       "Name: id, Length: 3146, dtype: object"
      ]
     },
     "execution_count": 5,
     "metadata": {},
     "output_type": "execute_result"
    }
   ],
   "source": [
    "data.id"
   ]
  },
  {
   "cell_type": "code",
   "execution_count": 4,
   "metadata": {},
   "outputs": [
    {
     "data": {
      "text/plain": [
       "['50_50',\n",
       " 'ball_receipt_outcome',\n",
       " 'ball_recovery_offensive',\n",
       " 'ball_recovery_recovery_failure',\n",
       " 'block_deflection',\n",
       " 'block_offensive',\n",
       " 'carry_end_location',\n",
       " 'clearance_aerial_won',\n",
       " 'clearance_body_part',\n",
       " 'clearance_head',\n",
       " 'clearance_left_foot',\n",
       " 'clearance_other',\n",
       " 'clearance_right_foot',\n",
       " 'counterpress',\n",
       " 'dribble_nutmeg',\n",
       " 'dribble_outcome',\n",
       " 'dribble_overrun',\n",
       " 'duel_outcome',\n",
       " 'duel_type',\n",
       " 'duration',\n",
       " 'foul_committed_advantage',\n",
       " 'foul_committed_card',\n",
       " 'foul_committed_offensive',\n",
       " 'foul_committed_type',\n",
       " 'foul_won_advantage',\n",
       " 'foul_won_defensive',\n",
       " 'goalkeeper_body_part',\n",
       " 'goalkeeper_end_location',\n",
       " 'goalkeeper_outcome',\n",
       " 'goalkeeper_position',\n",
       " 'goalkeeper_shot_saved_off_target',\n",
       " 'goalkeeper_technique',\n",
       " 'goalkeeper_type',\n",
       " 'id',\n",
       " 'index',\n",
       " 'injury_stoppage_in_chain',\n",
       " 'interception_outcome',\n",
       " 'location',\n",
       " 'match_id',\n",
       " 'minute',\n",
       " 'obv_against_after',\n",
       " 'obv_against_before',\n",
       " 'obv_against_net',\n",
       " 'obv_for_after',\n",
       " 'obv_for_before',\n",
       " 'obv_for_net',\n",
       " 'obv_total_net',\n",
       " 'off_camera',\n",
       " 'out',\n",
       " 'pass_aerial_won',\n",
       " 'pass_angle',\n",
       " 'pass_assisted_shot_id',\n",
       " 'pass_body_part',\n",
       " 'pass_cross',\n",
       " 'pass_cut_back',\n",
       " 'pass_end_location',\n",
       " 'pass_goal_assist',\n",
       " 'pass_height',\n",
       " 'pass_inswinging',\n",
       " 'pass_length',\n",
       " 'pass_outcome',\n",
       " 'pass_outswinging',\n",
       " 'pass_pass_cluster_id',\n",
       " 'pass_pass_cluster_label',\n",
       " 'pass_pass_cluster_probability',\n",
       " 'pass_pass_success_probability',\n",
       " 'pass_recipient_id',\n",
       " 'pass_shot_assist',\n",
       " 'pass_switch',\n",
       " 'pass_technique',\n",
       " 'pass_through_ball',\n",
       " 'pass_type',\n",
       " 'period',\n",
       " 'play_pattern',\n",
       " 'player_id',\n",
       " 'position',\n",
       " 'possession',\n",
       " 'possession_team_id',\n",
       " 'related_events',\n",
       " 'second',\n",
       " 'shot_aerial_won',\n",
       " 'shot_body_part',\n",
       " 'shot_deflected',\n",
       " 'shot_end_location',\n",
       " 'shot_first_time',\n",
       " 'shot_freeze_frame',\n",
       " 'shot_gk_positioning_xg_suppression',\n",
       " 'shot_gk_save_difficulty_xg',\n",
       " 'shot_gk_shot_stopping_xg_suppression',\n",
       " 'shot_key_pass_id',\n",
       " 'shot_one_on_one',\n",
       " 'shot_outcome',\n",
       " 'shot_saved_off_target',\n",
       " 'shot_shot_execution_xg',\n",
       " 'shot_shot_execution_xg_uplift',\n",
       " 'shot_shot_shot_assist',\n",
       " 'shot_statsbomb_xg',\n",
       " 'shot_technique',\n",
       " 'shot_type',\n",
       " 'substitution_outcome',\n",
       " 'substitution_outcome_id',\n",
       " 'substitution_replacement',\n",
       " 'substitution_replacement_id',\n",
       " 'formation',\n",
       " 'team_id',\n",
       " 'timestamp',\n",
       " 'type',\n",
       " 'under_pressure']"
      ]
     },
     "execution_count": 4,
     "metadata": {},
     "output_type": "execute_result"
    }
   ],
   "source": [
    "data.columns.tolist()"
   ]
  },
  {
   "cell_type": "code",
   "execution_count": 58,
   "metadata": {},
   "outputs": [],
   "source": [
    "colonnes = [\"shot_type\", \"shot_outcome\", \"type\", \"match_id\", \"period\", \"possession\", \"location\", \"pass_cross\", \"pass_type\", \"index\",\n",
    "            \"pass_end_location\", \"minute\", \"shot_end_location\", \"pass_body_part\"]\n",
    "\n",
    "df = data[colonnes]"
   ]
  },
  {
   "cell_type": "code",
   "execution_count": 66,
   "metadata": {},
   "outputs": [],
   "source": [
    "colonnes = [\"shot_type\", \"shot_outcome\", \"type\", \"match_id\", \"period\", \"possession\", \"location\", \"pass_cross\", \"pass_type\", \"index\",\n",
    "            \"pass_end_location\", \"minute\", \"shot_end_location\", \"pass_body_part\"]\n",
    "\n",
    "df = data[colonnes].reset_index().rename({\"index\" : \"index_event\"}, axis = 1)\n",
    "\n",
    "df_loc = df.pop(\"location\").dropna()\n",
    "df_loc = pd.DataFrame(df_loc.tolist(), index = df_loc.index, columns = [\"x_loc\", \"y_loc\", \"z_loc\"])\n",
    "\n",
    "df_pass_loc = df.pop(\"pass_end_location\").dropna()\n",
    "df_pass_loc = pd.DataFrame(df_pass_loc.tolist(), index = df_pass_loc.index, columns = [\"x_pass\", \"y_pass\"])\n",
    "\n",
    "df_shot_loc = df.pop(\"shot_end_location\").dropna()\n",
    "df_shot_loc = pd.DataFrame(df_shot_loc.tolist(), index = df_shot_loc.index, columns = [\"x_shot\", \"y_shot\", \"z_shot\"])\n",
    "\n",
    "df = pd.concat([df, df_loc, df_pass_loc, df_shot_loc], axis = 1)"
   ]
  },
  {
   "cell_type": "code",
   "execution_count": 67,
   "metadata": {},
   "outputs": [
    {
     "data": {
      "text/plain": [
       "3146"
      ]
     },
     "execution_count": 67,
     "metadata": {},
     "output_type": "execute_result"
    }
   ],
   "source": [
    "df.to_sql(\"Test event\", con = connect, if_exists = \"replace\")"
   ]
  },
  {
   "cell_type": "code",
   "execution_count": null,
   "metadata": {},
   "outputs": [],
   "source": []
  },
  {
   "cell_type": "code",
   "execution_count": null,
   "metadata": {},
   "outputs": [],
   "source": []
  },
  {
   "cell_type": "code",
   "execution_count": null,
   "metadata": {},
   "outputs": [],
   "source": []
  },
  {
   "cell_type": "code",
   "execution_count": null,
   "metadata": {},
   "outputs": [],
   "source": []
  },
  {
   "cell_type": "code",
   "execution_count": null,
   "metadata": {},
   "outputs": [],
   "source": []
  },
  {
   "cell_type": "code",
   "execution_count": null,
   "metadata": {},
   "outputs": [],
   "source": []
  },
  {
   "cell_type": "code",
   "execution_count": null,
   "metadata": {},
   "outputs": [],
   "source": []
  },
  {
   "cell_type": "code",
   "execution_count": null,
   "metadata": {},
   "outputs": [],
   "source": []
  },
  {
   "cell_type": "code",
   "execution_count": null,
   "metadata": {},
   "outputs": [],
   "source": []
  },
  {
   "cell_type": "code",
   "execution_count": null,
   "metadata": {},
   "outputs": [],
   "source": []
  },
  {
   "cell_type": "code",
   "execution_count": null,
   "metadata": {},
   "outputs": [],
   "source": []
  }
 ],
 "metadata": {
  "kernelspec": {
   "display_name": "env_PROJET",
   "language": "python",
   "name": "python3"
  },
  "language_info": {
   "codemirror_mode": {
    "name": "ipython",
    "version": 3
   },
   "file_extension": ".py",
   "mimetype": "text/x-python",
   "name": "python",
   "nbconvert_exporter": "python",
   "pygments_lexer": "ipython3",
   "version": "3.12.6"
  }
 },
 "nbformat": 4,
 "nbformat_minor": 2
}
