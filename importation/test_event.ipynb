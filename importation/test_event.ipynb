{
 "cells": [
  {
   "cell_type": "code",
   "execution_count": 1,
   "metadata": {},
   "outputs": [],
   "source": [
    "import pandas as pd\n",
    "import sqlite3"
   ]
  },
  {
   "cell_type": "code",
   "execution_count": 2,
   "metadata": {},
   "outputs": [],
   "source": [
    "connect = sqlite3.connect(\"raw-database.db\")"
   ]
  },
  {
   "cell_type": "code",
   "execution_count": 9,
   "metadata": {},
   "outputs": [],
   "source": [
    "lineup = pd.read_json(\"Projet_centres_data/SB_lineups/3894037.json\")"
   ]
  },
  {
   "cell_type": "code",
   "execution_count": 19,
   "metadata": {},
   "outputs": [
    {
     "data": {
      "text/html": [
       "<div>\n",
       "<style scoped>\n",
       "    .dataframe tbody tr th:only-of-type {\n",
       "        vertical-align: middle;\n",
       "    }\n",
       "\n",
       "    .dataframe tbody tr th {\n",
       "        vertical-align: top;\n",
       "    }\n",
       "\n",
       "    .dataframe thead th {\n",
       "        text-align: right;\n",
       "    }\n",
       "</style>\n",
       "<table border=\"1\" class=\"dataframe\">\n",
       "  <thead>\n",
       "    <tr style=\"text-align: right;\">\n",
       "      <th></th>\n",
       "      <th>team_id</th>\n",
       "      <th>lineup</th>\n",
       "      <th>formations</th>\n",
       "      <th>events</th>\n",
       "    </tr>\n",
       "  </thead>\n",
       "  <tbody>\n",
       "    <tr>\n",
       "      <th>147</th>\n",
       "      <td>147</td>\n",
       "      <td>[{'player_id': 2941, 'birth_date': '1998-02-25...</td>\n",
       "      <td>[{'period': 1, 'timestamp': '00:00:00.000', 'r...</td>\n",
       "      <td>[{'period': 1, 'timestamp': '00:00:00.000', 't...</td>\n",
       "    </tr>\n",
       "    <tr>\n",
       "      <th>156</th>\n",
       "      <td>156</td>\n",
       "      <td>[{'player_id': 7378, 'birth_date': '1987-09-28...</td>\n",
       "      <td>[{'period': 1, 'timestamp': '00:00:00.000', 'r...</td>\n",
       "      <td>[{'period': 1, 'timestamp': '00:00:00.000', 't...</td>\n",
       "    </tr>\n",
       "  </tbody>\n",
       "</table>\n",
       "</div>"
      ],
      "text/plain": [
       "    team_id                                             lineup  \\\n",
       "147     147  [{'player_id': 2941, 'birth_date': '1998-02-25...   \n",
       "156     156  [{'player_id': 7378, 'birth_date': '1987-09-28...   \n",
       "\n",
       "                                            formations  \\\n",
       "147  [{'period': 1, 'timestamp': '00:00:00.000', 'r...   \n",
       "156  [{'period': 1, 'timestamp': '00:00:00.000', 'r...   \n",
       "\n",
       "                                                events  \n",
       "147  [{'period': 1, 'timestamp': '00:00:00.000', 't...  \n",
       "156  [{'period': 1, 'timestamp': '00:00:00.000', 't...  "
      ]
     },
     "execution_count": 19,
     "metadata": {},
     "output_type": "execute_result"
    }
   ],
   "source": [
    "lineup.transpose()"
   ]
  },
  {
   "cell_type": "code",
   "execution_count": 16,
   "metadata": {},
   "outputs": [
    {
     "data": {
      "text/plain": [
       "{'player_id': 2941,\n",
       " 'birth_date': '1998-02-25',\n",
       " 'player_gender': 'male',\n",
       " 'player_height': 185.0,\n",
       " 'player_weight': 76.0,\n",
       " 'jersey_number': 23,\n",
       " 'country': {'id': 202, 'name': 'Senegal'},\n",
       " 'positions': [{'position_id': 12,\n",
       "   'position': 'Right Midfield',\n",
       "   'from': '00:50:13.226',\n",
       "   'to': None,\n",
       "   'from_period': 2,\n",
       "   'to_period': None,\n",
       "   'start_reason': 'Substitution - On (Injury)',\n",
       "   'end_reason': 'Final Whistle',\n",
       "   'counterpart_id': 316514}],\n",
       " 'stats': {'own_goals': 0,\n",
       "  'goals': 0,\n",
       "  'assists': 1,\n",
       "  'penalties_scored': 0,\n",
       "  'penalties_missed': 0,\n",
       "  'penalties_saved': 0}}"
      ]
     },
     "execution_count": 16,
     "metadata": {},
     "output_type": "execute_result"
    }
   ],
   "source": [
    "lineup.loc[\"lineup\"].loc[147][0]"
   ]
  },
  {
   "cell_type": "code",
   "execution_count": 2,
   "metadata": {},
   "outputs": [
    {
     "name": "stderr",
     "output_type": "stream",
     "text": [
      "C:\\Users\\natha\\AppData\\Local\\Temp\\ipykernel_21284\\343757373.py:1: FutureWarning: The behavior of 'to_datetime' with 'unit' when parsing strings is deprecated. In a future version, strings will be parsed as datetime strings, matching the behavior without a 'unit'. To retain the old behavior, explicitly cast ints or floats to numeric type before calling to_datetime.\n",
      "  data = pd.read_json(\"Projet_centres_data/SB_events/3894037.json\")\n",
      "C:\\Users\\natha\\AppData\\Local\\Temp\\ipykernel_21284\\343757373.py:1: FutureWarning: The behavior of 'to_datetime' with 'unit' when parsing strings is deprecated. In a future version, strings will be parsed as datetime strings, matching the behavior without a 'unit'. To retain the old behavior, explicitly cast ints or floats to numeric type before calling to_datetime.\n",
      "  data = pd.read_json(\"Projet_centres_data/SB_events/3894037.json\")\n",
      "C:\\Users\\natha\\AppData\\Local\\Temp\\ipykernel_21284\\343757373.py:1: FutureWarning: The behavior of 'to_datetime' with 'unit' when parsing strings is deprecated. In a future version, strings will be parsed as datetime strings, matching the behavior without a 'unit'. To retain the old behavior, explicitly cast ints or floats to numeric type before calling to_datetime.\n",
      "  data = pd.read_json(\"Projet_centres_data/SB_events/3894037.json\")\n"
     ]
    }
   ],
   "source": [
    "data = pd.read_json(\"Projet_centres_data/SB_events/3894037.json\")"
   ]
  },
  {
   "cell_type": "code",
   "execution_count": 3,
   "metadata": {},
   "outputs": [],
   "source": [
    "frame = pd.read_json(\"Projet_centres_data/SKC_crosses_freeze_frames/1020753.json\")"
   ]
  },
  {
   "cell_type": "code",
   "execution_count": 5,
   "metadata": {},
   "outputs": [
    {
     "data": {
      "text/plain": [
       "[{'track_id': 12772,\n",
       "  'trackable_object': 12772,\n",
       "  'is_visible': False,\n",
       "  'x': 48.3,\n",
       "  'y': 1.54,\n",
       "  'vx': 0.559171807058322,\n",
       "  'vy': 0.026672734014224,\n",
       "  'speed_norm': 0.559807596008363,\n",
       "  'accel_norm': -0.18233884808671402},\n",
       " {'track_id': 29223,\n",
       "  'trackable_object': 29223,\n",
       "  'is_visible': True,\n",
       "  'x': 34.41,\n",
       "  'y': 12.77,\n",
       "  'vx': 2.3788890012471122,\n",
       "  'vy': -1.023792429298519,\n",
       "  'speed_norm': 2.589838569977566,\n",
       "  'accel_norm': -0.011801074302551002},\n",
       " {'track_id': 11365,\n",
       "  'trackable_object': 11365,\n",
       "  'is_visible': True,\n",
       "  'x': 35.55,\n",
       "  'y': 1.13,\n",
       "  'vx': 3.115357130818677,\n",
       "  'vy': -1.043391647284834,\n",
       "  'speed_norm': 3.285440028697304,\n",
       "  'accel_norm': -0.508973391002529},\n",
       " {'track_id': 10296,\n",
       "  'trackable_object': 10296,\n",
       "  'is_visible': True,\n",
       "  'x': 34.48,\n",
       "  'y': 17.88,\n",
       "  'vx': 3.244321973910319,\n",
       "  'vy': 1.854649947753349,\n",
       "  'speed_norm': 3.737024417781993,\n",
       "  'accel_norm': -0.47298022784834703},\n",
       " {'track_id': 69676,\n",
       "  'trackable_object': 69676,\n",
       "  'is_visible': True,\n",
       "  'x': 34.7,\n",
       "  'y': -5.14,\n",
       "  'vx': 3.537258570128341,\n",
       "  'vy': -0.6128577206997511,\n",
       "  'speed_norm': 3.5899572111332603,\n",
       "  'accel_norm': 0.059519512664826},\n",
       " {'track_id': 25958,\n",
       "  'trackable_object': 25958,\n",
       "  'is_visible': True,\n",
       "  'x': 23.05,\n",
       "  'y': 15.71,\n",
       "  'vx': 4.975937910809863,\n",
       "  'vy': 0.916005999932559,\n",
       "  'speed_norm': 5.05954791302022,\n",
       "  'accel_norm': -1.090140626800107},\n",
       " {'track_id': 48464,\n",
       "  'trackable_object': 48464,\n",
       "  'is_visible': True,\n",
       "  'x': 31.2,\n",
       "  'y': 4.11,\n",
       "  'vx': 3.666651498297668,\n",
       "  'vy': 2.154729160346455,\n",
       "  'speed_norm': 4.252903827317974,\n",
       "  'accel_norm': -0.12172558894480101},\n",
       " {'track_id': 24085,\n",
       "  'trackable_object': 24085,\n",
       "  'is_visible': False,\n",
       "  'x': 25.01,\n",
       "  'y': 7.07,\n",
       "  'vx': 0.663725688475397,\n",
       "  'vy': 0.884728823271626,\n",
       "  'speed_norm': 1.106018480980194,\n",
       "  'accel_norm': 0.25544841628662},\n",
       " {'track_id': 24791,\n",
       "  'trackable_object': 24791,\n",
       "  'is_visible': False,\n",
       "  'x': 5.31,\n",
       "  'y': 14.16,\n",
       "  'vx': 0.697237671486819,\n",
       "  'vy': 1.422904237031007,\n",
       "  'speed_norm': 1.584549411757537,\n",
       "  'accel_norm': 0.8200348712425021},\n",
       " {'track_id': 32352,\n",
       "  'trackable_object': 32352,\n",
       "  'is_visible': True,\n",
       "  'x': 23.98,\n",
       "  'y': -4.67,\n",
       "  'vx': 1.6261721778406542,\n",
       "  'vy': 0.13720463815013,\n",
       "  'speed_norm': 1.631950080337301,\n",
       "  'accel_norm': -0.032266744006363},\n",
       " {'track_id': 75746,\n",
       "  'trackable_object': 75746,\n",
       "  'is_visible': True,\n",
       "  'x': 19.83,\n",
       "  'y': 1.81,\n",
       "  'vx': 1.270354265682378,\n",
       "  'vy': 2.341380995719086,\n",
       "  'speed_norm': 2.663806473348226,\n",
       "  'accel_norm': 0.086750229333069},\n",
       " {'track_id': 12697,\n",
       "  'trackable_object': 12697,\n",
       "  'is_visible': False,\n",
       "  'x': -27.3,\n",
       "  'y': 2.66,\n",
       "  'vx': 0.023499174166582003,\n",
       "  'vy': -0.271463241986038,\n",
       "  'speed_norm': 0.27247844490176004,\n",
       "  'accel_norm': 0.033842598805791005},\n",
       " {'track_id': 9525,\n",
       "  'trackable_object': 9525,\n",
       "  'is_visible': True,\n",
       "  'x': 33.14,\n",
       "  'y': 0.26,\n",
       "  'vx': 4.166772845248824,\n",
       "  'vy': -1.610643138841093,\n",
       "  'speed_norm': 4.467232618142788,\n",
       "  'accel_norm': 0.43904037798286305},\n",
       " {'track_id': 1743,\n",
       "  'trackable_object': 1743,\n",
       "  'is_visible': True,\n",
       "  'x': 9.58,\n",
       "  'y': -4.46,\n",
       "  'vx': -0.8862658846529561,\n",
       "  'vy': 1.1593083223783691,\n",
       "  'speed_norm': 1.459267968755374,\n",
       "  'accel_norm': -0.8434283087279371},\n",
       " {'track_id': 19399,\n",
       "  'trackable_object': 19399,\n",
       "  'is_visible': False,\n",
       "  'x': 3.0,\n",
       "  'y': -0.5700000000000001,\n",
       "  'vx': 1.497079246300563,\n",
       "  'vy': 0.142279300232578,\n",
       "  'speed_norm': 1.503825012751993,\n",
       "  'accel_norm': 0.202478697878051},\n",
       " {'track_id': 24702,\n",
       "  'trackable_object': 24702,\n",
       "  'is_visible': True,\n",
       "  'x': 27.67,\n",
       "  'y': 20.1,\n",
       "  'vx': 0.914128492938258,\n",
       "  'vy': -0.19864664441972302,\n",
       "  'speed_norm': 0.9354631959306501,\n",
       "  'accel_norm': -0.15722857305304},\n",
       " {'track_id': 3826,\n",
       "  'trackable_object': 3826,\n",
       "  'is_visible': True,\n",
       "  'x': 22.56,\n",
       "  'y': 9.51,\n",
       "  'vx': -0.536399029224376,\n",
       "  'vy': 1.081327737890559,\n",
       "  'speed_norm': 1.207059897140307,\n",
       "  'accel_norm': -1.8216366522995462},\n",
       " {'track_id': 10629,\n",
       "  'trackable_object': 10629,\n",
       "  'is_visible': True,\n",
       "  'x': 22.89,\n",
       "  'y': 12.24,\n",
       "  'vx': -0.46927899686519203,\n",
       "  'vy': 0.838146762395905,\n",
       "  'speed_norm': 0.9605793940188071,\n",
       "  'accel_norm': -0.6410304113325791},\n",
       " {'track_id': 509189,\n",
       "  'trackable_object': 509189,\n",
       "  'is_visible': True,\n",
       "  'x': 22.62,\n",
       "  'y': -6.41,\n",
       "  'vx': 3.3577611487510532,\n",
       "  'vy': -0.777158121818834,\n",
       "  'speed_norm': 3.446525014905734,\n",
       "  'accel_norm': 0.056281891202725004},\n",
       " {'track_id': 25915,\n",
       "  'trackable_object': 25915,\n",
       "  'is_visible': True,\n",
       "  'x': 31.44,\n",
       "  'y': 23.98,\n",
       "  'vx': 3.925833417601935,\n",
       "  'vy': 2.057407220143545,\n",
       "  'speed_norm': 4.432278476388739,\n",
       "  'accel_norm': -0.8824323438603681},\n",
       " {'track_id': 39002,\n",
       "  'trackable_object': 39002,\n",
       "  'is_visible': True,\n",
       "  'x': 32.53,\n",
       "  'y': -6.11,\n",
       "  'vx': 3.498299457309373,\n",
       "  'vy': -1.217445309603233,\n",
       "  'speed_norm': 3.704088575464411,\n",
       "  'accel_norm': 0.8250583668689371},\n",
       " {'track_id': 36151,\n",
       "  'trackable_object': 36151,\n",
       "  'is_visible': True,\n",
       "  'x': 29.43,\n",
       "  'y': 15.2,\n",
       "  'vx': 3.780687295648264,\n",
       "  'vy': -2.045309603262828,\n",
       "  'speed_norm': 4.298475055258008,\n",
       "  'accel_norm': 0.7671190463067461},\n",
       " {'track_id': 55,\n",
       "  'trackable_object': 55,\n",
       "  'is_visible': False,\n",
       "  'x': 27.67,\n",
       "  'y': 17.69,\n",
       "  'z': 0.48}]"
      ]
     },
     "execution_count": 6,
     "metadata": {},
     "output_type": "execute_result"
    }
   ],
   "source": [
    "frame.iloc[0].data"
   ]
  },
  {
   "cell_type": "code",
   "execution_count": 5,
   "metadata": {},
   "outputs": [
    {
     "data": {
      "text/plain": [
       "0       02591dfb-4789-442f-ae99-53ac3f3aca81\n",
       "1       a5620f61-b542-46c8-b0b4-8e2daf267e84\n",
       "2       bbd8311a-1edb-4798-8e7a-5ff7d354a4d3\n",
       "3       ff601794-6a77-45ae-a6e5-c748c233c454\n",
       "4       8b59fc6a-ad7f-4d6e-a6d5-8973057972c0\n",
       "                        ...                 \n",
       "3141    43647a17-93a4-46a9-b89b-655438ede887\n",
       "3142    6f4c1ea0-68c8-4473-8178-39013f501946\n",
       "3143    7d1d16a1-7854-4804-b73b-54887de62f3c\n",
       "3144    04e7a531-16f5-4999-a699-d7df16afb5f9\n",
       "3145    a7086974-eeda-4fe5-8dad-20ed85806cf1\n",
       "Name: id, Length: 3146, dtype: object"
      ]
     },
     "execution_count": 5,
     "metadata": {},
     "output_type": "execute_result"
    }
   ],
   "source": [
    "data.id"
   ]
  },
  {
   "cell_type": "code",
   "execution_count": 4,
   "metadata": {},
   "outputs": [
    {
     "data": {
      "text/plain": [
       "['50_50',\n",
       " 'ball_receipt_outcome',\n",
       " 'ball_recovery_offensive',\n",
       " 'ball_recovery_recovery_failure',\n",
       " 'block_deflection',\n",
       " 'block_offensive',\n",
       " 'carry_end_location',\n",
       " 'clearance_aerial_won',\n",
       " 'clearance_body_part',\n",
       " 'clearance_head',\n",
       " 'clearance_left_foot',\n",
       " 'clearance_other',\n",
       " 'clearance_right_foot',\n",
       " 'counterpress',\n",
       " 'dribble_nutmeg',\n",
       " 'dribble_outcome',\n",
       " 'dribble_overrun',\n",
       " 'duel_outcome',\n",
       " 'duel_type',\n",
       " 'duration',\n",
       " 'foul_committed_advantage',\n",
       " 'foul_committed_card',\n",
       " 'foul_committed_offensive',\n",
       " 'foul_committed_type',\n",
       " 'foul_won_advantage',\n",
       " 'foul_won_defensive',\n",
       " 'goalkeeper_body_part',\n",
       " 'goalkeeper_end_location',\n",
       " 'goalkeeper_outcome',\n",
       " 'goalkeeper_position',\n",
       " 'goalkeeper_shot_saved_off_target',\n",
       " 'goalkeeper_technique',\n",
       " 'goalkeeper_type',\n",
       " 'id',\n",
       " 'index',\n",
       " 'injury_stoppage_in_chain',\n",
       " 'interception_outcome',\n",
       " 'location',\n",
       " 'match_id',\n",
       " 'minute',\n",
       " 'obv_against_after',\n",
       " 'obv_against_before',\n",
       " 'obv_against_net',\n",
       " 'obv_for_after',\n",
       " 'obv_for_before',\n",
       " 'obv_for_net',\n",
       " 'obv_total_net',\n",
       " 'off_camera',\n",
       " 'out',\n",
       " 'pass_aerial_won',\n",
       " 'pass_angle',\n",
       " 'pass_assisted_shot_id',\n",
       " 'pass_body_part',\n",
       " 'pass_cross',\n",
       " 'pass_cut_back',\n",
       " 'pass_end_location',\n",
       " 'pass_goal_assist',\n",
       " 'pass_height',\n",
       " 'pass_inswinging',\n",
       " 'pass_length',\n",
       " 'pass_outcome',\n",
       " 'pass_outswinging',\n",
       " 'pass_pass_cluster_id',\n",
       " 'pass_pass_cluster_label',\n",
       " 'pass_pass_cluster_probability',\n",
       " 'pass_pass_success_probability',\n",
       " 'pass_recipient_id',\n",
       " 'pass_shot_assist',\n",
       " 'pass_switch',\n",
       " 'pass_technique',\n",
       " 'pass_through_ball',\n",
       " 'pass_type',\n",
       " 'period',\n",
       " 'play_pattern',\n",
       " 'player_id',\n",
       " 'position',\n",
       " 'possession',\n",
       " 'possession_team_id',\n",
       " 'related_events',\n",
       " 'second',\n",
       " 'shot_aerial_won',\n",
       " 'shot_body_part',\n",
       " 'shot_deflected',\n",
       " 'shot_end_location',\n",
       " 'shot_first_time',\n",
       " 'shot_freeze_frame',\n",
       " 'shot_gk_positioning_xg_suppression',\n",
       " 'shot_gk_save_difficulty_xg',\n",
       " 'shot_gk_shot_stopping_xg_suppression',\n",
       " 'shot_key_pass_id',\n",
       " 'shot_one_on_one',\n",
       " 'shot_outcome',\n",
       " 'shot_saved_off_target',\n",
       " 'shot_shot_execution_xg',\n",
       " 'shot_shot_execution_xg_uplift',\n",
       " 'shot_shot_shot_assist',\n",
       " 'shot_statsbomb_xg',\n",
       " 'shot_technique',\n",
       " 'shot_type',\n",
       " 'substitution_outcome',\n",
       " 'substitution_outcome_id',\n",
       " 'substitution_replacement',\n",
       " 'substitution_replacement_id',\n",
       " 'formation',\n",
       " 'team_id',\n",
       " 'timestamp',\n",
       " 'type',\n",
       " 'under_pressure']"
      ]
     },
     "execution_count": 4,
     "metadata": {},
     "output_type": "execute_result"
    }
   ],
   "source": [
    "data.columns.tolist()"
   ]
  },
  {
   "cell_type": "code",
   "execution_count": 58,
   "metadata": {},
   "outputs": [],
   "source": [
    "colonnes = [\"shot_type\", \"shot_outcome\", \"type\", \"match_id\", \"period\", \"possession\", \"location\", \"pass_cross\", \"pass_type\", \"index\",\n",
    "            \"pass_end_location\", \"minute\", \"shot_end_location\", \"pass_body_part\"]\n",
    "\n",
    "df = data[colonnes]"
   ]
  },
  {
   "cell_type": "code",
   "execution_count": 66,
   "metadata": {},
   "outputs": [],
   "source": [
    "colonnes = [\"shot_type\", \"shot_outcome\", \"type\", \"match_id\", \"period\", \"possession\", \"location\", \"pass_cross\", \"pass_type\", \"index\",\n",
    "            \"pass_end_location\", \"minute\", \"shot_end_location\", \"pass_body_part\"]\n",
    "\n",
    "df = data[colonnes].reset_index().rename({\"index\" : \"index_event\"}, axis = 1)\n",
    "\n",
    "df_loc = df.pop(\"location\").dropna()\n",
    "df_loc = pd.DataFrame(df_loc.tolist(), index = df_loc.index, columns = [\"x_loc\", \"y_loc\", \"z_loc\"])\n",
    "\n",
    "df_pass_loc = df.pop(\"pass_end_location\").dropna()\n",
    "df_pass_loc = pd.DataFrame(df_pass_loc.tolist(), index = df_pass_loc.index, columns = [\"x_pass\", \"y_pass\"])\n",
    "\n",
    "df_shot_loc = df.pop(\"shot_end_location\").dropna()\n",
    "df_shot_loc = pd.DataFrame(df_shot_loc.tolist(), index = df_shot_loc.index, columns = [\"x_shot\", \"y_shot\", \"z_shot\"])\n",
    "\n",
    "df = pd.concat([df, df_loc, df_pass_loc, df_shot_loc], axis = 1)"
   ]
  },
  {
   "cell_type": "code",
   "execution_count": 67,
   "metadata": {},
   "outputs": [
    {
     "data": {
      "text/plain": [
       "3146"
      ]
     },
     "execution_count": 67,
     "metadata": {},
     "output_type": "execute_result"
    }
   ],
   "source": [
    "df.to_sql(\"Test event\", con = connect, if_exists = \"replace\")"
   ]
  },
  {
   "cell_type": "code",
   "execution_count": null,
   "metadata": {},
   "outputs": [],
   "source": []
  },
  {
   "cell_type": "code",
   "execution_count": null,
   "metadata": {},
   "outputs": [],
   "source": []
  },
  {
   "cell_type": "code",
   "execution_count": null,
   "metadata": {},
   "outputs": [],
   "source": []
  },
  {
   "cell_type": "code",
   "execution_count": null,
   "metadata": {},
   "outputs": [],
   "source": []
  },
  {
   "cell_type": "code",
   "execution_count": null,
   "metadata": {},
   "outputs": [],
   "source": []
  },
  {
   "cell_type": "code",
   "execution_count": null,
   "metadata": {},
   "outputs": [],
   "source": []
  },
  {
   "cell_type": "code",
   "execution_count": null,
   "metadata": {},
   "outputs": [],
   "source": []
  },
  {
   "cell_type": "code",
   "execution_count": null,
   "metadata": {},
   "outputs": [],
   "source": []
  },
  {
   "cell_type": "code",
   "execution_count": null,
   "metadata": {},
   "outputs": [],
   "source": []
  },
  {
   "cell_type": "code",
   "execution_count": null,
   "metadata": {},
   "outputs": [],
   "source": []
  },
  {
   "cell_type": "code",
   "execution_count": null,
   "metadata": {},
   "outputs": [],
   "source": []
  }
 ],
 "metadata": {
  "kernelspec": {
   "display_name": "env_PROJET",
   "language": "python",
   "name": "python3"
  },
  "language_info": {
   "codemirror_mode": {
    "name": "ipython",
    "version": 3
   },
   "file_extension": ".py",
   "mimetype": "text/x-python",
   "name": "python",
   "nbconvert_exporter": "python",
   "pygments_lexer": "ipython3",
   "version": "3.12.6"
  }
 },
 "nbformat": 4,
 "nbformat_minor": 2
}
