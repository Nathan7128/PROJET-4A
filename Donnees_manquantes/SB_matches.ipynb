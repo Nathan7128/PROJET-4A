{
 "cells": [
  {
   "cell_type": "code",
   "execution_count": 1,
   "metadata": {},
   "outputs": [],
   "source": [
    "import sqlite3\n",
    "import pandas as pd"
   ]
  },
  {
   "cell_type": "code",
   "execution_count": 2,
   "metadata": {},
   "outputs": [],
   "source": [
    "connect = sqlite3.connect(\"../Databases/raw-database.db\")\n",
    "cursor = connect.cursor()"
   ]
  },
  {
   "cell_type": "code",
   "execution_count": 3,
   "metadata": {},
   "outputs": [],
   "source": [
    "req = cursor.execute(f\"SELECT * FROM SB_matches\")\n",
    "res = req.fetchall()\n",
    "desc = req.description\n",
    "SB_matches = pd.DataFrame(res)\n",
    "SB_matches.columns = [i[0] for i in desc]"
   ]
  },
  {
   "cell_type": "code",
   "execution_count": 4,
   "metadata": {},
   "outputs": [
    {
     "data": {
      "text/plain": [
       "match_id_SB              False\n",
       "match_date               False\n",
       "kick_off                 False\n",
       "competition              False\n",
       "season                   False\n",
       "home_team_id_SB          False\n",
       "away_team_id_SB          False\n",
       "home_score                True\n",
       "away_score                True\n",
       "attendance                True\n",
       "behind_closed_doors      False\n",
       "neutral_ground           False\n",
       "collection_status        False\n",
       "play_status              False\n",
       "match_status             False\n",
       "match_status_360         False\n",
       "last_updated             False\n",
       "last_updated_360          True\n",
       "match_week               False\n",
       "competition_stage        False\n",
       "referee                  False\n",
       "data_version             False\n",
       "shot_fidelity_version    False\n",
       "xy_fidelity_version      False\n",
       "dtype: bool"
      ]
     },
     "execution_count": 4,
     "metadata": {},
     "output_type": "execute_result"
    }
   ],
   "source": [
    "SB_matches.isna().any()"
   ]
  },
  {
   "cell_type": "code",
   "execution_count": 5,
   "metadata": {},
   "outputs": [
    {
     "data": {
      "text/html": [
       "<div>\n",
       "<style scoped>\n",
       "    .dataframe tbody tr th:only-of-type {\n",
       "        vertical-align: middle;\n",
       "    }\n",
       "\n",
       "    .dataframe tbody tr th {\n",
       "        vertical-align: top;\n",
       "    }\n",
       "\n",
       "    .dataframe thead th {\n",
       "        text-align: right;\n",
       "    }\n",
       "</style>\n",
       "<table border=\"1\" class=\"dataframe\">\n",
       "  <thead>\n",
       "    <tr style=\"text-align: right;\">\n",
       "      <th></th>\n",
       "      <th>match_id_SB</th>\n",
       "      <th>match_date</th>\n",
       "      <th>kick_off</th>\n",
       "      <th>competition</th>\n",
       "      <th>season</th>\n",
       "      <th>home_team_id_SB</th>\n",
       "      <th>away_team_id_SB</th>\n",
       "      <th>home_score</th>\n",
       "      <th>away_score</th>\n",
       "      <th>attendance</th>\n",
       "      <th>...</th>\n",
       "      <th>match_status</th>\n",
       "      <th>match_status_360</th>\n",
       "      <th>last_updated</th>\n",
       "      <th>last_updated_360</th>\n",
       "      <th>match_week</th>\n",
       "      <th>competition_stage</th>\n",
       "      <th>referee</th>\n",
       "      <th>data_version</th>\n",
       "      <th>shot_fidelity_version</th>\n",
       "      <th>xy_fidelity_version</th>\n",
       "    </tr>\n",
       "  </thead>\n",
       "  <tbody>\n",
       "    <tr>\n",
       "      <th>183</th>\n",
       "      <td>3894318</td>\n",
       "      <td>2024-04-07</td>\n",
       "      <td>20:45:00.000</td>\n",
       "      <td>France - Ligue 1</td>\n",
       "      <td>2023/2024</td>\n",
       "      <td>144</td>\n",
       "      <td>137</td>\n",
       "      <td>1.0</td>\n",
       "      <td>3.0</td>\n",
       "      <td>NaN</td>\n",
       "      <td>...</td>\n",
       "      <td>available</td>\n",
       "      <td>available</td>\n",
       "      <td>2024-06-03T23:05:19.420026</td>\n",
       "      <td>2024-06-26T12:11:11.944558</td>\n",
       "      <td>28</td>\n",
       "      <td>Regular Season</td>\n",
       "      <td>Jérôme Brisard</td>\n",
       "      <td>1.1.0</td>\n",
       "      <td>2</td>\n",
       "      <td>2</td>\n",
       "    </tr>\n",
       "  </tbody>\n",
       "</table>\n",
       "<p>1 rows × 24 columns</p>\n",
       "</div>"
      ],
      "text/plain": [
       "     match_id_SB  match_date      kick_off       competition     season  \\\n",
       "183      3894318  2024-04-07  20:45:00.000  France - Ligue 1  2023/2024   \n",
       "\n",
       "     home_team_id_SB  away_team_id_SB  home_score  away_score  attendance  \\\n",
       "183              144              137         1.0         3.0         NaN   \n",
       "\n",
       "     ...  match_status  match_status_360                last_updated  \\\n",
       "183  ...     available         available  2024-06-03T23:05:19.420026   \n",
       "\n",
       "               last_updated_360 match_week competition_stage         referee  \\\n",
       "183  2024-06-26T12:11:11.944558         28    Regular Season  Jérôme Brisard   \n",
       "\n",
       "    data_version  shot_fidelity_version xy_fidelity_version  \n",
       "183        1.1.0                      2                   2  \n",
       "\n",
       "[1 rows x 24 columns]"
      ]
     },
     "execution_count": 5,
     "metadata": {},
     "output_type": "execute_result"
    }
   ],
   "source": [
    "SB_matches[SB_matches.attendance.isna()]"
   ]
  },
  {
   "cell_type": "markdown",
   "metadata": {},
   "source": [
    "Aucune données manquantes, hormis pour Nantes-OL pour la donnée attendance correspondant au nombre de supporters dans le stade"
   ]
  }
 ],
 "metadata": {
  "kernelspec": {
   "display_name": "env_PROJET",
   "language": "python",
   "name": "python3"
  },
  "language_info": {
   "codemirror_mode": {
    "name": "ipython",
    "version": 3
   },
   "file_extension": ".py",
   "mimetype": "text/x-python",
   "name": "python",
   "nbconvert_exporter": "python",
   "pygments_lexer": "ipython3",
   "version": "3.12.6"
  }
 },
 "nbformat": 4,
 "nbformat_minor": 2
}
